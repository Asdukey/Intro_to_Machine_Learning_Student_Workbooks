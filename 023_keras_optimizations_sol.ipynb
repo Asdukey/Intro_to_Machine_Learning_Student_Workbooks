{
  "cells": [
    {
      "cell_type": "code",
      "execution_count": 1,
      "metadata": {
        "id": "PTC5srJ2bYG9"
      },
      "outputs": [
        {
          "name": "stderr",
          "output_type": "stream",
          "text": [
            "2023-03-19 14:23:48.164387: I tensorflow/core/platform/cpu_feature_guard.cc:193] This TensorFlow binary is optimized with oneAPI Deep Neural Network Library (oneDNN) to use the following CPU instructions in performance-critical operations:  AVX2 AVX512F AVX512_VNNI FMA\n",
            "To enable them in other operations, rebuild TensorFlow with the appropriate compiler flags.\n"
          ]
        }
      ],
      "source": [
        "import numpy as np\n",
        "import pandas as pd\n",
        "import tensorflow as tf\n",
        "from tensorflow import keras \n",
        "from tensorflow.keras import layers\n",
        "#from tensorflow.keras import Sequential\n",
        "#from tensorflow.keras import Dense, Dropout\n",
        "from keras.models import Sequential\n",
        "from keras.layers import Dense, Dropout, Flatten, InputLayer, Reshape\n",
        "from sklearn.model_selection import train_test_split\n",
        "from sklearn.metrics import mean_absolute_error\n",
        "from sklearn.preprocessing import StandardScaler\n",
        "from keras import metrics\n",
        "\n",
        "from keras.utils import np_utils\n",
        "\n",
        "import matplotlib as mpl\n",
        "import matplotlib.pyplot as plt\n",
        "from sklearn.decomposition import TruncatedSVD\n",
        "import seaborn as sns"
      ]
    },
    {
      "cell_type": "code",
      "execution_count": 2,
      "metadata": {
        "id": "kt2r1tfRg0cj"
      },
      "outputs": [],
      "source": [
        "# Helper to plot loss\n",
        "def plot_loss(history):\n",
        "  plt.plot(history.history['loss'], label='loss')\n",
        "  plt.plot(history.history['val_loss'], label='val_loss')\n",
        "  plt.legend()\n",
        "  plt.grid(True)"
      ]
    },
    {
      "cell_type": "markdown",
      "metadata": {
        "id": "SS8tDLiFbYG_"
      },
      "source": [
        "# Keras and Tensorflow Optimizations\n",
        "\n",
        "There are several things that we can do to make our networks a bit better. Unfortunately for much of this there aren't definitive answers for \"what is the best choice\", so we do have to do some trial and error, but we can use some guidelines to get us started in the right direction. "
      ]
    },
    {
      "cell_type": "markdown",
      "metadata": {
        "id": "tQLYUA1XbYHB"
      },
      "source": [
        "## Load MNIST Data\n",
        "\n",
        "We can use the MNIST digit dataset for testing, since it is reasonably large. "
      ]
    },
    {
      "cell_type": "code",
      "execution_count": 3,
      "metadata": {
        "colab": {
          "base_uri": "https://localhost:8080/"
        },
        "id": "cGygrQlobYHC",
        "outputId": "e48ea85c-2032-4ddc-85bf-4a02dd76b7f4"
      },
      "outputs": [
        {
          "name": "stdout",
          "output_type": "stream",
          "text": [
            "(60000, 28, 28)\n"
          ]
        },
        {
          "name": "stderr",
          "output_type": "stream",
          "text": [
            "2023-03-19 14:24:11.100000: I tensorflow/core/platform/cpu_feature_guard.cc:193] This TensorFlow binary is optimized with oneAPI Deep Neural Network Library (oneDNN) to use the following CPU instructions in performance-critical operations:  AVX2 AVX512F AVX512_VNNI FMA\n",
            "To enable them in other operations, rebuild TensorFlow with the appropriate compiler flags.\n"
          ]
        },
        {
          "name": "stdout",
          "output_type": "stream",
          "text": [
            "Epoch 1/10\n",
<<<<<<< HEAD
            "1500/1500 [==============================] - 12s 8ms/step - loss: 0.2254 - accuracy: 0.9334 - val_loss: 0.1128 - val_accuracy: 0.9673\n",
            "Epoch 2/10\n",
            "1500/1500 [==============================] - 11s 7ms/step - loss: 0.0911 - accuracy: 0.9728 - val_loss: 0.0910 - val_accuracy: 0.9711\n",
            "Epoch 3/10\n",
            "1500/1500 [==============================] - 11s 7ms/step - loss: 0.0571 - accuracy: 0.9825 - val_loss: 0.0811 - val_accuracy: 0.9753\n",
            "Epoch 4/10\n",
            "1500/1500 [==============================] - 11s 7ms/step - loss: 0.0407 - accuracy: 0.9868 - val_loss: 0.0848 - val_accuracy: 0.9734\n",
            "Epoch 5/10\n",
            "1500/1500 [==============================] - 11s 7ms/step - loss: 0.0277 - accuracy: 0.9914 - val_loss: 0.0729 - val_accuracy: 0.9787\n",
            "Epoch 6/10\n",
            "1500/1500 [==============================] - 10s 7ms/step - loss: 0.0229 - accuracy: 0.9927 - val_loss: 0.0902 - val_accuracy: 0.9743\n",
            "Epoch 7/10\n",
            "1500/1500 [==============================] - 10s 7ms/step - loss: 0.0162 - accuracy: 0.9945 - val_loss: 0.1084 - val_accuracy: 0.9732\n",
            "Epoch 8/10\n",
            "1500/1500 [==============================] - 10s 7ms/step - loss: 0.0150 - accuracy: 0.9951 - val_loss: 0.1034 - val_accuracy: 0.9768\n",
            "Epoch 9/10\n",
            "1500/1500 [==============================] - 11s 7ms/step - loss: 0.0139 - accuracy: 0.9954 - val_loss: 0.0977 - val_accuracy: 0.9766\n",
            "Epoch 10/10\n",
            "1500/1500 [==============================] - 11s 7ms/step - loss: 0.0084 - accuracy: 0.9975 - val_loss: 0.0950 - val_accuracy: 0.9774\n",
            "313/313 [==============================] - 1s 2ms/step - loss: 0.0897 - accuracy: 0.9786\n"
=======
            "1500/1500 [==============================] - 5s 3ms/step - loss: 0.2242 - accuracy: 0.9349 - val_loss: 0.1230 - val_accuracy: 0.9603\n",
            "Epoch 2/10\n",
            "1500/1500 [==============================] - 4s 3ms/step - loss: 0.0911 - accuracy: 0.9725 - val_loss: 0.1013 - val_accuracy: 0.9686\n",
            "Epoch 3/10\n",
            "1500/1500 [==============================] - 4s 3ms/step - loss: 0.0562 - accuracy: 0.9822 - val_loss: 0.0810 - val_accuracy: 0.9748\n",
            "Epoch 4/10\n",
            "1500/1500 [==============================] - 4s 3ms/step - loss: 0.0406 - accuracy: 0.9872 - val_loss: 0.0843 - val_accuracy: 0.9749\n",
            "Epoch 5/10\n",
            "1500/1500 [==============================] - 4s 3ms/step - loss: 0.0291 - accuracy: 0.9906 - val_loss: 0.0796 - val_accuracy: 0.9780\n",
            "Epoch 6/10\n",
            "1500/1500 [==============================] - 4s 3ms/step - loss: 0.0225 - accuracy: 0.9926 - val_loss: 0.1126 - val_accuracy: 0.9730\n",
            "Epoch 7/10\n",
            "1500/1500 [==============================] - 5s 3ms/step - loss: 0.0164 - accuracy: 0.9948 - val_loss: 0.0973 - val_accuracy: 0.9770\n",
            "Epoch 8/10\n",
            "1500/1500 [==============================] - 5s 3ms/step - loss: 0.0159 - accuracy: 0.9947 - val_loss: 0.0916 - val_accuracy: 0.9774\n",
            "Epoch 9/10\n",
            "1500/1500 [==============================] - 4s 3ms/step - loss: 0.0106 - accuracy: 0.9964 - val_loss: 0.1039 - val_accuracy: 0.9754\n",
            "Epoch 10/10\n",
            "1500/1500 [==============================] - 4s 3ms/step - loss: 0.0119 - accuracy: 0.9962 - val_loss: 0.1009 - val_accuracy: 0.9793\n",
            "313/313 [==============================] - 0s 1ms/step - loss: 0.0900 - accuracy: 0.9801\n"
>>>>>>> 3a2dab455d86309b944869f9d55ca1f1bbb41dfe
          ]
        },
        {
          "data": {
<<<<<<< HEAD
            "image/png": "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",
=======
            "image/png": "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",
>>>>>>> 3a2dab455d86309b944869f9d55ca1f1bbb41dfe
            "text/plain": [
              "<Figure size 432x288 with 1 Axes>"
            ]
          },
          "metadata": {
            "needs_background": "light"
          },
          "output_type": "display_data"
        }
      ],
      "source": [
        "# Load MNIST dataset\n",
        "mnist = keras.datasets.mnist\n",
        "(train_images, train_labels), (test_images, test_labels) = mnist.load_data()\n",
        "\n",
        "# Normalize the input image so that each pixel value is between 0 and 1.\n",
        "train_images = train_images / 255.0\n",
        "test_images = test_images / 255.0\n",
        "\n",
        "print(train_images.shape)\n",
        "\n",
        "train_labels = np_utils.to_categorical(train_labels)\n",
        "test_labels = np_utils.to_categorical(test_labels)\n",
        "\n",
        "model = keras.Sequential()\n",
        "model.add(InputLayer(input_shape=(28, 28)))\n",
        "model.add(Flatten())\n",
        "model.add(Dense(512, activation='relu'))\n",
        "model.add(Dense(10, activation=\"softmax\"))\n",
        "\n",
        "# Train the digit classification model\n",
        "model.compile(optimizer='adam', loss=\"categorical_crossentropy\", metrics='accuracy')\n",
        "\n",
        "train_log = model.fit(\n",
        "  train_images,\n",
        "  train_labels,\n",
        "  epochs=10,\n",
        "  validation_split=0.2,\n",
        ")\n",
        "model.evaluate(test_images, test_labels)\n",
        "plot_loss(train_log)"
      ]
    },
    {
      "cell_type": "markdown",
      "metadata": {
        "id": "hsycEGiGbYHE"
      },
      "source": [
        "## Prequel - Saving and Loading Models\n",
        "\n",
        "As we've seen, models can take a long time to train in many cases. Like with the sklearn models, we can save and load ours as they are trained and reused. This is a pretty integral part of making neural network models usable, so it is pretty easy. \n",
        "\n",
        "In addition to this we often see models saved in the h5 format, which just saves slightly less stuff along with the model. If we are using models trained elsewhere this format is very common. "
      ]
    },
    {
      "cell_type": "code",
      "execution_count": 4,
      "metadata": {
        "colab": {
          "base_uri": "https://localhost:8080/"
        },
        "id": "G2PSIZDbbYHE",
        "outputId": "37aa2093-e7d5-4680-fac9-ba4045372d96"
      },
      "outputs": [
        {
          "name": "stderr",
          "output_type": "stream",
          "text": [
            "WARNING:absl:Found untraced functions such as _update_step_xla while saving (showing 1 of 1). These functions will not be directly callable after loading.\n"
          ]
        },
        {
          "name": "stdout",
          "output_type": "stream",
          "text": [
            "INFO:tensorflow:Assets written to: model_path\\assets\n"
          ]
        },
        {
          "name": "stderr",
          "output_type": "stream",
          "text": [
            "INFO:tensorflow:Assets written to: model_path\\assets\n"
          ]
        },
        {
          "name": "stderr",
          "output_type": "stream",
          "text": [
            "INFO:tensorflow:Assets written to: model_path/assets\n"
          ]
        }
      ],
      "source": [
        "# Save my model\n",
        "model.save('model_path')\n",
        "model = keras.models.load_model('model_path')"
      ]
    },
    {
      "cell_type": "code",
      "execution_count": 5,
      "metadata": {
        "id": "lEJgmNFYbYHE"
      },
      "outputs": [],
      "source": [
        "# Calling `save('my_model.h5')` creates a h5 file `my_model.h5`.\n",
        "model.save(\"my_h5_model.h5\")\n",
        "\n",
        "# It can be used to reconstruct the model identically.\n",
        "reconstructed_model = keras.models.load_model(\"my_h5_model.h5\")"
      ]
    },
    {
      "attachments": {},
      "cell_type": "markdown",
      "metadata": {
        "id": "DoRkV4nTbYHF"
      },
      "source": [
        "## Network Size\n",
        "\n",
        "Probably the first question that we will think of when building networks through Tensorflow is \"how big should it be\"? This is a very big question, and one of those ones without a real answer. We can put some guidelines in place to help us though. \n",
        "\n",
        "### What Does the Size Mean?\n",
        "\n",
        "The size of a neural network is also known as the capacity. We can relate it roughly to the size of our first model, the tree. The larger a network is the higher its capacity to learn. This is similar to a tree, the larger the tree, the more fitted it can become to the training data. \n",
        "\n",
        "### What Size to Use?\n",
        "\n",
        "We can start with a few guidelines to have a reasonably sized neural network. These steps do not ensure an optimal solution, but they'll get us started. There really is not a prescribed method for calculating the optimal network size (beleive me, I've looked), but there are several rules of thumb we can build together to get a rough estimate of a starting point for sizing:\n",
        "\n",
        "<ul>\n",
        "<li> Start with an input layer that is either\n",
        "    <ul>\n",
        "    <li> The width of the data, if the feature set is relatively small. \n",
        "    <li> A reasonably large number if the feature set is large. \n",
        "    <li> We don't have a true diving line, but 512 is a reasonable value to try for an upper end, at least at first. \n",
        "    </ul>\n",
        "<li> Add 1 or 2 hidden layers of the same size and observe the results. We want to keep the model smaller if making it larger doesn't improve things, so first we shoudl see how good of a job a small model does. If the data is very large, skipping past the 1 layer step may save some time since we can predict that we can do better with a larger model in advance. \n",
        "<li> Increase layers of the same size until we get some overfitting and the training loss flattens. We want to reach the point where the model is getting to be excellent at predicting the training data. This is something we can see in the plot by noticing that the validation loss flatlines or starts to get worse. The training loss flattening is an indication that the model is not getting any better at learning the training data; we can use early stopping with a loose patience setting on training loss and lots of epochs to find this. \n",
        "<li> Add regularization steps to cut down that overfitting. We can try regularization and dropouts to cut down on that overfitting. We probably want to try a few options, parameters, and combinations here, there's not really a way to know in advance which regularization will work best on our data. \n",
        "<li> Do a test of \"funneling\" the layer size, potentially adding more layers. The traditional configuration of layers is to gradually decrease the size from the input layer towards the output layer. There is open debate on if this is better than having layers that are all the same size. We can play with this a little to see if results improve or not. \n",
        "<li> Use pruning. Much like a tree we can prune back a model to fight overfitting. \n",
        "</ul>\n",
        "\n",
        "### Height vs Width\n",
        "\n",
        "Another begged question is should we make networks wider (more neurons) or deeper (more layers)? To that effect, we can also think about what happens as layers are added. Each layer allows the network to learn a different representation of the data, and if we flash back to the simple logistic regression and XOR examples, each layer allows the model to capture relationships that are more complex:\n",
        "<ul>\n",
        "<li> No hidden layers - linear relationships only. \n",
        "<li> 1 or more hidden layers - nonlinear relationships, of increasing complexity.\n",
        "</ul>\n",
        "\n",
        "So the number of layers in our model directly relates to the complexity of relationships that we can capture. This doesn't directly mean that more layers are better, but it generally means that we want the number of layers to mirror the \"complexity\" of the data, though complexity is a term with no exact definition or metric here. Once again, there's no universal answer on the balance between width of layers and number of layers, but the general evidence leans towards more layers. There are several reasons for this, none of them definitive, but taken as a whole they add up to a strong case:\n",
        "\n",
        "<ul>\n",
        "<li> Ability to learn different representation of the data - this will be more clear next time when we start to look at some image specific neural networks, but one of the cool features of neural networks is that at each layer the network \"sees\" a different representation of the data, as it goes through each round of transformations. This has the effect of allowing it to identify different features at each layer, and use those features to make more and more accurate predictions. We'll examine this more soon. \n",
        "<li> Avoiding overfitting - extremely wide neural networks tend towards overfitting the training data and not generalizing as well to new data. \n",
        "<li> Ability to add interim steps - with a multi layer network we can add multiple steps such as regularization or dropouts, again to fight overfitting. \n",
        "<li> Automatic feature selection - deep neural networks will automatically perform a type of feature selection as the least important features are minimized in their importance. This is an emerging area of research - some people have argued that well designed neural networks can remove the need for feature selection, and neural networks are being created to be feature selection tools. We can see this illustrated most clearly with images again, we feed a network an entire image, and get a prediction. Note that this isn't a total rejection of feature selection for neural networks, improving the feature set will impact neural network models just as it will for ordinary models; with neural networks we just have the potential for the network to \"cover for mistakes\" in the features. This is more dramatic as data size and network size increase. \n",
        "<li> Results - deep learning has become a common term recently for a reason, due to the success of deep neural networks with many layers. Most of the cool stuff that we see coming from AI such as image recognition, translation, and self navigating robots are the result of deep learning networks. In practice these networks have tended to outperform shallower ones, especially in more complex tasks. \n",
        "</ul>\n",
        "\n",
        "### Overfitting and Underfitting\n",
        "\n",
        "Why not make a model that is both very wide and very deep? This will tend to overfit as it can \"memorize\" the training data. With large datasets we do see very large models in some cases, since the more data we have, the more fitting we can handle. With large datasets and huge models, the training time can potentially explode, so we have to be careful. This is similar to what we saw with unlimited size in trees, we can eventually create a model large enough to memorize the training data. On the whole, the model capacity can be thought of similarly to the size of a tree. If we have large amounts of complex data, we want a model that has a very high capacity, as the relationships are complicated and we have enough data to mitigate overfitting. If we have smaller or more simple data, we want a smaller model, as a large one will overfit our data. \n",
        "\n",
        "Finding the \"optimal\" size is still somewhat of an art, combined with patience for trial and error. <b>The easiest starting point is probably to create a model that can potentially overfit, though not comically large, then use some regularization techniques and early stopping to find the optimal fit.</b> We should also note that it is possible and reasonable that models of different sizes and configurations tend to converge on similar levels of performace. These neural networks are extremely flexible in how they learn during the training process, so they can \"learn around\" some degree of design decisions in a way that is more dramatic than our previous models. "
      ]
    },
    {
      "cell_type": "code",
      "execution_count": 6,
      "metadata": {
        "colab": {
          "base_uri": "https://localhost:8080/"
        },
        "id": "e-CRvieaiZI2",
        "outputId": "8c109988-428d-481d-d54e-b8eb1954cb2a"
      },
      "outputs": [
        {
          "name": "stdout",
          "output_type": "stream",
          "text": [
            "Epoch 1/100\n",
<<<<<<< HEAD
            "1500/1500 [==============================] - 35s 22ms/step - loss: 0.2238 - accuracy: 0.9305 - val_loss: 0.1123 - val_accuracy: 0.9672\n",
            "Epoch 2/100\n",
            "1500/1500 [==============================] - 33s 22ms/step - loss: 0.1100 - accuracy: 0.9665 - val_loss: 0.1138 - val_accuracy: 0.9678\n",
            "Epoch 3/100\n",
            "1500/1500 [==============================] - 32s 22ms/step - loss: 0.0834 - accuracy: 0.9746 - val_loss: 0.1071 - val_accuracy: 0.9693\n",
            "Epoch 4/100\n",
            "1500/1500 [==============================] - 32s 21ms/step - loss: 0.0678 - accuracy: 0.9786 - val_loss: 0.0864 - val_accuracy: 0.9752\n",
            "Epoch 5/100\n",
            "1500/1500 [==============================] - 32s 21ms/step - loss: 0.0597 - accuracy: 0.9821 - val_loss: 0.0905 - val_accuracy: 0.9749\n",
            "Epoch 6/100\n",
            "1500/1500 [==============================] - 32s 22ms/step - loss: 0.0533 - accuracy: 0.9833 - val_loss: 0.1095 - val_accuracy: 0.9745\n",
            "Epoch 7/100\n",
            "1500/1500 [==============================] - 37s 25ms/step - loss: 0.0474 - accuracy: 0.9850 - val_loss: 0.1323 - val_accuracy: 0.9720\n",
            "Epoch 8/100\n",
            "1500/1500 [==============================] - 34s 23ms/step - loss: 0.0458 - accuracy: 0.9865 - val_loss: 0.0943 - val_accuracy: 0.9787\n",
            "Epoch 9/100\n",
            "1500/1500 [==============================] - 33s 22ms/step - loss: 0.0430 - accuracy: 0.9871 - val_loss: 0.1110 - val_accuracy: 0.9773\n",
            "313/313 [==============================] - 2s 4ms/step - loss: 0.0762 - accuracy: 0.9768\n"
=======
            "1500/1500 [==============================] - 14s 9ms/step - loss: 0.2248 - accuracy: 0.9304 - val_loss: 0.1164 - val_accuracy: 0.9659\n",
            "Epoch 2/100\n",
            "1500/1500 [==============================] - 14s 10ms/step - loss: 0.1072 - accuracy: 0.9673 - val_loss: 0.0973 - val_accuracy: 0.9707\n",
            "Epoch 3/100\n",
            "1500/1500 [==============================] - 13s 9ms/step - loss: 0.0820 - accuracy: 0.9745 - val_loss: 0.0944 - val_accuracy: 0.9754\n",
            "Epoch 4/100\n",
            "1500/1500 [==============================] - 13s 9ms/step - loss: 0.0723 - accuracy: 0.9780 - val_loss: 0.0822 - val_accuracy: 0.9758\n",
            "Epoch 5/100\n",
            "1500/1500 [==============================] - 12s 8ms/step - loss: 0.0588 - accuracy: 0.9813 - val_loss: 0.0994 - val_accuracy: 0.9737\n",
            "Epoch 6/100\n",
            "1500/1500 [==============================] - 12s 8ms/step - loss: 0.0530 - accuracy: 0.9840 - val_loss: 0.1030 - val_accuracy: 0.9744\n",
            "Epoch 7/100\n",
            "1500/1500 [==============================] - 13s 8ms/step - loss: 0.0465 - accuracy: 0.9856 - val_loss: 0.1051 - val_accuracy: 0.9777\n",
            "Epoch 8/100\n",
            "1500/1500 [==============================] - 13s 8ms/step - loss: 0.0461 - accuracy: 0.9857 - val_loss: 0.1092 - val_accuracy: 0.9743\n",
            "Epoch 9/100\n",
            "1500/1500 [==============================] - 13s 8ms/step - loss: 0.0431 - accuracy: 0.9877 - val_loss: 0.1086 - val_accuracy: 0.9760\n",
            "313/313 [==============================] - 1s 2ms/step - loss: 0.0747 - accuracy: 0.9765\n"
>>>>>>> 3a2dab455d86309b944869f9d55ca1f1bbb41dfe
          ]
        },
        {
          "data": {
<<<<<<< HEAD
            "image/png": "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",
=======
            "image/png": "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",
>>>>>>> 3a2dab455d86309b944869f9d55ca1f1bbb41dfe
            "text/plain": [
              "<Figure size 432x288 with 1 Axes>"
            ]
          },
          "metadata": {
            "needs_background": "light"
          },
          "output_type": "display_data"
        }
      ],
      "source": [
        "# Model\n",
        "model = keras.Sequential()\n",
        "model.add(InputLayer(input_shape=(28, 28)))\n",
        "model.add(Flatten())\n",
        "model.add(Dense(784, activation='relu'))\n",
        "model.add(Dropout(0.2))\n",
        "model.add(Dense(784, activation='relu'))\n",
        "model.add(Dropout(0.2))\n",
        "model.add(Dense(10, activation=\"softmax\"))\n",
        "\n",
        "callback = tf.keras.callbacks.EarlyStopping(monitor='val_loss', patience=5, restore_best_weights=True) \n",
        "\n",
        "# Train the digit classification model\n",
        "model.compile(optimizer='adam', loss=\"categorical_crossentropy\", metrics='accuracy')\n",
        "\n",
        "train_log = model.fit(\n",
        "  train_images,\n",
        "  train_labels,\n",
        "  epochs=100,\n",
        "  validation_split=0.2,\n",
        "  callbacks=[callback]\n",
        ")\n",
        "model.evaluate(test_images, test_labels)\n",
        "plot_loss(train_log)"
      ]
    },
    {
      "cell_type": "code",
      "execution_count": 7,
      "metadata": {
        "colab": {
          "base_uri": "https://localhost:8080/"
        },
        "id": "ZJkWGpsmbYHG",
        "outputId": "cda23fac-98c0-4d7d-d016-56d69a369bda"
      },
      "outputs": [
        {
          "name": "stdout",
          "output_type": "stream",
          "text": [
            "Epoch 1/100\n",
<<<<<<< HEAD
            "1500/1500 [==============================] - 36s 23ms/step - loss: 0.2848 - accuracy: 0.9164 - val_loss: 0.1386 - val_accuracy: 0.9614\n",
            "Epoch 2/100\n",
            "1500/1500 [==============================] - 33s 22ms/step - loss: 0.1470 - accuracy: 0.9583 - val_loss: 0.1106 - val_accuracy: 0.9707\n",
            "Epoch 3/100\n",
            "1500/1500 [==============================] - 32s 22ms/step - loss: 0.1173 - accuracy: 0.9681 - val_loss: 0.1109 - val_accuracy: 0.9708\n",
            "Epoch 4/100\n",
            "1500/1500 [==============================] - 33s 22ms/step - loss: 0.1028 - accuracy: 0.9719 - val_loss: 0.0979 - val_accuracy: 0.9725\n",
            "Epoch 5/100\n",
            "1500/1500 [==============================] - 32s 22ms/step - loss: 0.0890 - accuracy: 0.9760 - val_loss: 0.0980 - val_accuracy: 0.9717\n",
            "Epoch 6/100\n",
            "1500/1500 [==============================] - 33s 22ms/step - loss: 0.0815 - accuracy: 0.9771 - val_loss: 0.1033 - val_accuracy: 0.9737\n",
            "Epoch 7/100\n",
            "1500/1500 [==============================] - 33s 22ms/step - loss: 0.0737 - accuracy: 0.9800 - val_loss: 0.1113 - val_accuracy: 0.9753\n",
            "Epoch 8/100\n",
            "1500/1500 [==============================] - 33s 22ms/step - loss: 0.0724 - accuracy: 0.9806 - val_loss: 0.0984 - val_accuracy: 0.9758\n",
            "Epoch 9/100\n",
            "1500/1500 [==============================] - 34s 23ms/step - loss: 0.0650 - accuracy: 0.9831 - val_loss: 0.1200 - val_accuracy: 0.9734\n",
            "313/313 [==============================] - 2s 7ms/step - loss: 0.0911 - accuracy: 0.9757\n"
=======
            "1500/1500 [==============================] - 14s 9ms/step - loss: 0.2896 - accuracy: 0.9126 - val_loss: 0.1576 - val_accuracy: 0.9554\n",
            "Epoch 2/100\n",
            "1500/1500 [==============================] - 13s 9ms/step - loss: 0.1491 - accuracy: 0.9585 - val_loss: 0.1201 - val_accuracy: 0.9642\n",
            "Epoch 3/100\n",
            "1500/1500 [==============================] - 13s 9ms/step - loss: 0.1202 - accuracy: 0.9667 - val_loss: 0.0992 - val_accuracy: 0.9697\n",
            "Epoch 4/100\n",
            "1500/1500 [==============================] - 13s 9ms/step - loss: 0.1036 - accuracy: 0.9715 - val_loss: 0.1126 - val_accuracy: 0.9727\n",
            "Epoch 5/100\n",
            "1500/1500 [==============================] - 13s 9ms/step - loss: 0.0904 - accuracy: 0.9751 - val_loss: 0.1172 - val_accuracy: 0.9719\n",
            "Epoch 6/100\n",
            "1500/1500 [==============================] - 13s 9ms/step - loss: 0.0815 - accuracy: 0.9778 - val_loss: 0.1248 - val_accuracy: 0.9696\n",
            "Epoch 7/100\n",
            "1500/1500 [==============================] - 14s 9ms/step - loss: 0.0758 - accuracy: 0.9797 - val_loss: 0.1082 - val_accuracy: 0.9753\n",
            "Epoch 8/100\n",
            "1500/1500 [==============================] - 13s 9ms/step - loss: 0.0724 - accuracy: 0.9804 - val_loss: 0.1139 - val_accuracy: 0.9757\n",
            "313/313 [==============================] - 1s 2ms/step - loss: 0.0988 - accuracy: 0.9713\n"
>>>>>>> 3a2dab455d86309b944869f9d55ca1f1bbb41dfe
          ]
        },
        {
          "data": {
<<<<<<< HEAD
            "image/png": "iVBORw0KGgoAAAANSUhEUgAAAXoAAAD4CAYAAADiry33AAAAOXRFWHRTb2Z0d2FyZQBNYXRwbG90bGliIHZlcnNpb24zLjUuMSwgaHR0cHM6Ly9tYXRwbG90bGliLm9yZy/YYfK9AAAACXBIWXMAAAsTAAALEwEAmpwYAAAv7klEQVR4nO3dd3xU553v8c9vinpBqIwEogkEkuimGBvTDLLBxsZt17jgJDdeX9txzTo38U2c9a6djW+cTdnEcW/Z2MGOS2LTbIgRJaZjQCAQpltdokqA+nP/OCMhQIBGSJyZ0e/9ep2Xppxz5jdCfOeZ5zznOWKMQSmlVPBy2F2AUkqpzqVBr5RSQU6DXimlgpwGvVJKBTkNeqWUCnIuuwtoTUJCgunbt2+7tj1+/DiRkZEdW1AH0Lp8o3X5RuvyTTDWtWHDhgpjTGKrTxpj/G4ZNWqUaa+lS5e2e9vOpHX5Ruvyjdblm2CsC1hvzpGp2nWjlFJBToNeKaWCnAa9UkoFOb88GKuU6nrq6uooKCigurq6018rNjaW7du3d/rr+KotdYWFhZGamorb7W7zfjXolVJ+oaCggOjoaPr27YuIdOprVVZWEh0d3amv0R4XqssYw8GDBykoKKBfv35t3q923Sil/EJ1dTXx8fGdHvKBTESIj4/3+VuPBr1Sym9oyF9Ye35HQRP01XUNvLxsN9sqGuwuRSml/ErQBL3b6eDVFXtYVlBndylKqQAVFRVldwmdImiC3ukQpmZ4yK1ooLa+0e5ylFLKbwRN0ANkZ3k4WQ9r9h60uxSlVAAzxvCDH/yAIUOGMHToUN577z0AiouLmThxIiNGjGDIkCGsWLGChoYGvv3tbzev++tf/9rm6s8WVMMrxw9IIMQBi/NKmZDe+tw+Sin/9++fbiOv6FiH7jOrRwz/dsPgNq370UcfsWnTJjZv3kxFRQVjxoxh4sSJvPvuu1x77bX8+Mc/pqGhgRMnTrBp0yYKCwvZunUrAEeOHOnQujtCULXow0OcDE5wsiSvFKPXwlVKtdPKlSu54447cDqdeDweJk2axLp16xgzZgxvvvkmTz/9NLm5uURHR5OWlsaePXt4+OGHWbRoETExMXaXf5agatEDjExy8sbWarYVHWNIz1i7y1FKtUNbW96d5VwNxYkTJ7J8+XLmz5/PnDlz+MEPfsA999zD5s2b+eyzz3jhhRd4//33eeONNy5xxecXVC16gBGJLkRgyfZSu0tRSgWoiRMn8t5779HQ0EB5eTnLly9n7Nix7N+/n6SkJP7lX/6F7373u2zcuJGKigoaGxu59dZbeeaZZ9i4caPd5Z8l6Fr0MaHCqN5xLM4r5bFpA+0uRykVgG6++WZWrVrF8OHDERF+8YtfkJyczNtvv83zzz+P2+0mKiqKP/7xjxQWFvKd73yHxkZrtN/Pf/5zm6s/W9AFPcC0LA/PLdxB4ZGT9OwWbnc5SqkAUVVVBVhnnz7//PM8//zzpz3/rW99i29961tnbeePrfiWgq7rBqxhlgB/1+4bpZQKzqDvnxhFWkIki/M06JVSKiiDHqxW/eo9BzlWrVMiKKW6tqAO+roGw7L8crtLUUopWwVt0I/sHUd8ZIh23yilurygDXqnQ7g6I4ml+WXUNegkZ0qpritogx6sYZaV1fWs3XvI7lKUUso2QR30E9ITCHU5tPtGKdXhzjd3/b59+xgyZMglrOb8gjroI0JcTEhPYLFOcqaU6sKC8szYlqZleliyvYwdJZVkpvjfrHJKqVYs/BGU5HbsPpOHwoznzvn0D3/4Q/r06cODDz4IwNNPP42IsHz5cg4fPkxdXR3PPvsss2bN8ullq6ureeCBB1i/fj0ul4tf/epXTJkyhW3btvGd73yH2tpaGhsb+fDDD4mOjmb27NkUFBTQ0NDAU089xe23335Rbxu6QNBPzfQgksvivFINeqXUOc2ePZvHHnusOejff/99Fi1axOOPP05MTAwVFRWMGzeOG2+80acLdL/wwgsA5ObmsmPHDq655hp27tzJSy+9xKOPPspdd91FbW0tDQ0NfPjhh/To0YP58+cDcPTo0Q55b0Ef9InRoYzo1Y3FeaU8MjXd7nKUUm1xnpZ3Zxk5ciRlZWUUFRVRXl5OXFwcKSkpPP744yxfvhyHw0FhYSGlpaUkJye3eb8rV67k4YcfBiAjI4M+ffqwc+dOrrjiCn72s59RUFDALbfcQnp6OllZWTz11FP88Ic/ZObMmUyYMKFD3ltQ99E3yc7ykFt4lOKjJ+0uRSnlx2677TY++OAD3nvvPWbPns0777xDeXk5GzZsYNOmTXg8Hqqrq33a57mOD95555188sknhIeHc+211/LFF1+Qnp7Ohg0bGDp0KE8++ST/8R//0RFvq2sE/TXeSc6WbC+zuRKllD+bPXs2c+fO5YMPPuC2227j6NGjJCUl4Xa7Wbp0Kfv37/d5nxMnTuSdd94BYOfOnRw4cIBBgwaxZ88e0tLSeOSRR7jxxhvZsmULxcXFREREcPfdd/PEE0902KyYQd91A9YkZ33jI1iSV8qccX3sLkcp5acGDx5MZWUlPXv2JCUlhbvuuosbbriB0aNHM2LECDIyMnze54MPPsj999/P0KFDcblcvPXWW4SGhvLee+/xpz/9CbfbTXJyMj/96U9ZtmwZt912Gw6HA7fbzYsvvtgh76tLBL2IkJ3l4e0v91NVU09UaJd420qpdsjNPTXaJyEhgVWrVrW6XtPc9a3p27dv88XCw8LCeOutt85a58knn+TJJ5887bFp06Zx8803t6Pq8+sSXTdgDbOsbWjUSc6UUl1Ol2najuoTR1yEmyXbS7l+WIrd5SilgkBubi5z5sw57bHQ0FDWrFljU0Wt6zJB73I6mJKRxN+3W5OcuZ1d5suMUgHDGOPTGHW7DR06lE2bNl3S12zPWf5tSjsRmS4i+SKyS0R+1Mrzd4nIFu/ypYgMb/HcPhHJFZFNIrLe5wo70DVZHo6erGP9vsN2lqGUakVYWBgHDx7U6UrOwxjDwYMHCQsL82m7C7boRcQJvABkAwXAOhH5xBiT12K1vcAkY8xhEZkBvAJc3uL5KcaYCp8q6wQT0hMJ8U5ydkX/eLvLUUq1kJqaSkFBAeXlnX8crbq62uewvBTaUldYWBipqak+7bctXTdjgV3GmD0AIjIXmAU0B70x5ssW668GfKviEokMdTG+fzyLt5fw1MzMgPqKqFSwc7vd9OvX75K8Vk5ODiNHjrwkr+WLzqpLLvQ1SURuA6YbY+713p8DXG6Meegc6z8BZLRYfy9wGDDAy8aYV86x3X3AfQAej2fU3Llz2/WGqqqqzjt9aM43dby1rZZnx4eTGn3p+ukvVJddtC7faF2+0bp8czF1TZkyZYMxZnSrTxpjzrsA/wS81uL+HOB351h3CrAdiG/xWA/vzyRgMzDxQq85atQo015Lly497/MlR0+aPj+cZ373953tfo32uFBddtG6fKN1+Ubr8s3F1AWsN+fI1LY0aQuAXi3upwJFZ64kIsOA14BZxpiDLT5Iirw/y4CPsbqCbOOJCWN4r24s1ukQlFJdRFuCfh2QLiL9RCQEmA180nIFEekNfATMMcbsbPF4pIhEN90GrgG2dlTx7XVNlofN3xyh9JhvkxMppVQgumDQG2PqgYeAz7C6Zd43xmwTkftF5H7vaj8F4oE/nDGM0gOsFJHNwFpgvjFmUYe/Cx9Ny2ya5EwvMaiUCn5tOmHKGLMAWHDGYy+1uH0vcG8r2+0Bhp/5uN0GeqLo3d2a5Oyuy3WSM6VUcOuSp4eKCNMyPfxj90GO19TbXY5SSnWqLhn0YF2MpLa+kRVf6yRnSqng1mWDfkzfOGLD3Xyep/30Sqng1mWD3uV0cHVGEl/sKKO+odHucpRSqtN02aAHq/vmyIk6NuzXSc6UUsGrSwf9xIGJhDitSc6UUipYdemgjwp1cUX/eBZvL9WpUZVSQatLBz1Y3Tf7D55gV9m5r/+olFKBrMsHfdNZsjr6RikVrLp80CfHhjEsNVanQ1BKBa0uH/Rgteo3fXOEskqd5EwpFXw06LH66Y2BL3TqYqVUENKgBzKSo0mNC9dhlkqpoKRBz6lJzlbuquBErU5yppQKLhr0Xtdkeaipb2TF1xV2l6KUUh1Kg95rTL/uxIS5tPtGKRV0NOi93E4HU7yTnDU06lmySqngoUHfQnaWh0PHa9l4QCc5U0oFDw36FiYNTMTtFO2+UUoFFQ36FqLD3IxLi2eJBr1SKoho0J8hO8vDnorjOsmZUipoaNCfoWmSM537RikVLDToz9CjWziDe8RoP71SKmho0LciO8vDxgOHKa+ssbsUpZS6aBr0rWia5GzpDp3kTCkV+DToW5GVEkPPbuF6MRKlVFDQoG+FNclZEit3lXOytsHucpRS6qJo0J/DtCwP1XWNrNylk5wppQKbBv05XN4vnuhQF4vzSuwuRSmlLooG/TmEuBxMzkji79t1kjOlVGDToD+PaZlJHDxey6ZvdJIzpVTg0qA/j8mDknA5hMV5OsxSKRW4NOjPIzbczeVp3bWfXikV0DToLyA708Pu8uPsKddJzpRSgUmD/gKmZekkZ0qpwKZBfwGpcRFkpugkZ0qpwNWmoBeR6SKSLyK7RORHrTx/l4hs8S5fisjwtm4bCLKzPGzYf5iDVTrJmVIq8Fww6EXECbwAzACygDtEJOuM1fYCk4wxw4BngFd82NbvZWd6aDTwhU5yppQKQG1p0Y8Fdhlj9hhjaoG5wKyWKxhjvjTGNA02Xw2ktnXbQDCkZwwpsWHaT6+UCkhizPnP+hSR24Dpxph7vffnAJcbYx46x/pPABnGmHt92VZE7gPuA/B4PKPmzp3brjdUVVVFVFRUu7Y9nz/m1bCysJ7fXx1BiFP8pq6LpXX5Ruvyjdblm4upa8qUKRuMMaNbe87Vhu1bS7VWPx1EZArwXeAqX7c1xryCt8tn9OjRZvLkyW0o7Ww5OTm0d9vzkR7lfPHGWpw9spjsvdygP9R1sbQu32hdvtG6fNNZdbWl66YA6NXifipQdOZKIjIMeA2YZYw56Mu2gWBcWneiQl3afaOUCjhtCfp1QLqI9BOREGA28EnLFUSkN/ARMMcYs9OXbQNFqMvJpIGJLNleRqNOcqaUCiAXDHpjTD3wEPAZsB143xizTUTuF5H7vav9FIgH/iAim0Rk/fm27YT3cUlkZ3kor6xhc8ERu0tRSqk2a0sfPcaYBcCCMx57qcXte4F727ptoJoyKAmnQ1icV8rI3nF2l6OUUm2iZ8b6IDbCzdi+3fUsWaVUQNGg91F2loevy6rYV3Hc7lKUUqpNNOh9lK2TnCmlAowGvY96dY8gIzlau2+UUgFDg74dsrM8rNt3iMPHa+0uRSmlLkiDvh2m6SRnSqkAokHfDkN7xuKJCdV+eqVUQNCgbweHQ5ia6WHZznKq6xrsLkcppc5Lg76dsrM8nKhtYNWegxdeWSmlbKRB305X9o8nMsSpo2+UUn5Pg76dQl1OJg5MZEleqU5yppTyaxr0FyE7y0NZZQ25hUftLkUppc5Jg/4itJzkTCml/JUG/UWIiwxhdJ84HWaplPJrGvQXKTvLw46SSr45dMLuUpRSqlUa9BepaZKzz7X7RinlpzToL1Kf+EgGeqJYokGvlPJTGvQdYFqmh7X7DnHkhE5yppTyPxr0HSA7y0NDoyEnv9zuUpRS6iwa9B1geGo3EqNDdZilUsovadB3AIdDmJaZRE5+GTX1OsmZUsq/aNB3kOwsD8drG1i955DdpSil1Gk06DvIlf0TCHc7WZxXYncpSil1Gg36DhLmdjJxYAJL8sowRic5U0r5Dw36DjQt00PJsWq2Fh6zuxSllGqmQd+BpmZ6cAjafaOU8isa9B2oe2QIo/t0Z/F2vWi4Usp/aNB3sGlZSWwvPqaTnCml/IYGfQfLzkoG4O86dbFSyk9o0HewfgmR9E+MZLEGvVLKT2jQd4LsrGTW7DnE0ZN1dpeilFIa9J0hO8tDfaMhJ18Pyiql7KdB3wlG9OpGQlSITnKmlPILGvSdwOkQpmZ4WJZfTm19o93lKKW6OA36TjIty0NlTT1r9h60uxSlVBenQd9JrhqQQJjbod03SinbtSnoRWS6iOSLyC4R+VErz2eIyCoRqRGRJ854bp+I5IrIJhFZ31GF+7vwECcT0hNZkleqk5wppWzlutAKIuIEXgCygQJgnYh8YozJa7HaIeAR4KZz7GaKMabiImsNONmZHhbnlbKtSCc5U0rZpy0t+rHALmPMHmNMLTAXmNVyBWNMmTFmHaADx1u4OjMJEViiJ08ppWwkF+pWEJHbgOnGmHu99+cAlxtjHmpl3aeBKmPML1s8thc4DBjgZWPMK+d4nfuA+wA8Hs+ouXPntusNVVVVERUV1a5tO8Ozq09S1wg/GNbgV3U18bffVxOtyzdal2+Csa4pU6ZsMMaMbu25C3bdANLKY750Oo83xhSJSBKwWER2GGOWn7VD6wPgFYDRo0ebyZMn+/ASp+Tk5NDebTvDDtnNcwt3UOOMYKYf1dXE335fTbQu32hdvulqdbWl66YA6NXifipQ1NYXMMYUeX+WAR9jdQV1GdlZHgBWFdXbXIlSqqtqS9CvA9JFpJ+IhACzgU/asnMRiRSR6KbbwDXA1vYWG4j6J0Zxeb/ufPB1HT/5ay4naxvsLkkp1cVcMOiNMfXAQ8BnwHbgfWPMNhG5X0TuBxCRZBEpAL4P/ERECkQkBvAAK0VkM7AWmG+MWdRZb8Zfvf2/xnJtXxd/Wn2A63+3gi0FR+wuSSnVhbSljx5jzAJgwRmPvdTidglWl86ZjgHDL6bAYBDmdnJHRij3TBvFv76/mVv+8CWPTUvngckDcDpaOwSilFIdR8+MvYTGD0jgs8cmcu2QZH75+U5uf3mVXolKKdXpNOgvsdgIN7+/YyS/vn04+SWVzPjtCj7YUKBnzyqlOo0GvQ1EhJtHprLwsQlk9Yjhib9s5sF3NnL4eK3dpSmlglBwBf3B3WACZ1rg1LgI/vwv4/jRjAyWbC/l2t8sZ/nOcrvLUkoFmeAJ+pOH4fVsRmz6iRX4AcLpEO6f1J+PHxxPTLibe95Yy9OfbKO6TodhKqU6RvAEfVg3yH6GqKp98OJ4WP0iNAZO635Iz1jmPXwV376yL299uY8bfreSbUVH7S5LKRUEgifoRWDkXawd+zvoNxEW/QjenAEVu+yurM3C3E6evnEwb/+vsRw9WcdNL/yDl5btpqFRD9QqpdoveILeqzY0Hu58D256Ccq3w0vj4cvfQ2PgdIVMGpjIZ49NZGqGh+cW7uDOV1dTeOSk3WUppQJU0AU9YLXuR9wBD66BtCnw+Y/hjelQ8bXdlbVZXGQIL959Gb+4bRhbC48y/TfL+dumQrvLUkoFoOAM+iYxKXDHn+GWV+Hg11bf/T9+GzCtexHhn0f3YuGjExnoiebRuZt4+M9fcfSETvuvlGq74A56sFr3w/7Zat2nZ8Pin8Lr10DZDrsra7Pe8RG8d984nrhmIAtzi5n+2+V8ubvLXbBLKdVOwR/0TaI9cPuf4NbX4dAeeHkCrPgVNATG9MEup4OHrk7nwweuJNzt5K7X1vCz+XnU1AfGtxOllH26TtCD1bofeht8bw0MnA5//3d4fRqU5l14Wz8xvFc35j1yFXeO7c2rK/Yy6/f/IL+k0u6ylFJ+rGsFfZOoJLj9f+Cf3oIjB+CVSbD8eWgIjL7viBAXP7t5KG98ezQVVTXc8PuVvL5yL406DFMp1YquGfRNBt8M31sLGdfDF8/Ca1OhJHCui3J1hodFj01kYnoCz8zLY84bayg+qsMwlVKn69pBDxCZYLXs//mPcKwIXpkMOf8vYFr3CVGhvHrPaH5+y1A27j/C9N+sYP6WYrvLUkr5EQ36JlmzrJE5g2+CnP+EV6dA8Ra7q2oTEeGOsb1Z8OgE+iZE8r13N/L99zdxrDowPqyUUp1Lg76lyHi49TW4/R2oLLXCful/Qn1gTB/cLyGSD+6/gkenpvPXrwqZ8ZsVrN17yO6ylFI206BvTeZMa2TOkFth2f+zAr9ok91VtYnb6eDx7IH85f4rcTmF219ZxS8W7aC2PnAmeFNKdSwN+nOJ6A63vAJ3zIXjFfDq1dYB2/oauytrk1F94ljwyARuH92LP+Ts5pYX/8GuMh2GqVRXpEF/IYNmwPdWw7DbrSGYL0+Cwo12V9UmkaEunrt1GC/PGUXh4ZNc/98r+eOqfXrZQqX80ZEDJJR/2Sm71qBvi/A4uPlFuPN9qD4Kr02DJU9DXbXdlbXJtYOT+eyxiYxLi+enf9vGt99cR1llYNSuVNA7VgTzvg//fRmD8l+Auo4fIq1B74uB18KDq6yZMVf+Gl6eCAXr7a6qTZJiwnjrO2N4ZtZgVu85yLW/Xs6irSV2l6VU11VZCgt/BL8dARv/CJfNYf3o34I7vMNfSoPeV+HdYNYLcNeHUFsFr3snSguA1r2IMOeKvsx/5Cp6xoVz/5828Mv11Xy4oUCHYip1qRyvgM9/Ar8dDmtfgWH/BA9vgJm/piYsoVNe0tUpe+0K0qdZrfvPn7KmPs5faH0A9Bprd2UXNCApmo8eGM/Ly3bz1oqv+de/bCbkIweTByUyc3gPpmUmERGifxpKdagTh2DV72H1S1B3wppVd9IPIb5/p7+0/m++GGGxcON/WydbffqoNf3xFd+Dq3/SKV+/OlKIy8HDU9MZ4iggtv8IPt1cxPwtxXyeV0q428nVmUncMKwHkwclEuZ22l2uUoGr+qh1DetVL0DNMWvqlclPQuKgS1aCBn1HGDAVHvgSlvyb9Ynd1Lrvc4XdlV2QiHBZ7zgu6x3HT67PYt2+Q8zbUsSC3BLmbykmKtRFdpaHG4ancNWAREJc2tunVJvUVMHal+Ef/w3VRyBjphXwyUMueSka9B0lLAZm/tpq3X/ysHVh8nEPwNVPQUiE3dW1idMhjEuLZ1xaPE/fMJhVew7y6eYiFm0t4eOvCokNdzN9cDIzh6dwRVo8LqeGvlJnqT0B61+Hlb+BExWQfi1MeRJ6jLStJA36jpY2GR5YZQ2/XP2HU637i2WMd2kA03j20tjgff7M51qub85YvxFn/YlWX87ldDAhPZEJ6Yk8e9NQVnxdzrwtxczPLea99d8QHxnCjKHJzBzWg7F9u+NwyMW/RxUcaqqgdCuU5JJStBuODoDYVLur6nx11bDhLVj5K6gqta5XPeXH0GuM3ZVp0HeK0Ci4/pdW6/5v34O3ruPyMA98FepzEDcvdM5JTuPFBcWTIOM6GDgDYnuetU6Iy8HUTA9TMz1U1zWQk1/Gp1uK+WBDAX9afQBPTCjXDU3hhuE9GNmrGyIa+l1GVZk1+V+JdyneYl3Bzfv3Oghg54uQMhwGXWedgJg8zLoIULCor4Wv/gdW/BccK4Q+V8Ftb0Lf8XZX1kyDvjP1m2CNzFn5G47mryU8OQXEYf2RiwPE6f15xuJo5bHT1pcz1j9zP23cvzEUrv4bvQ5vgfn/ai0pI6z5+QfNAM+Qs/5DhrmdTB+SwvQhKRyvqefvO8qYt7mId1Yf4M1/7KNnt3BmDk/hhmE9GNwjRkM/WDQ2wuG93kDPPRXuVaWn1unW2wrx4bMheSgkD2Ptyi8YG3sQ8hdAznOQ83OISbX+vgbNgL4TwBVi3/u6GA31sPnPsPwX1gWMUsfCTX+AfpP87oNMg76zhUTC1T9mhyOH5MmT7a7mLLsrutNr0iQoz7f+M+YvsGbsXPoz6z9uUyusz3hwuk/bNjLUxY3De3Dj8B4cq65j8bZSPt1SxOsr9vLysj30S4hk5jCrpT/QE23TO1Q+q6+B8h0tWuq51gV5ar1zJTlckJgB/a+2gj15qLWEdztrVycie8FVc+Cqx6CqHL7+zOrO3PQOrHsVQqKtocqDroMB06w5pvxdYwPkfgDLnrO+vfQYCdf/yqrfzwK+iQa9sv44kzKsZcL3rTP2di6yQn/DW7DmJWsoafo1VugPyLYOPrcQE+bm1lGp3DoqlcPHa1m0rYR5W4p4YekufvfFLgZ6orhhWA9mDu9Bv4RIe96nOlv1USvEm7pdSnKtkG/0nkAXEmV9sxs+G1K8oZ6YCe4w318rKhFG3m0tdSdhzzLrb2znItj2sfUNtM+VpxoX3ft17Hu9WI2NkPdX65tJRb71e5n9rlWvnwZ8Ew16dbZoD4z6lrXUHofdS0/9h8z9CzjcVrdU03/IMw60xUWGcMfY3twxtjfllTUs3FrMvM3F/NfinfzX4p0M7hHDDcN7cP3QFHp1D4wRSQHPGKgsPhXmJZutn4f3nVonMskK8/Rp3pb6MOieZnX1dTR3OAyabi2NjVC00fuNciF89qS1JGZ6u3iug56jOqeOtjAGdsyDpT+Hsm2QMMi6Kl3mLPtq8pEGvTq/kEhrfv7MmdZX1m/WQv582LEAFjxhLSnDYZC3Xz956Gmtm8ToUO65oi/3XNGX4qMnmb+lmE+3FPPcwh08t3AHI3t3Y+YwK/STY9vRSlRna2yAg7tPP0BakmsN9WvSPc06HjNyjvXvlzwUopPtqdfhgNTR1jL1p3BorxX4+Quss85X/sr6EBo03Qr9tMmX5oREY+Drz61uzOLN0L0/3PKqdZ0KR2CdRKhBr9rO4bROAutzBWQ/AxVfnwr9nJ9bl2CM7d3iQNtVp/Xrp8SGc++ENO6dkMaBgyeYl1vEvM3FPDMvj2fn5zGmb3duGN6DGUNsCpxA09gAlSVw5AApRZ/BvE+sYC/dZp1iD9a3r6RMKySbWumewWd1vfmV7v3giget5eRh+HqJ9Xe29WNr8i9XuHV8YNAMa6LBqKSOfX1jYM9S61hVwTro1gdm/cGaqtwZmJHZpqpFZDrwW8AJvGaMee6M5zOAN4HLgB8bY37Z1m1VgBKBxIHWctXj1jC7nYus0N/4tnVGYGgspGdb/yHTs61+fq/e8RE8OHkAD04ewO7yKuZtLubTLUU89det/NvftpLR3UFB2H6uHZxMYnSojW/URg31UFkER76xRnUcOQBHD7S4Xdjclz4IIDTGaplf9i3rZ8owq5shUEe1gDVF+LB/spb6Wti/0tvaX2iFPwKpY6zhwYOug4SBF9dfvm8lfPEzOPClNTpo5m9gxF2B/TukDUEvIk7gBSAbKADWicgnxpi8FqsdAh4BbmrHtioYRCXBZfdYS+0Jq0W0w9uvv/UDq2XZ9ypr6ObA6dCtV/Om/ROjeHRaOo9MHUB+aSXzNhfzwZrd/OSvW3nqb1sZ27c7M4YkM31IkHXvNNRZ466bgvvMQD9aaJ1n0VJUsvW76znKmjMlthd068PqXRWMm3673x8UvCiuEKsl3/9qmPELqzuqqYtnydPW0j3Ne+zoOuh1edtb4N+sta4gt3eZ9Tue8bx1jMoVHI2MtvwWxgK7jDF7AERkLjALaA5rY0wZUCYi1/u6rQpCIRFWoGdcb3UvFKyDHfOt/5BN/frJw06N1/eeQCMiZCTHkJEcw6iQInpkjmZBbjELtxbz9Kd5PP1pHqP6xHlDP5nUOD8/kFtfA0cLvMH9zdmBXlnkPRmuiUB0ijWstdc4GNrLut2tt9UlFpt6ztEu1YU5wR3yZxKxvrGkDIPJP7Q+FHd6W/prX7HmnAqPs6YfGDTDmo8qtJUhvoUbrS6aXYshIgGu+RmM+a7fT0roK7nQZeVE5DZgujHmXu/9OcDlxpiHWln3aaCqqevGx23vA+4D8Hg8o+bOnduuN1RVVUVUVFS7tu1MWpcl/EQBCRVrSahYQ8yxfARDdWgiFQljORg/liPdBmMc7rPqKqpqZH1pPetLGjhQaYVjv1gHYzxORie7SIq4NKMfWtblaKgltKaMsOpywqrLzlpCag8jLc5oNjioCY2nOiyJ6rBE709P8+2a0ASMw32ul25zXf7Ejrqc9SeIO7yJhIo1xB/cgLu+kkZxcThuGAfjx3Iwfgy1x0oZXPpXEg6upc4VzTe9bqKw5/U0uOwN+Iv5fU2ZMmWDMWZ0a8+1pUXfWjOhrefjt3lbY8wrwCsAo0ePNpPbeXJRTk4O7d22M2ldLd1t/agqh52LCMtfQOruL0gtnG/1M6dns7cqlH5Rfb3rG4g03JkGpBmOnKhhV9lxdpdVUranmtI90BgVwoDESPonRhIX4bYOqDVt2+pt2rDO2bfL9ueTFFpjtchbnhUK1jjw2FTo3hu6jfK2xE+1yiWmB2FON53R+aR/X2e6zvrRUA/frMGRv4D4/AXEf/0SfP2S9VxoLEz+v7jHPUBaWAxpNlR5ps76fbUl6AuAXi3upwJFbdz/xWyrgl1UIlw2x1pqT8CeHOsAW/4i+p2ogH2tb9YNGI0wGjBuwSCYakPjAcEcgDpvN5DD4UDAOw2Dt83Rptucc53oRjdEDbIOLnfrc3qYR6cE7KiMoOV0WXPO9B0P1zwLFTshfwF7du8m7Z+fsbp3uoC2/FWuA9JFpB9QCMwG7mzj/i9mW9WVhERYIycyrgNjyMn5gsmTJgNyqu+5lT7oFjFM+dFqFm0tZsHWEtbtO4QxkJYYyYwhycwYktIhc++s8dOWs2oDEetiH4mDOFCfQ1oXCXloQ9AbY+pF5CHgM6whkm8YY7aJyP3e518SkWRgPRADNIrIY0CWMeZYa9t20ntRwULE6gbx8aSU5Ngwvj2+H98e34+yymo+31bKwq3FvLRsDy8s3U3v7hHMGGqF/vDUWJ1wTXUZbfqeaYxZACw447GXWtwuweqWadO2SnW2pOgw7h7Xh7vH9eHQ8VoW55WwILekecK1nt3CmT4kmRlDkrmsd5zOp6+CmnYoqqDXPTKE28f05vYxvTl6oo4l262W/v+s2s/rK/fiiQll+uBkZgxNYUzf7jg19FWQ0aBXXUpsxKlZNiur6/hiRxkLc0uYu+4b3l61n4SoEK4ZnMx1Q1IYl9ZdL5eogoIGveqyosPczBrRk1kjenK8pp6c/HIWbi3mr18V8u6aA8RFuMnO8jBjaArj+yfohdFVwNKgVwrrIirXD0vh+mEpVNc1sGxnOQtzi1mYW8L76wuIDnORnekhoaEeT/Ex+idGafCrgKFBr9QZwtxOrh2czLWDk6mpb+AfuypYkFvC4rxSjp6s45UtK3A5hLTESAYlx5CRHM0gTzSDkqNJjQvX0TzK72jQK3UeoS4nV2d4uDrDQ31DI+8tyCG6dwb5JcfIL6nkqwOH+XTzqXMAo0JdDEq2Qr/pAyAjOYbYiPZNbaBUR9CgV6qNXE4HPaMdTB7eA4b3aH68srqOnaVV5JdUkl9yjO0llczfUsy7aw40r5McE9Yc/hkp0QzyxNA/KZJQV2BdwEIFJg16pS5SdJibUX3iGNXn1JmWxhhKj9Www9vyzy+pZEdJJat2H6S2wZqUzekQ0hIiT7X+vd1APbuF67h+1aE06JXqBCJCcmwYybFhTB506gpIdQ2N7Ks4zo4W4b+54AjzthQ3rxMZ4vR2/3j7/70fBN0iAvviF8o+GvRKXUJup4N0TzTpnmhuGH7q8aqaenaWVrZo/R9j4dZi/rz2VPePJyb0rIO/A5KiCHNr9486Pw16pfxAVKiLy3rHcVnv07t/yiprvK3/Y83fAt768iC19ae6f/olRNLdUU0eu8hMiWFwSgyJ0aE6+kc106BXyk+JCJ6YMDwxYUwamNj8eH1DI/sOnjjt4O+mvcdZuyi/eZ34yBCyesSQlRJDZkoMWT1iSEuI1DN9uygNeqUCjMvpYEBSFAOSorh+WApgXbDisnHj2VFcSV7RUbYXV5JXfIw3v9zX3PoPcTkY5IkmMyWarJQYsnrEkpESTUyYDv0Mdhr0SgWJmDA3Y/t1Z2y/7s2P1Tc0sqfiOHlFx9hefIy84mP8fXsZ768vaF6nV/dwMpOtVn9mivUtQE/8Ci4a9EoFMZfTwUBPNAM90dw0sidg9f2XV9awrdgb/kXWB8Di7aXNV06MDnM1h36Wt+sn3ROl4/4DlAa9Ul2MiJAUE0ZSTBhTWgz9PFFbT36J1eXT9AHw/vpvOFHbAIDLIfRPjPK2/KPJSoklMyWa+KhQu96KaiMNeqUUABEhLkb2jmNki5E/jY2G/YdOnNbyX73nIB9/Vdi8jicm9LSDvlkpMfSJj9R5/f2IBr1S6pwc3uGb/RIiuW5oSvPjh4/XNvf5N30ArPi6gvpGq+8n3O0kIyWa0Lpq5pdvJtTtIMTpJNTtINTlINTlJNTlIMTlve8+4773+ebb3u1CvPf1Q8Q3GvRKKZ/FRYZw5YAErhyQ0PxYTX0DX5dWnfYBsLeikQMnKqipb6S2vtH66Z0C4mK4HNL8ARHidJz2AXLqw+KM++5T9w8V1yE9yslIjiapC5xzoEGvlOoQoS4nQ3rGMqRnbPNjOTk5TJ48+bT1GhsNtQ2N1NQ1UtPQYP2sb6SmvqH5w6CmvpGauoZT6531/Kntapvu159+v6qmnpq6Ru8+Tn++tqGR9/LXAtAtws1AT/Rp000M9EQTHUTDTjXolVKXlMMhhDmc3qkb7AnTeZ8vJb7/MGu6ae/UEx9tLKSqpr55nZ7dwpvD3/oAiCEtMRJ3AJ50pkGvlOpyokKEK/rHc0X/+ObHjDEUHD5pnXFcWtk89cSyneXNxx7cTmvk0UBPi2sOeGcc9efuHw16pZTCGnbaq3sEvbpHMC3L0/x4bX0ju8urmj8A8ksq2bD/MJ+0uOBMdKiLgX58wRkNeqWUOo8Ql4NM7/DRlo5V17GzpLJ5srn8kkrmbS7i3TWnun+aLjgzyOYZRzXolVKqHWLC3Izu253RfU9NOWGMoeRYNTtKKtl5ngvO9I2PICM55rTLTvaKi+i0WjXolVKqg4gIKbHhpMSGn3bWsTXj6OkXnMktPMr83FMXnIkIcZIaaZg0yXR4f78GvVJKdTJrxtFoBiRFM3PYqceP19TzdVlV8/UGdu8v6JSDuhr0Sillk8hQFyN6dWNEr24A5OSUd8rrBN6AUKWUUj7RoFdKqSCnQa+UUkFOg14ppYKcBr1SSgU5DXqllApyGvRKKRXkNOiVUirIiWm67LsfEZFyYH87N08AKjqwnI6idflG6/KN1uWbYKyrjzEmsbUn/DLoL4aIrDfGjLa7jjNpXb7Runyjdfmmq9WlXTdKKRXkNOiVUirIBWPQv2J3AeegdflG6/KN1uWbLlVX0PXRK6WUOl0wtuiVUkq1oEGvlFJBLmiCXkSmi0i+iOwSkR/ZXU8TEXlDRMpEZKvdtTQRkV4islREtovINhF51O6aAEQkTETWishmb13/bndNLYmIU0S+EpF5dtfSkojsE5FcEdkkIuvtrqeJiHQTkQ9EZIf3b+0KP6hpkPf31LQcE5HH7K4LQEQe9/7dbxWRP4tIWIftOxj66EXECewEsoECYB1whzEmz9bCABGZCFQBfzTGDLG7HgARSQFSjDEbRSQa2ADcZPfvS6xrqEUaY6pExA2sBB41xqy2s64mIvJ9YDQQY4yZaXc9TURkHzDaGONXJwCJyNvACmPMayISAkQYY47YXFYzb24UApcbY9p7gmZH1dIT6+89yxhzUkTeBxYYY97qiP0HS4t+LLDLGLPHGFMLzAVm2VwTAMaY5cAhu+toyRhTbIzZ6L1dCWwHetpbFRhLlfeu27v4RUtERFKB64HX7K4lEIhIDDAReB3AGFPrTyHvNRXYbXfIt+ACwkXEBUQARR2142AJ+p7ANy3uF+AHwRUIRKQvMBJYY3MpQHP3yCagDFhsjPGLuoDfAP8HaLS5jtYY4HMR2SAi99ldjFcaUA686e3uek1EIu0u6gyzgT/bXQSAMaYQ+CVwACgGjhpjPu+o/QdL0Ld22XS/aAn6MxGJAj4EHjPGHLO7HgBjTIMxZgSQCowVEdu7u0RkJlBmjNlgdy3nMN4YcxkwA/iet7vQbi7gMuBFY8xI4DjgT8fOQoAbgb/YXQuAiMRh9UL0A3oAkSJyd0ftP1iCvgDo1eJ+Kh34tScYefvAPwTeMcZ8ZHc9Z/J+zc8BpttbCQDjgRu9feFzgatF5E/2lnSKMabI+7MM+BirK9NuBUBBi29kH2AFv7+YAWw0xpTaXYjXNGCvMabcGFMHfARc2VE7D5agXweki0g/7yf1bOATm2vyW96Dnq8D240xv7K7niYikigi3by3w7H++HfYWhRgjHnSGJNqjOmL9bf1hTGmw1pbF0NEIr0H1PF2jVwD2D7CyxhTAnwjIoO8D00FbB8c0cId+Em3jdcBYJyIRHj/f07FOnbWIVwdtSM7GWPqReQh4DPACbxhjNlmc1kAiMifgclAgogUAP9mjHnd3qoYD8wBcr394QD/1xizwL6SAEgB3vaOhnAA7xtj/Gooox/yAB9b2YALeNcYs8jekpo9DLzjbXztAb5jcz0AiEgE1gi9/213LU2MMWtE5ANgI1APfEUHTocQFMMrlVJKnVuwdN0opZQ6Bw16pZQKchr0SikV5DTolVIqyGnQK6VUkNOgV0qpIKdBr5RSQe7/A4MeUOq7uX8SAAAAAElFTkSuQmCC",
=======
            "image/png": "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",
>>>>>>> 3a2dab455d86309b944869f9d55ca1f1bbb41dfe
            "text/plain": [
              "<Figure size 432x288 with 1 Axes>"
            ]
          },
          "metadata": {
            "needs_background": "light"
          },
          "output_type": "display_data"
        }
      ],
      "source": [
        "# Bigger Model\n",
        "model = keras.Sequential()\n",
        "model.add(InputLayer(input_shape=(28, 28)))\n",
        "model.add(Flatten())\n",
        "model.add(Dense(512, activation='relu'))\n",
        "model.add(Dropout(0.2))\n",
        "model.add(Dense(512, activation='relu'))\n",
        "model.add(Dropout(0.2))\n",
        "model.add(Dense(512, activation='relu'))\n",
        "model.add(Dropout(0.2))\n",
        "model.add(Dense(512, activation='relu'))\n",
        "model.add(Dropout(0.2))\n",
        "model.add(Dense(10, activation=\"softmax\"))\n",
        "\n",
        "callback = tf.keras.callbacks.EarlyStopping(monitor='val_loss', patience=5, restore_best_weights=True) \n",
        "\n",
        "# Train the digit classification model\n",
        "model.compile(optimizer='adam', loss=\"categorical_crossentropy\", metrics='accuracy')\n",
        "\n",
        "train_log = model.fit(\n",
        "  train_images,\n",
        "  train_labels,\n",
        "  epochs=100,\n",
        "  validation_split=0.2,\n",
        "  callbacks=[callback]\n",
        ")\n",
        "model.evaluate(test_images, test_labels)\n",
        "plot_loss(train_log)"
      ]
    },
    {
      "cell_type": "code",
      "execution_count": 8,
      "metadata": {
        "colab": {
          "base_uri": "https://localhost:8080/"
        },
        "id": "cmRw70jwga-g",
        "outputId": "c6dacb57-0449-40b7-e461-457f48745d70"
      },
      "outputs": [
        {
          "name": "stdout",
          "output_type": "stream",
          "text": [
            "Epoch 1/100\n",
<<<<<<< HEAD
            "1500/1500 [==============================] - 23s 14ms/step - loss: 0.3685 - accuracy: 0.8945 - val_loss: 0.1577 - val_accuracy: 0.9560\n",
            "Epoch 2/100\n",
            "1500/1500 [==============================] - 19s 13ms/step - loss: 0.1736 - accuracy: 0.9554 - val_loss: 0.1360 - val_accuracy: 0.9639\n",
            "Epoch 3/100\n",
            "1500/1500 [==============================] - 18s 12ms/step - loss: 0.1390 - accuracy: 0.9645 - val_loss: 0.1058 - val_accuracy: 0.9722\n",
            "Epoch 4/100\n",
            "1500/1500 [==============================] - 19s 13ms/step - loss: 0.1106 - accuracy: 0.9713 - val_loss: 0.1277 - val_accuracy: 0.9655\n",
            "Epoch 5/100\n",
            "1500/1500 [==============================] - 21s 14ms/step - loss: 0.1053 - accuracy: 0.9729 - val_loss: 0.1013 - val_accuracy: 0.9748\n",
            "Epoch 6/100\n",
            "1500/1500 [==============================] - 18s 12ms/step - loss: 0.0895 - accuracy: 0.9777 - val_loss: 0.1291 - val_accuracy: 0.9687\n",
            "Epoch 7/100\n",
            "1500/1500 [==============================] - 18s 12ms/step - loss: 0.0770 - accuracy: 0.9799 - val_loss: 0.0955 - val_accuracy: 0.9765\n",
            "Epoch 8/100\n",
            "1500/1500 [==============================] - 23s 16ms/step - loss: 0.0753 - accuracy: 0.9802 - val_loss: 0.1103 - val_accuracy: 0.9752\n",
            "Epoch 9/100\n",
            "1500/1500 [==============================] - 19s 13ms/step - loss: 0.0704 - accuracy: 0.9822 - val_loss: 0.0994 - val_accuracy: 0.9767\n",
            "Epoch 10/100\n",
            "1500/1500 [==============================] - 17s 11ms/step - loss: 0.0594 - accuracy: 0.9836 - val_loss: 0.1080 - val_accuracy: 0.9769\n",
            "Epoch 11/100\n",
            "1500/1500 [==============================] - 17s 12ms/step - loss: 0.0581 - accuracy: 0.9849 - val_loss: 0.1038 - val_accuracy: 0.9775\n",
            "Epoch 12/100\n",
            "1500/1500 [==============================] - 19s 13ms/step - loss: 0.0521 - accuracy: 0.9862 - val_loss: 0.1216 - val_accuracy: 0.9737\n",
            "313/313 [==============================] - 1s 4ms/step - loss: 0.0880 - accuracy: 0.9775\n"
=======
            "1500/1500 [==============================] - 12s 7ms/step - loss: 0.3799 - accuracy: 0.8908 - val_loss: 0.1813 - val_accuracy: 0.9520\n",
            "Epoch 2/100\n",
            "1500/1500 [==============================] - 11s 7ms/step - loss: 0.1795 - accuracy: 0.9533 - val_loss: 0.1262 - val_accuracy: 0.9659\n",
            "Epoch 3/100\n",
            "1500/1500 [==============================] - 10s 7ms/step - loss: 0.1398 - accuracy: 0.9632 - val_loss: 0.1086 - val_accuracy: 0.9707\n",
            "Epoch 4/100\n",
            "1500/1500 [==============================] - 10s 7ms/step - loss: 0.1104 - accuracy: 0.9704 - val_loss: 0.1122 - val_accuracy: 0.9730\n",
            "Epoch 5/100\n",
            "1500/1500 [==============================] - 10s 7ms/step - loss: 0.0978 - accuracy: 0.9741 - val_loss: 0.1188 - val_accuracy: 0.9727\n",
            "Epoch 6/100\n",
            "1500/1500 [==============================] - 10s 7ms/step - loss: 0.0908 - accuracy: 0.9774 - val_loss: 0.1070 - val_accuracy: 0.9756\n",
            "Epoch 7/100\n",
            "1500/1500 [==============================] - 10s 7ms/step - loss: 0.0809 - accuracy: 0.9782 - val_loss: 0.0986 - val_accuracy: 0.9758\n",
            "Epoch 8/100\n",
            "1500/1500 [==============================] - 11s 7ms/step - loss: 0.0718 - accuracy: 0.9816 - val_loss: 0.1080 - val_accuracy: 0.9760\n",
            "Epoch 9/100\n",
            "1500/1500 [==============================] - 10s 7ms/step - loss: 0.0747 - accuracy: 0.9808 - val_loss: 0.0973 - val_accuracy: 0.9778\n",
            "Epoch 10/100\n",
            "1500/1500 [==============================] - 10s 7ms/step - loss: 0.0613 - accuracy: 0.9843 - val_loss: 0.1016 - val_accuracy: 0.9772\n",
            "Epoch 11/100\n",
            "1500/1500 [==============================] - 11s 7ms/step - loss: 0.0572 - accuracy: 0.9849 - val_loss: 0.1011 - val_accuracy: 0.9768\n",
            "Epoch 12/100\n",
            "1500/1500 [==============================] - 10s 7ms/step - loss: 0.0533 - accuracy: 0.9863 - val_loss: 0.1075 - val_accuracy: 0.9799\n",
            "Epoch 13/100\n",
            "1500/1500 [==============================] - 11s 7ms/step - loss: 0.0509 - accuracy: 0.9868 - val_loss: 0.1024 - val_accuracy: 0.9791\n",
            "Epoch 14/100\n",
            "1500/1500 [==============================] - 11s 7ms/step - loss: 0.0513 - accuracy: 0.9859 - val_loss: 0.1322 - val_accuracy: 0.9786\n",
            "313/313 [==============================] - 1s 2ms/step - loss: 0.0918 - accuracy: 0.9790\n"
>>>>>>> 3a2dab455d86309b944869f9d55ca1f1bbb41dfe
          ]
        },
        {
          "data": {
<<<<<<< HEAD
            "image/png": "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",
=======
            "image/png": "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",
>>>>>>> 3a2dab455d86309b944869f9d55ca1f1bbb41dfe
            "text/plain": [
              "<Figure size 432x288 with 1 Axes>"
            ]
          },
          "metadata": {
            "needs_background": "light"
          },
          "output_type": "display_data"
        }
      ],
      "source": [
        "# Tapered Model\n",
        "model = keras.Sequential()\n",
        "model.add(InputLayer(input_shape=(28, 28)))\n",
        "model.add(Flatten())\n",
        "model.add(Dense(500, activation='relu'))\n",
        "model.add(Dropout(0.2))\n",
        "model.add(Dense(350, activation='relu'))\n",
        "model.add(Dropout(0.2))\n",
        "model.add(Dense(200, activation='relu'))\n",
        "model.add(Dropout(0.2))\n",
        "model.add(Dense(100, activation='relu'))\n",
        "model.add(Dropout(0.2))\n",
        "model.add(Dense(50, activation='relu'))\n",
        "model.add(Dropout(0.2))\n",
        "model.add(Dense(10, activation=\"softmax\"))\n",
        "\n",
        "callback = tf.keras.callbacks.EarlyStopping(monitor='val_loss', patience=5, restore_best_weights=True) \n",
        "\n",
        "# Train the digit classification model\n",
        "model.compile(optimizer='adam', loss=\"categorical_crossentropy\", metrics='accuracy')\n",
        "\n",
        "train_log = model.fit(\n",
        "  train_images,\n",
        "  train_labels,\n",
        "  epochs=100,\n",
        "  validation_split=0.2,\n",
        "  callbacks=[callback]\n",
        ")\n",
        "model.evaluate(test_images, test_labels)\n",
        "plot_loss(train_log)"
      ]
    },
    {
      "attachments": {},
      "cell_type": "markdown",
      "metadata": {
        "id": "LwRjUyBMbYHG"
      },
      "source": [
        "## Epochs and Batch Sizes\n",
        "\n",
        "![Batch Sizes](images/iterations_epoch.webp \"Batch Sizes\")\n",
        "\n",
        "### Epochs\n",
        "\n",
        "Each epoch is a run through all of the training data. Epochs are simple, we can set a large number and use early stopping to cut things off when we've reached the best result. \n",
        "\n",
        "### Batch Sizes\n",
        "\n",
        "Batch size determines how many records are processed before the gradients are updated - i.e. the number of records between one forward and backwards pass. The batch sizes are a matter of very open debate for the optimal solution. At the high end, batch sizes are limited by what can fit in memory. When dealing with very large data this may matter as a batch that is a small fraction of the data may be a massive absolute size. At the lower end using smaller batches gives the same effect as it does when we looked at regular gradient descent - the gradients become less stable as we are relying on a smaller number of records. In reading more about batch sizes I want to update my recommendation to be even smaller than the 50 to 150 I suggested before, down to less than 100, even as small as into the single digits. There is research that smaller batch sizes tend to produce models that generalize better than ones with larger batches. \n",
        "\n",
        "Larger batch sizes do tend to be processed more quickly, sometimes substantially so, as the hardware is better able to be \"saturated\" with data to process. In big data scenarios, this can matter. One thing that you see in practice is that the GPUs (or similar) that are used to train neural networks have a certain amount of memory, and the batch size is limited by that memory. When doing something that involves large images or video, or similar, this can be a real area for concern. For us, these constraints won't really come up, but it's good to be aware of them. \n",
        "\n",
        "Dont' stress too much on batch size, this is really something that needs to be grid searched to find a great answer and in scenarios where it actually matters, is largely influenced by the hardware that is available."
      ]
    },
    {
      "cell_type": "code",
      "execution_count": 9,
      "metadata": {
        "colab": {
          "base_uri": "https://localhost:8080/"
        },
        "id": "sMFYDxPdbYHG",
        "outputId": "bff27c4c-5d53-4d25-96f5-ef5c69444d3a"
      },
      "outputs": [
        {
          "name": "stdout",
          "output_type": "stream",
          "text": [
            "Epoch 1/100\n",
<<<<<<< HEAD
            "10/10 [==============================] - 3s 163ms/step - loss: 1.4066 - accuracy: 0.6206 - val_loss: 0.4827 - val_accuracy: 0.8654\n",
            "Epoch 2/100\n",
            "10/10 [==============================] - 2s 188ms/step - loss: 0.4971 - accuracy: 0.8471 - val_loss: 0.3150 - val_accuracy: 0.9112\n",
            "Epoch 3/100\n",
            "10/10 [==============================] - 2s 181ms/step - loss: 0.3572 - accuracy: 0.8937 - val_loss: 0.2462 - val_accuracy: 0.9296\n",
            "Epoch 4/100\n",
            "10/10 [==============================] - 2s 165ms/step - loss: 0.2772 - accuracy: 0.9170 - val_loss: 0.2089 - val_accuracy: 0.9423\n",
            "Epoch 5/100\n",
            "10/10 [==============================] - 2s 204ms/step - loss: 0.2343 - accuracy: 0.9312 - val_loss: 0.1809 - val_accuracy: 0.9495\n",
            "Epoch 6/100\n",
            "10/10 [==============================] - 2s 199ms/step - loss: 0.2010 - accuracy: 0.9410 - val_loss: 0.1609 - val_accuracy: 0.9543\n",
            "Epoch 7/100\n",
            "10/10 [==============================] - 2s 176ms/step - loss: 0.1760 - accuracy: 0.9485 - val_loss: 0.1454 - val_accuracy: 0.9577\n",
            "Epoch 8/100\n",
            "10/10 [==============================] - 2s 168ms/step - loss: 0.1563 - accuracy: 0.9539 - val_loss: 0.1324 - val_accuracy: 0.9615\n",
            "Epoch 9/100\n",
            "10/10 [==============================] - 2s 160ms/step - loss: 0.1383 - accuracy: 0.9596 - val_loss: 0.1244 - val_accuracy: 0.9642\n",
            "Epoch 10/100\n",
            "10/10 [==============================] - 2s 164ms/step - loss: 0.1280 - accuracy: 0.9620 - val_loss: 0.1148 - val_accuracy: 0.9662\n",
            "Epoch 11/100\n",
            "10/10 [==============================] - 2s 160ms/step - loss: 0.1148 - accuracy: 0.9670 - val_loss: 0.1087 - val_accuracy: 0.9685\n",
            "Epoch 12/100\n",
            "10/10 [==============================] - 2s 152ms/step - loss: 0.1047 - accuracy: 0.9693 - val_loss: 0.1039 - val_accuracy: 0.9682\n",
            "Epoch 13/100\n",
            "10/10 [==============================] - 2s 152ms/step - loss: 0.0963 - accuracy: 0.9717 - val_loss: 0.0986 - val_accuracy: 0.9703\n",
            "Epoch 14/100\n",
            "10/10 [==============================] - 2s 151ms/step - loss: 0.0887 - accuracy: 0.9736 - val_loss: 0.0951 - val_accuracy: 0.9712\n",
            "Epoch 15/100\n",
            "10/10 [==============================] - 2s 162ms/step - loss: 0.0818 - accuracy: 0.9758 - val_loss: 0.0910 - val_accuracy: 0.9718\n",
            "Epoch 16/100\n",
            "10/10 [==============================] - 2s 153ms/step - loss: 0.0763 - accuracy: 0.9776 - val_loss: 0.0899 - val_accuracy: 0.9720\n",
            "Epoch 17/100\n",
            "10/10 [==============================] - 1s 150ms/step - loss: 0.0693 - accuracy: 0.9798 - val_loss: 0.0855 - val_accuracy: 0.9739\n",
            "Epoch 18/100\n",
            "10/10 [==============================] - 1s 150ms/step - loss: 0.0649 - accuracy: 0.9811 - val_loss: 0.0823 - val_accuracy: 0.9742\n",
            "Epoch 19/100\n",
            "10/10 [==============================] - 2s 155ms/step - loss: 0.0604 - accuracy: 0.9826 - val_loss: 0.0809 - val_accuracy: 0.9743\n",
            "Epoch 20/100\n",
            "10/10 [==============================] - 2s 155ms/step - loss: 0.0571 - accuracy: 0.9831 - val_loss: 0.0797 - val_accuracy: 0.9744\n",
            "Epoch 21/100\n",
            "10/10 [==============================] - 1s 150ms/step - loss: 0.0520 - accuracy: 0.9847 - val_loss: 0.0772 - val_accuracy: 0.9757\n",
            "Epoch 22/100\n",
            "10/10 [==============================] - 2s 161ms/step - loss: 0.0493 - accuracy: 0.9853 - val_loss: 0.0767 - val_accuracy: 0.9754\n",
            "Epoch 23/100\n",
            "10/10 [==============================] - 2s 167ms/step - loss: 0.0465 - accuracy: 0.9863 - val_loss: 0.0758 - val_accuracy: 0.9755\n",
            "Epoch 24/100\n",
            "10/10 [==============================] - 2s 169ms/step - loss: 0.0443 - accuracy: 0.9867 - val_loss: 0.0742 - val_accuracy: 0.9765\n",
            "Epoch 25/100\n",
            "10/10 [==============================] - 2s 174ms/step - loss: 0.0390 - accuracy: 0.9886 - val_loss: 0.0743 - val_accuracy: 0.9766\n",
            "Epoch 26/100\n",
            "10/10 [==============================] - 2s 152ms/step - loss: 0.0395 - accuracy: 0.9886 - val_loss: 0.0730 - val_accuracy: 0.9764\n",
            "Epoch 27/100\n",
            "10/10 [==============================] - 1s 150ms/step - loss: 0.0361 - accuracy: 0.9896 - val_loss: 0.0724 - val_accuracy: 0.9776\n",
            "Epoch 28/100\n",
            "10/10 [==============================] - 1s 151ms/step - loss: 0.0344 - accuracy: 0.9903 - val_loss: 0.0713 - val_accuracy: 0.9787\n",
            "Epoch 29/100\n",
            "10/10 [==============================] - 2s 157ms/step - loss: 0.0321 - accuracy: 0.9908 - val_loss: 0.0701 - val_accuracy: 0.9786\n",
            "Epoch 30/100\n",
            "10/10 [==============================] - 2s 151ms/step - loss: 0.0299 - accuracy: 0.9916 - val_loss: 0.0702 - val_accuracy: 0.9784\n",
            "Epoch 31/100\n",
            "10/10 [==============================] - 1s 149ms/step - loss: 0.0279 - accuracy: 0.9914 - val_loss: 0.0691 - val_accuracy: 0.9787\n",
            "Epoch 32/100\n",
            "10/10 [==============================] - 1s 149ms/step - loss: 0.0278 - accuracy: 0.9917 - val_loss: 0.0692 - val_accuracy: 0.9783\n",
            "Epoch 33/100\n",
            "10/10 [==============================] - 1s 151ms/step - loss: 0.0252 - accuracy: 0.9928 - val_loss: 0.0683 - val_accuracy: 0.9789\n",
            "Epoch 34/100\n",
            "10/10 [==============================] - 2s 156ms/step - loss: 0.0229 - accuracy: 0.9938 - val_loss: 0.0696 - val_accuracy: 0.9784\n",
            "Epoch 35/100\n",
            "10/10 [==============================] - 2s 152ms/step - loss: 0.0228 - accuracy: 0.9929 - val_loss: 0.0696 - val_accuracy: 0.9787\n",
            "Epoch 36/100\n",
            "10/10 [==============================] - 2s 157ms/step - loss: 0.0210 - accuracy: 0.9937 - val_loss: 0.0693 - val_accuracy: 0.9793\n",
            "313/313 [==============================] - 1s 3ms/step - loss: 0.0638 - accuracy: 0.9799\n"
=======
            "10/10 [==============================] - 2s 115ms/step - loss: 1.3828 - accuracy: 0.6204 - val_loss: 0.4813 - val_accuracy: 0.8603\n",
            "Epoch 2/100\n",
            "10/10 [==============================] - 1s 91ms/step - loss: 0.4827 - accuracy: 0.8508 - val_loss: 0.3123 - val_accuracy: 0.9111\n",
            "Epoch 3/100\n",
            "10/10 [==============================] - 1s 91ms/step - loss: 0.3443 - accuracy: 0.8968 - val_loss: 0.2420 - val_accuracy: 0.9285\n",
            "Epoch 4/100\n",
            "10/10 [==============================] - 1s 93ms/step - loss: 0.2705 - accuracy: 0.9201 - val_loss: 0.2041 - val_accuracy: 0.9413\n",
            "Epoch 5/100\n",
            "10/10 [==============================] - 1s 101ms/step - loss: 0.2257 - accuracy: 0.9340 - val_loss: 0.1774 - val_accuracy: 0.9507\n",
            "Epoch 6/100\n",
            "10/10 [==============================] - 1s 92ms/step - loss: 0.1951 - accuracy: 0.9427 - val_loss: 0.1596 - val_accuracy: 0.9545\n",
            "Epoch 7/100\n",
            "10/10 [==============================] - 1s 95ms/step - loss: 0.1701 - accuracy: 0.9509 - val_loss: 0.1450 - val_accuracy: 0.9576\n",
            "Epoch 8/100\n",
            "10/10 [==============================] - 1s 94ms/step - loss: 0.1544 - accuracy: 0.9541 - val_loss: 0.1343 - val_accuracy: 0.9597\n",
            "Epoch 9/100\n",
            "10/10 [==============================] - 1s 94ms/step - loss: 0.1376 - accuracy: 0.9600 - val_loss: 0.1251 - val_accuracy: 0.9627\n",
            "Epoch 10/100\n",
            "10/10 [==============================] - 1s 100ms/step - loss: 0.1255 - accuracy: 0.9631 - val_loss: 0.1181 - val_accuracy: 0.9659\n",
            "Epoch 11/100\n",
            "10/10 [==============================] - 1s 90ms/step - loss: 0.1145 - accuracy: 0.9667 - val_loss: 0.1122 - val_accuracy: 0.9670\n",
            "Epoch 12/100\n",
            "10/10 [==============================] - 1s 87ms/step - loss: 0.1043 - accuracy: 0.9690 - val_loss: 0.1052 - val_accuracy: 0.9689\n",
            "Epoch 13/100\n",
            "10/10 [==============================] - 1s 89ms/step - loss: 0.0953 - accuracy: 0.9716 - val_loss: 0.1008 - val_accuracy: 0.9703\n",
            "Epoch 14/100\n",
            "10/10 [==============================] - 1s 87ms/step - loss: 0.0872 - accuracy: 0.9743 - val_loss: 0.0979 - val_accuracy: 0.9708\n",
            "Epoch 15/100\n",
            "10/10 [==============================] - 1s 92ms/step - loss: 0.0808 - accuracy: 0.9760 - val_loss: 0.0936 - val_accuracy: 0.9714\n",
            "Epoch 16/100\n",
            "10/10 [==============================] - 1s 86ms/step - loss: 0.0743 - accuracy: 0.9785 - val_loss: 0.0904 - val_accuracy: 0.9732\n",
            "Epoch 17/100\n",
            "10/10 [==============================] - 1s 98ms/step - loss: 0.0692 - accuracy: 0.9792 - val_loss: 0.0891 - val_accuracy: 0.9735\n",
            "Epoch 18/100\n",
            "10/10 [==============================] - 1s 86ms/step - loss: 0.0638 - accuracy: 0.9809 - val_loss: 0.0863 - val_accuracy: 0.9739\n",
            "Epoch 19/100\n",
            "10/10 [==============================] - 1s 87ms/step - loss: 0.0587 - accuracy: 0.9828 - val_loss: 0.0838 - val_accuracy: 0.9747\n",
            "Epoch 20/100\n",
            "10/10 [==============================] - 1s 87ms/step - loss: 0.0550 - accuracy: 0.9836 - val_loss: 0.0822 - val_accuracy: 0.9740\n",
            "Epoch 21/100\n",
            "10/10 [==============================] - 1s 87ms/step - loss: 0.0517 - accuracy: 0.9847 - val_loss: 0.0804 - val_accuracy: 0.9749\n",
            "Epoch 22/100\n",
            "10/10 [==============================] - 1s 88ms/step - loss: 0.0472 - accuracy: 0.9862 - val_loss: 0.0806 - val_accuracy: 0.9763\n",
            "Epoch 23/100\n",
            "10/10 [==============================] - 1s 94ms/step - loss: 0.0455 - accuracy: 0.9864 - val_loss: 0.0791 - val_accuracy: 0.9765\n",
            "Epoch 24/100\n",
            "10/10 [==============================] - 1s 90ms/step - loss: 0.0435 - accuracy: 0.9877 - val_loss: 0.0776 - val_accuracy: 0.9768\n",
            "Epoch 25/100\n",
            "10/10 [==============================] - 1s 96ms/step - loss: 0.0397 - accuracy: 0.9886 - val_loss: 0.0763 - val_accuracy: 0.9772\n",
            "Epoch 26/100\n",
            "10/10 [==============================] - 1s 106ms/step - loss: 0.0378 - accuracy: 0.9889 - val_loss: 0.0760 - val_accuracy: 0.9778\n",
            "Epoch 27/100\n",
            "10/10 [==============================] - 1s 88ms/step - loss: 0.0350 - accuracy: 0.9895 - val_loss: 0.0754 - val_accuracy: 0.9784\n",
            "Epoch 28/100\n",
            "10/10 [==============================] - 1s 88ms/step - loss: 0.0335 - accuracy: 0.9903 - val_loss: 0.0746 - val_accuracy: 0.9784\n",
            "Epoch 29/100\n",
            "10/10 [==============================] - 1s 87ms/step - loss: 0.0309 - accuracy: 0.9910 - val_loss: 0.0734 - val_accuracy: 0.9781\n",
            "Epoch 30/100\n",
            "10/10 [==============================] - 1s 89ms/step - loss: 0.0296 - accuracy: 0.9914 - val_loss: 0.0737 - val_accuracy: 0.9785\n",
            "Epoch 31/100\n",
            "10/10 [==============================] - 1s 89ms/step - loss: 0.0278 - accuracy: 0.9919 - val_loss: 0.0747 - val_accuracy: 0.9787\n",
            "Epoch 32/100\n",
            "10/10 [==============================] - 1s 89ms/step - loss: 0.0258 - accuracy: 0.9925 - val_loss: 0.0731 - val_accuracy: 0.9794\n",
            "Epoch 33/100\n",
            "10/10 [==============================] - 1s 90ms/step - loss: 0.0248 - accuracy: 0.9930 - val_loss: 0.0723 - val_accuracy: 0.9787\n",
            "Epoch 34/100\n",
            "10/10 [==============================] - 1s 91ms/step - loss: 0.0241 - accuracy: 0.9927 - val_loss: 0.0732 - val_accuracy: 0.9790\n",
            "Epoch 35/100\n",
            "10/10 [==============================] - 1s 89ms/step - loss: 0.0221 - accuracy: 0.9937 - val_loss: 0.0705 - val_accuracy: 0.9797\n",
            "Epoch 36/100\n",
            "10/10 [==============================] - 1s 101ms/step - loss: 0.0207 - accuracy: 0.9943 - val_loss: 0.0707 - val_accuracy: 0.9793\n",
            "Epoch 37/100\n",
            "10/10 [==============================] - 1s 90ms/step - loss: 0.0195 - accuracy: 0.9947 - val_loss: 0.0734 - val_accuracy: 0.9794\n",
            "Epoch 38/100\n",
            "10/10 [==============================] - 1s 88ms/step - loss: 0.0193 - accuracy: 0.9945 - val_loss: 0.0718 - val_accuracy: 0.9799\n",
            "313/313 [==============================] - 1s 2ms/step - loss: 0.0618 - accuracy: 0.9811\n"
>>>>>>> 3a2dab455d86309b944869f9d55ca1f1bbb41dfe
          ]
        },
        {
          "data": {
<<<<<<< HEAD
            "image/png": "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",
=======
            "image/png": "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",
>>>>>>> 3a2dab455d86309b944869f9d55ca1f1bbb41dfe
            "text/plain": [
              "<Figure size 432x288 with 1 Axes>"
            ]
          },
          "metadata": {
            "needs_background": "light"
          },
          "output_type": "display_data"
        }
      ],
      "source": [
        "# Big Batch\n",
        "model = keras.Sequential()\n",
        "model.add(InputLayer(input_shape=(28, 28)))\n",
        "model.add(Flatten())\n",
        "model.add(Dense(500, activation='relu'))\n",
        "model.add(Dropout(0.2))\n",
        "model.add(Dense(350, activation='relu'))\n",
        "model.add(Dropout(0.2))\n",
        "model.add(Dense(10, activation=\"softmax\"))\n",
        "\n",
        "callback = tf.keras.callbacks.EarlyStopping(monitor='val_loss', patience=3, restore_best_weights=True) \n",
        "\n",
        "# Train the digit classification model\n",
        "model.compile(optimizer='adam', loss=\"categorical_crossentropy\", metrics='accuracy')\n",
        "\n",
        "train_log = model.fit(\n",
        "  train_images,\n",
        "  train_labels,\n",
        "  epochs=100,\n",
        "  batch_size=5000,\n",
        "  validation_split=0.2,\n",
        "  callbacks=[callback]\n",
        ")\n",
        "model.evaluate(test_images, test_labels)\n",
        "plot_loss(train_log)"
      ]
    },
    {
      "cell_type": "code",
      "execution_count": 10,
      "metadata": {
        "colab": {
          "base_uri": "https://localhost:8080/"
        },
        "id": "vbJeAtnDipXo",
        "outputId": "e5abf716-b380-4174-f0df-9611e7689a9b"
      },
      "outputs": [
        {
          "name": "stdout",
          "output_type": "stream",
          "text": [
            "Epoch 1/300\n",
<<<<<<< HEAD
            "24000/24000 [==============================] - 204s 8ms/step - loss: 0.3088 - accuracy: 0.9127 - val_loss: 0.1567 - val_accuracy: 0.9553\n",
            "Epoch 2/300\n",
            "24000/24000 [==============================] - 207s 9ms/step - loss: 0.2178 - accuracy: 0.9464 - val_loss: 0.1507 - val_accuracy: 0.9669\n",
            "Epoch 3/300\n",
            "24000/24000 [==============================] - 172s 7ms/step - loss: 0.2119 - accuracy: 0.9506 - val_loss: 0.1723 - val_accuracy: 0.9652\n",
            "Epoch 4/300\n",
            "24000/24000 [==============================] - 172s 7ms/step - loss: 0.2140 - accuracy: 0.9548 - val_loss: 0.2133 - val_accuracy: 0.9654\n",
            "Epoch 5/300\n",
            "24000/24000 [==============================] - 210s 9ms/step - loss: 0.2104 - accuracy: 0.9555 - val_loss: 0.1938 - val_accuracy: 0.9668\n",
            "313/313 [==============================] - 1s 3ms/step - loss: 0.1579 - accuracy: 0.9646\n"
=======
            "24000/24000 [==============================] - 104s 4ms/step - loss: 0.3053 - accuracy: 0.9134 - val_loss: 0.1566 - val_accuracy: 0.9585\n",
            "Epoch 2/300\n",
            "24000/24000 [==============================] - 105s 4ms/step - loss: 0.2226 - accuracy: 0.9466 - val_loss: 0.1808 - val_accuracy: 0.9539\n",
            "Epoch 3/300\n",
            "24000/24000 [==============================] - 107s 4ms/step - loss: 0.2170 - accuracy: 0.9504 - val_loss: 0.1650 - val_accuracy: 0.9596\n",
            "Epoch 4/300\n",
            "24000/24000 [==============================] - 107s 4ms/step - loss: 0.2105 - accuracy: 0.9536 - val_loss: 0.1750 - val_accuracy: 0.9663\n",
            "313/313 [==============================] - 1s 2ms/step - loss: 0.1548 - accuracy: 0.9557\n"
>>>>>>> 3a2dab455d86309b944869f9d55ca1f1bbb41dfe
          ]
        },
        {
          "data": {
<<<<<<< HEAD
            "image/png": "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",
=======
            "image/png": "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",
>>>>>>> 3a2dab455d86309b944869f9d55ca1f1bbb41dfe
            "text/plain": [
              "<Figure size 432x288 with 1 Axes>"
            ]
          },
          "metadata": {
            "needs_background": "light"
          },
          "output_type": "display_data"
        }
      ],
      "source": [
        "# Small Batch\n",
        "model = keras.Sequential()\n",
        "model.add(InputLayer(input_shape=(28, 28)))\n",
        "model.add(Flatten())\n",
        "model.add(Dense(500, activation='relu'))\n",
        "model.add(Dropout(0.2))\n",
        "model.add(Dense(350, activation='relu'))\n",
        "model.add(Dropout(0.2))\n",
        "model.add(Dense(10, activation=\"softmax\"))\n",
        "\n",
        "callback = tf.keras.callbacks.EarlyStopping(monitor='val_loss', patience=3, restore_best_weights=True) \n",
        "\n",
        "# Train the digit classification model\n",
        "model.compile(optimizer='adam', loss=\"categorical_crossentropy\", metrics='accuracy')\n",
        "\n",
        "# Note: Batch size of 2 is good to test\n",
        "# But it can take a VERY long time, be aggressive with the early stopping\n",
        "train_log = model.fit(\n",
        "  train_images,\n",
        "  train_labels,\n",
        "  epochs=300,\n",
        "  batch_size=2,\n",
        "  validation_split=0.2,\n",
        "  callbacks=[callback]\n",
        ")\n",
        "model.evaluate(test_images, test_labels)\n",
        "plot_loss(train_log)"
      ]
    },
    {
      "attachments": {},
      "cell_type": "markdown",
      "metadata": {
        "id": "bUFvtavwbYHH"
      },
      "source": [
        "## Optimizer\n",
        "\n",
        "Of all options the optimizer is the one we will care about the least. Each different optimizer is a different algorithm for doing the gradient descent. The optimizers have different results with respect to speed, memory usage, computational expense, and likelyhood to get stuck in a local minima. The optimizer is similar to some of the options we saw with logistic regression - there were several solver options for that model, each of which performed the gradient descent process with a slightly different set of calculations. Optimizers tend to manipulate the learning rate, attempting to narrow in on the optimum weights in fewer epochs and thus fewer calculations.\n",
        "\n",
        "![Optimizers](images/optimizers.gif \"Optimizers\")\n",
        "\n",
        "<b>Note:</b> this animation doesn't have Adam, which is unfortumate, but it was the most clear one I could find. The different optimizers are all trying to find the same minimum, and in most cases they all do, but they take differnt paths to get there, over a different number of steps.\n",
        "\n",
        "Adam is a good compromise between all factors and is very commonly used. We'll just use this for our work. One other common one is RMSprop, if you're feeling spicy, give that a try and see if there are any imporvements. These optimizers don't change the model we are making (outside of edge cases, like getting stuck in a minima), they change the process of finding that model. The biggest impact of the optimizer is on the speed of the training process, and in turn the ability to experiment with different models. This is more of a concern as the data gets larger, as small improvements on each individual gradient descent step can add up to large improvements in the overall training time. "
      ]
    },
    {
      "cell_type": "code",
<<<<<<< HEAD
      "execution_count": 14,
=======
      "execution_count": 11,
>>>>>>> 3a2dab455d86309b944869f9d55ca1f1bbb41dfe
      "metadata": {
        "id": "5qIRrRF2bYHH"
      },
      "outputs": [],
      "source": [
        "optimizer_1 = tf.keras.optimizers.Adam()\n",
        "optimizer_2 = tf.keras.optimizers.RMSprop()"
      ]
    },
    {
      "attachments": {},
      "cell_type": "markdown",
      "metadata": {
        "id": "RXb18AySbYHH"
      },
      "source": [
        "## Activation \n",
        "\n",
        "Activation functions are the key to adding non-linearity to the network allowing it to learn complex and non-linear relationships in the data. We've used ReLU as the default and that is a solid choice in most cases. ReLU has one issue, the dying ReLU problem. This can happen when we get inputs to the activation function fall in the negative area. In short there can be neurons that \"die\" and never get updated again because the value becomes 0 and stays 0. These dead neurons are a problem as they now aren't contributing to the learning.\n",
        "\n",
        "![ReLU](images/relu.jpeg \"ReLU\")\n",
        "\n",
        "To combat the dying ReLU problem there are a couple of other activation functions that avoid that issue - Leaky ReLU and ELU. Each one changes the negative values to something other than 0 - Leaky ReLU uses a slight linear gradient, ELU uses an exponential function for a similar, but curved, slight gradient. These ReLU variants are a good choice, and probably the 'best' overall activation functions for most scenarios. One some datasets will be impacted by the dying ReLU problem. \n",
        "\n",
        "These activation function also have an impact on the speed of training. The ReLU function is very fast to calculate, and the Leaky ReLU and ELU functions are a bit slower. Other activation functions may be even more expensive. Will this matter? As with many things, it depends. For the small examples we are using, it probably won't matter much. On very large applications, we may need to consider the ability to train models more quickly, and try more models vs. the improved fit of another activation function.\n",
        "\n",
        "#### Activation Function Guidelines\n",
        "\n",
        "We can write a few rules of thumb to guide us in deciding on activation functions. On the whole, the choice is like a hyperparameter choice, and we want to choose whichever is the best for our data. Some of the guidelines are:\n",
        "<ul>\n",
        "<li> The output layer should have an activation function that matches the type of problem we are solving. \n",
        "    <ul>\n",
        "    <li> <b>Regression:</b> Linear activation function.\n",
        "    <li> <b>Binary Classification:</b> Sigmoid activation function.\n",
        "    <li> <b>Multiclass Classification:</b> Softmax activation function.\n",
        "    </ul>\n",
        "<li> Depending on the type of network/problem, our hidden layers default to different activation functions:\n",
        "    <ul>\n",
        "    <li> <b>Deep Neural Networks:</b> ReLU activation functions.\n",
        "    <li> <b>Convolutional Neural Networks: (Images)</b> ReLU activation functions.\n",
        "    <li> <b>Recurrent Neural Networks:(Seqential, Time Series)</b> Tanh activation function.\n",
        "    </ul>\n",
        "</ul>\n",
        "\n",
        "There are more activation functions, and others are being developed somewhat regularly. If in doubt, just use a ReLU variant. "
      ]
    },
    {
      "cell_type": "code",
<<<<<<< HEAD
      "execution_count": 15,
=======
      "execution_count": 12,
>>>>>>> 3a2dab455d86309b944869f9d55ca1f1bbb41dfe
      "metadata": {
        "colab": {
          "base_uri": "https://localhost:8080/"
        },
        "id": "MQ81hFfxbYHH",
        "outputId": "d9a522ce-4252-4709-cb3a-c5cebfb1f355"
      },
      "outputs": [
        {
          "name": "stdout",
          "output_type": "stream",
          "text": [
            "Epoch 1/10\n",
<<<<<<< HEAD
            "750/750 [==============================] - 10s 12ms/step - loss: 0.2773 - accuracy: 0.9163 - val_loss: 0.1500 - val_accuracy: 0.9536\n",
            "Epoch 2/10\n",
            "750/750 [==============================] - 8s 11ms/step - loss: 0.1406 - accuracy: 0.9574 - val_loss: 0.1114 - val_accuracy: 0.9664\n",
            "Epoch 3/10\n",
            "750/750 [==============================] - 8s 11ms/step - loss: 0.1142 - accuracy: 0.9656 - val_loss: 0.1137 - val_accuracy: 0.9695\n",
            "Epoch 4/10\n",
            "750/750 [==============================] - 8s 11ms/step - loss: 0.0981 - accuracy: 0.9710 - val_loss: 0.0968 - val_accuracy: 0.9727\n",
            "Epoch 5/10\n",
            "750/750 [==============================] - 8s 11ms/step - loss: 0.0850 - accuracy: 0.9751 - val_loss: 0.1014 - val_accuracy: 0.9728\n",
            "Epoch 6/10\n",
            "750/750 [==============================] - 8s 11ms/step - loss: 0.0754 - accuracy: 0.9771 - val_loss: 0.1006 - val_accuracy: 0.9719\n",
            "Epoch 7/10\n",
            "750/750 [==============================] - 9s 12ms/step - loss: 0.0724 - accuracy: 0.9776 - val_loss: 0.1115 - val_accuracy: 0.9730\n",
            "Epoch 8/10\n",
            "750/750 [==============================] - 9s 12ms/step - loss: 0.0676 - accuracy: 0.9796 - val_loss: 0.0959 - val_accuracy: 0.9758\n",
            "Epoch 9/10\n",
            "750/750 [==============================] - 8s 11ms/step - loss: 0.0631 - accuracy: 0.9816 - val_loss: 0.0993 - val_accuracy: 0.9768\n",
            "Epoch 10/10\n",
            "750/750 [==============================] - 8s 11ms/step - loss: 0.0600 - accuracy: 0.9818 - val_loss: 0.1123 - val_accuracy: 0.9704\n",
            "313/313 [==============================] - 1s 3ms/step - loss: 0.1011 - accuracy: 0.9731\n"
=======
            "750/750 [==============================] - 5s 5ms/step - loss: 0.2750 - accuracy: 0.9164 - val_loss: 0.1395 - val_accuracy: 0.9582\n",
            "Epoch 2/10\n",
            "750/750 [==============================] - 4s 5ms/step - loss: 0.1418 - accuracy: 0.9570 - val_loss: 0.1029 - val_accuracy: 0.9684\n",
            "Epoch 3/10\n",
            "750/750 [==============================] - 4s 5ms/step - loss: 0.1111 - accuracy: 0.9678 - val_loss: 0.1119 - val_accuracy: 0.9675\n",
            "Epoch 4/10\n",
            "750/750 [==============================] - 6s 7ms/step - loss: 0.0961 - accuracy: 0.9703 - val_loss: 0.0977 - val_accuracy: 0.9730\n",
            "Epoch 5/10\n",
            "750/750 [==============================] - 4s 5ms/step - loss: 0.0855 - accuracy: 0.9739 - val_loss: 0.0996 - val_accuracy: 0.9728\n",
            "Epoch 6/10\n",
            "750/750 [==============================] - 4s 5ms/step - loss: 0.0767 - accuracy: 0.9772 - val_loss: 0.0977 - val_accuracy: 0.9753\n",
            "Epoch 7/10\n",
            "750/750 [==============================] - 4s 5ms/step - loss: 0.0704 - accuracy: 0.9790 - val_loss: 0.1118 - val_accuracy: 0.9714\n",
            "Epoch 8/10\n",
            "750/750 [==============================] - 4s 5ms/step - loss: 0.0689 - accuracy: 0.9796 - val_loss: 0.0907 - val_accuracy: 0.9758\n",
            "Epoch 9/10\n",
            "750/750 [==============================] - 4s 5ms/step - loss: 0.0624 - accuracy: 0.9813 - val_loss: 0.0994 - val_accuracy: 0.9761\n",
            "Epoch 10/10\n",
            "750/750 [==============================] - 4s 5ms/step - loss: 0.0589 - accuracy: 0.9827 - val_loss: 0.1322 - val_accuracy: 0.9680\n",
            "313/313 [==============================] - 1s 2ms/step - loss: 0.1275 - accuracy: 0.9689\n"
>>>>>>> 3a2dab455d86309b944869f9d55ca1f1bbb41dfe
          ]
        },
        {
          "data": {
<<<<<<< HEAD
            "image/png": "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",
=======
            "image/png": "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",
>>>>>>> 3a2dab455d86309b944869f9d55ca1f1bbb41dfe
            "text/plain": [
              "<Figure size 432x288 with 1 Axes>"
            ]
          },
          "metadata": {
            "needs_background": "light"
          },
          "output_type": "display_data"
        }
      ],
      "source": [
        "# Take a leak \n",
        "model = keras.Sequential()\n",
        "model.add(InputLayer(input_shape=(28, 28)))\n",
        "model.add(Flatten())\n",
        "model.add(Dense(500, activation='leaky_relu'))\n",
        "model.add(Dropout(0.2))\n",
        "model.add(Dense(350, activation='leaky_relu'))\n",
        "model.add(Dropout(0.2))\n",
        "model.add(Dense(10, activation=\"softmax\"))\n",
        "\n",
        "callback = tf.keras.callbacks.EarlyStopping(monitor='val_loss', patience=10, restore_best_weights=True) \n",
        "\n",
        "# Train the digit classification model\n",
        "model.compile(optimizer=optimizer_2, loss=\"categorical_crossentropy\", metrics='accuracy')\n",
        "\n",
        "train_log = model.fit(\n",
        "  train_images,\n",
        "  train_labels,\n",
        "  epochs=10,\n",
        "  batch_size=64,\n",
        "  validation_split=0.2,\n",
        "  callbacks=[callback]\n",
        ")\n",
        "model.evaluate(test_images, test_labels)\n",
        "plot_loss(train_log)"
      ]
    },
    {
      "attachments": {},
      "cell_type": "markdown",
      "metadata": {
        "id": "Gi7DxgCsbYHH"
      },
      "source": [
        "## Initialization\n",
        "\n",
        "The initialization provides the starting point for all the weights and bias values that we start out with. We initially started with random values in the scratch network - this is generally fine, but we can sometimes do better. One specific case where we can do better is when we have data that is highly imbalanced. This is a common problem in things such as fraud detection, where we have a very small number of fraud cases, and a very large number of non-fraud cases. Seeding the model with an \"expectation\" of the bias values can help the model learn faster and converge on an answer more quickly. In cases where we have a lot of data, this can be a big deal. In cases where we may have local minima in the loss curve, this can be significant - the more \"ground\" the gradient descent covers, the greater the odds it encounters a local minima that might be a trap. With imbalenced data, we expect that the model will need to cover a lot of that ground, so starting off with a better bias value can help. \n",
        "\n",
        "### Imbalanced Weighting\n",
        "\n",
        "One application where initialization can help significantly is when dealing with imbalanced data. In this example of credit card fraud (real data that has been put through PCA), very, very few transactions are fraudulent. So we have a very imbalanced target value - the class variable. "
      ]
    },
    {
      "cell_type": "code",
<<<<<<< HEAD
      "execution_count": null,
=======
      "execution_count": 13,
>>>>>>> 3a2dab455d86309b944869f9d55ca1f1bbb41dfe
      "metadata": {
        "colab": {
          "base_uri": "https://localhost:8080/",
          "height": 299
        },
        "id": "jf84UJGPbYHI",
        "outputId": "8293e2c9-d3ae-45d7-a10d-30eeeeb95c1a"
      },
      "outputs": [
        {
          "data": {
            "text/html": [
              "<div>\n",
              "<style scoped>\n",
              "    .dataframe tbody tr th:only-of-type {\n",
              "        vertical-align: middle;\n",
              "    }\n",
              "\n",
              "    .dataframe tbody tr th {\n",
              "        vertical-align: top;\n",
              "    }\n",
              "\n",
              "    .dataframe thead th {\n",
              "        text-align: right;\n",
              "    }\n",
              "</style>\n",
              "<table border=\"1\" class=\"dataframe\">\n",
              "  <thead>\n",
              "    <tr style=\"text-align: right;\">\n",
              "      <th></th>\n",
              "      <th>Time</th>\n",
              "      <th>V1</th>\n",
              "      <th>V2</th>\n",
              "      <th>V3</th>\n",
              "      <th>V4</th>\n",
              "      <th>V5</th>\n",
              "      <th>V6</th>\n",
              "      <th>V7</th>\n",
              "      <th>V8</th>\n",
              "      <th>V9</th>\n",
              "      <th>...</th>\n",
              "      <th>V21</th>\n",
              "      <th>V22</th>\n",
              "      <th>V23</th>\n",
              "      <th>V24</th>\n",
              "      <th>V25</th>\n",
              "      <th>V26</th>\n",
              "      <th>V27</th>\n",
              "      <th>V28</th>\n",
              "      <th>Amount</th>\n",
              "      <th>Class</th>\n",
              "    </tr>\n",
              "  </thead>\n",
              "  <tbody>\n",
              "    <tr>\n",
              "      <th>0</th>\n",
              "      <td>0.0</td>\n",
              "      <td>-1.359807</td>\n",
              "      <td>-0.072781</td>\n",
              "      <td>2.536347</td>\n",
              "      <td>1.378155</td>\n",
              "      <td>-0.338321</td>\n",
              "      <td>0.462388</td>\n",
              "      <td>0.239599</td>\n",
              "      <td>0.098698</td>\n",
              "      <td>0.363787</td>\n",
              "      <td>...</td>\n",
              "      <td>-0.018307</td>\n",
              "      <td>0.277838</td>\n",
              "      <td>-0.110474</td>\n",
              "      <td>0.066928</td>\n",
              "      <td>0.128539</td>\n",
              "      <td>-0.189115</td>\n",
              "      <td>0.133558</td>\n",
              "      <td>-0.021053</td>\n",
              "      <td>149.62</td>\n",
              "      <td>0</td>\n",
              "    </tr>\n",
              "    <tr>\n",
              "      <th>1</th>\n",
              "      <td>0.0</td>\n",
              "      <td>1.191857</td>\n",
              "      <td>0.266151</td>\n",
              "      <td>0.166480</td>\n",
              "      <td>0.448154</td>\n",
              "      <td>0.060018</td>\n",
              "      <td>-0.082361</td>\n",
              "      <td>-0.078803</td>\n",
              "      <td>0.085102</td>\n",
              "      <td>-0.255425</td>\n",
              "      <td>...</td>\n",
              "      <td>-0.225775</td>\n",
              "      <td>-0.638672</td>\n",
              "      <td>0.101288</td>\n",
              "      <td>-0.339846</td>\n",
              "      <td>0.167170</td>\n",
              "      <td>0.125895</td>\n",
              "      <td>-0.008983</td>\n",
              "      <td>0.014724</td>\n",
              "      <td>2.69</td>\n",
              "      <td>0</td>\n",
              "    </tr>\n",
              "    <tr>\n",
              "      <th>2</th>\n",
              "      <td>1.0</td>\n",
              "      <td>-1.358354</td>\n",
              "      <td>-1.340163</td>\n",
              "      <td>1.773209</td>\n",
              "      <td>0.379780</td>\n",
              "      <td>-0.503198</td>\n",
              "      <td>1.800499</td>\n",
              "      <td>0.791461</td>\n",
              "      <td>0.247676</td>\n",
              "      <td>-1.514654</td>\n",
              "      <td>...</td>\n",
              "      <td>0.247998</td>\n",
              "      <td>0.771679</td>\n",
              "      <td>0.909412</td>\n",
              "      <td>-0.689281</td>\n",
              "      <td>-0.327642</td>\n",
              "      <td>-0.139097</td>\n",
              "      <td>-0.055353</td>\n",
              "      <td>-0.059752</td>\n",
              "      <td>378.66</td>\n",
              "      <td>0</td>\n",
              "    </tr>\n",
              "    <tr>\n",
              "      <th>3</th>\n",
              "      <td>1.0</td>\n",
              "      <td>-0.966272</td>\n",
              "      <td>-0.185226</td>\n",
              "      <td>1.792993</td>\n",
              "      <td>-0.863291</td>\n",
              "      <td>-0.010309</td>\n",
              "      <td>1.247203</td>\n",
              "      <td>0.237609</td>\n",
              "      <td>0.377436</td>\n",
              "      <td>-1.387024</td>\n",
              "      <td>...</td>\n",
              "      <td>-0.108300</td>\n",
              "      <td>0.005274</td>\n",
              "      <td>-0.190321</td>\n",
              "      <td>-1.175575</td>\n",
              "      <td>0.647376</td>\n",
              "      <td>-0.221929</td>\n",
              "      <td>0.062723</td>\n",
              "      <td>0.061458</td>\n",
              "      <td>123.50</td>\n",
              "      <td>0</td>\n",
              "    </tr>\n",
              "    <tr>\n",
              "      <th>4</th>\n",
              "      <td>2.0</td>\n",
              "      <td>-1.158233</td>\n",
              "      <td>0.877737</td>\n",
              "      <td>1.548718</td>\n",
              "      <td>0.403034</td>\n",
              "      <td>-0.407193</td>\n",
              "      <td>0.095921</td>\n",
              "      <td>0.592941</td>\n",
              "      <td>-0.270533</td>\n",
              "      <td>0.817739</td>\n",
              "      <td>...</td>\n",
              "      <td>-0.009431</td>\n",
              "      <td>0.798278</td>\n",
              "      <td>-0.137458</td>\n",
              "      <td>0.141267</td>\n",
              "      <td>-0.206010</td>\n",
              "      <td>0.502292</td>\n",
              "      <td>0.219422</td>\n",
              "      <td>0.215153</td>\n",
              "      <td>69.99</td>\n",
              "      <td>0</td>\n",
              "    </tr>\n",
              "  </tbody>\n",
              "</table>\n",
              "<p>5 rows × 31 columns</p>\n",
              "</div>"
            ],
            "text/plain": [
              "   Time        V1        V2        V3        V4        V5        V6        V7  \\\n",
              "0   0.0 -1.359807 -0.072781  2.536347  1.378155 -0.338321  0.462388  0.239599   \n",
              "1   0.0  1.191857  0.266151  0.166480  0.448154  0.060018 -0.082361 -0.078803   \n",
              "2   1.0 -1.358354 -1.340163  1.773209  0.379780 -0.503198  1.800499  0.791461   \n",
              "3   1.0 -0.966272 -0.185226  1.792993 -0.863291 -0.010309  1.247203  0.237609   \n",
              "4   2.0 -1.158233  0.877737  1.548718  0.403034 -0.407193  0.095921  0.592941   \n",
              "\n",
              "         V8        V9  ...       V21       V22       V23       V24       V25  \\\n",
              "0  0.098698  0.363787  ... -0.018307  0.277838 -0.110474  0.066928  0.128539   \n",
              "1  0.085102 -0.255425  ... -0.225775 -0.638672  0.101288 -0.339846  0.167170   \n",
              "2  0.247676 -1.514654  ...  0.247998  0.771679  0.909412 -0.689281 -0.327642   \n",
              "3  0.377436 -1.387024  ... -0.108300  0.005274 -0.190321 -1.175575  0.647376   \n",
              "4 -0.270533  0.817739  ... -0.009431  0.798278 -0.137458  0.141267 -0.206010   \n",
              "\n",
              "        V26       V27       V28  Amount  Class  \n",
              "0 -0.189115  0.133558 -0.021053  149.62      0  \n",
              "1  0.125895 -0.008983  0.014724    2.69      0  \n",
              "2 -0.139097 -0.055353 -0.059752  378.66      0  \n",
              "3 -0.221929  0.062723  0.061458  123.50      0  \n",
              "4  0.502292  0.219422  0.215153   69.99      0  \n",
              "\n",
              "[5 rows x 31 columns]"
            ]
          },
          "execution_count": 13,
          "metadata": {},
          "output_type": "execute_result"
        }
      ],
      "source": [
        "file = tf.keras.utils\n",
        "raw_df = pd.read_csv('https://storage.googleapis.com/download.tensorflow.org/data/creditcard.csv')\n",
        "raw_df.head()"
      ]
    },
    {
      "cell_type": "markdown",
      "metadata": {},
      "source": [
        "### Count the Target Outcomes\n",
        "\n",
        "Credit card fraud is relatively rare, at least in view of the total number of transactions. We can count up the target values to see exactly what the expected skew is. "
      ]
    },
    {
      "cell_type": "code",
<<<<<<< HEAD
      "execution_count": null,
=======
      "execution_count": 14,
>>>>>>> 3a2dab455d86309b944869f9d55ca1f1bbb41dfe
      "metadata": {
        "colab": {
          "base_uri": "https://localhost:8080/"
        },
        "id": "Ec08WeQEi_Fz",
        "outputId": "c35fb180-9017-4304-ce29-fd36ca25bfc2"
      },
      "outputs": [
        {
          "name": "stdout",
          "output_type": "stream",
          "text": [
            "Examples:\n",
            "    Total: 284807\n",
            "    Positive: 492 (0.17% of total)\n",
            "\n"
          ]
        }
      ],
      "source": [
        "# Bincount will count the number in each category\n",
        "neg, pos = np.bincount(raw_df['Class'])\n",
        "total = neg + pos\n",
        "print('Examples:\\n    Total: {}\\n    Positive: {} ({:.2f}% of total)\\n'.format(\n",
        "    total, pos, 100 * pos / total))"
      ]
    },
    {
      "cell_type": "markdown",
      "metadata": {
        "id": "9gr-lqY0tHwp"
      },
      "source": [
        "### We Have an Imbalance\n",
        "\n",
        "A big one. "
      ]
    },
    {
      "cell_type": "code",
<<<<<<< HEAD
      "execution_count": null,
=======
      "execution_count": 15,
>>>>>>> 3a2dab455d86309b944869f9d55ca1f1bbb41dfe
      "metadata": {
        "colab": {
          "base_uri": "https://localhost:8080/"
        },
        "id": "w5S02N45tGfu",
        "outputId": "27b8e170-e838-4c7d-adf1-b9013e4f9a6b"
      },
      "outputs": [
        {
          "data": {
            "text/plain": [
              "0              0.0\n",
              "1              0.0\n",
              "2              1.0\n",
              "3              1.0\n",
              "4              2.0\n",
              "            ...   \n",
              "284802    172786.0\n",
              "284803    172787.0\n",
              "284804    172788.0\n",
              "284805    172788.0\n",
              "284806    172792.0\n",
              "Name: Time, Length: 284807, dtype: float64"
            ]
          },
          "execution_count": 15,
          "metadata": {},
          "output_type": "execute_result"
        }
      ],
      "source": [
        "# pop just removes a column. The equivalent of how we normally drop. \n",
        "# the TF docs commonly use this, so I've left it as is. \n",
        "cleaned_df = raw_df.copy()\n",
        "# You don't want the `Time` column.\n",
        "cleaned_df.pop('Time')"
      ]
    },
    {
      "cell_type": "code",
<<<<<<< HEAD
      "execution_count": null,
=======
      "execution_count": 16,
>>>>>>> 3a2dab455d86309b944869f9d55ca1f1bbb41dfe
      "metadata": {
        "id": "-3538h2djFHF"
      },
      "outputs": [],
      "source": [
        "# Use a utility from sklearn to split and shuffle your dataset.\n",
        "train_df, test_df = train_test_split(cleaned_df, test_size=0.2)\n",
        "\n",
        "# Form np arrays of labels and features.\n",
        "train_labels = np.array(train_df.pop('Class'))\n",
        "test_labels = np.array(test_df.pop('Class'))\n",
        "\n",
        "train_features = np.array(train_df)\n",
        "test_features = np.array(test_df)"
      ]
    },
    {
      "cell_type": "code",
<<<<<<< HEAD
      "execution_count": null,
=======
      "execution_count": 17,
>>>>>>> 3a2dab455d86309b944869f9d55ca1f1bbb41dfe
      "metadata": {
        "colab": {
          "base_uri": "https://localhost:8080/"
        },
        "id": "GC5P3kaBjMwN",
        "outputId": "ed06c86d-234b-4045-b4fc-1c117eddf35a"
      },
      "outputs": [
        {
          "name": "stdout",
          "output_type": "stream",
          "text": [
            "Training features shape: (227845, 29)\n",
            "Training labels shape: (227845,)\n",
            "Test features shape: (56962, 29)\n",
            "Test labels shape: (56962,)\n"
          ]
        }
      ],
      "source": [
        "scaler = StandardScaler()\n",
        "train_features = scaler.fit_transform(train_features)\n",
        "test_features = scaler.transform(test_features)\n",
        "\n",
        "#train_features = np.clip(train_features, -5, 5)\n",
        "#test_features = np.clip(test_features, -5, 5)\n",
        "\n",
        "print('Training features shape:', train_features.shape)\n",
        "print('Training labels shape:', train_labels.shape)\n",
        "print('Test features shape:', test_features.shape)\n",
        "print('Test labels shape:', test_labels.shape)"
      ]
    },
    {
      "attachments": {},
      "cell_type": "markdown",
      "metadata": {
        "id": "jtt_zz0HA6Jp"
      },
      "source": [
        "### Create a Biased Model\n",
        "\n",
        "The bias of the data is inserted in the model compilation step on the output layer. What does this do? It preconfigures the output layer to \"expect\" results to be this skewed. Recall that, along with the weight, the bias values are one of the things that is learned in training. By default the initial values are randomized, so the model needs to learn the skew towards the imbalance - if the balance between classes is moderate, that's not a big deal; if the balance is so drastically skewed in one direction, that's less practical. With the preset bias we can speed convergance and likely reduce loss. \n",
        "\n",
        "#### Other Imbalenced Work\n",
        "\n",
        "Other things that we looked at to improve balance such as under/over sampling still works with neural networks as it would with anything else. This is just one nn-specific thing that we can implement with minimal extra work. \n",
        "\n",
        "#### Metrics\n",
        "\n",
        "We can also add a bunch of metrics to what we get returned by creating a list of the metrics that we want. Keras.metrics has a list, they are all the metrics we might expect. "
      ]
    },
    {
      "cell_type": "code",
<<<<<<< HEAD
      "execution_count": null,
=======
      "execution_count": 18,
>>>>>>> 3a2dab455d86309b944869f9d55ca1f1bbb41dfe
      "metadata": {
        "colab": {
          "base_uri": "https://localhost:8080/"
        },
        "id": "nO7R0L7XjTZv",
        "outputId": "1344b694-02cc-4855-8d0a-30cd56f4e6d7"
      },
      "outputs": [
        {
          "name": "stdout",
          "output_type": "stream",
          "text": [
            "Model: \"sequential_7\"\n",
            "_________________________________________________________________\n",
            " Layer (type)                Output Shape              Param #   \n",
            "=================================================================\n",
            " dense_25 (Dense)            (None, 16)                480       \n",
            "                                                                 \n",
            " dropout_17 (Dropout)        (None, 16)                0         \n",
            "                                                                 \n",
            " dense_26 (Dense)            (None, 1)                 17        \n",
            "                                                                 \n",
            "=================================================================\n",
            "Total params: 497\n",
            "Trainable params: 497\n",
            "Non-trainable params: 0\n",
            "_________________________________________________________________\n",
            "Epoch 1/30\n",
            "2849/2849 [==============================] - 5s 1ms/step - loss: 0.0097 - precision: 0.6161 - recall: 0.4340 - auc: 0.8519 - prc: 0.3884 - val_loss: 0.0057 - val_precision: 0.8125 - val_recall: 0.5571 - val_auc: 0.8855 - val_prc: 0.5834\n",
            "Epoch 2/30\n",
            "2849/2849 [==============================] - 4s 1ms/step - loss: 0.0053 - precision: 0.8713 - recall: 0.5535 - auc: 0.9078 - prc: 0.6732 - val_loss: 0.0055 - val_precision: 0.8364 - val_recall: 0.6571 - val_auc: 0.8995 - val_prc: 0.6115\n",
            "Epoch 3/30\n",
            "2849/2849 [==============================] - 4s 1ms/step - loss: 0.0053 - precision: 0.8500 - recall: 0.5881 - auc: 0.9094 - prc: 0.6860 - val_loss: 0.0051 - val_precision: 0.8163 - val_recall: 0.5714 - val_auc: 0.8997 - val_prc: 0.5993\n",
            "Epoch 4/30\n",
            "2849/2849 [==============================] - 3s 1ms/step - loss: 0.0049 - precision: 0.8605 - recall: 0.5818 - auc: 0.9222 - prc: 0.7044 - val_loss: 0.0049 - val_precision: 0.8163 - val_recall: 0.5714 - val_auc: 0.8997 - val_prc: 0.6095\n",
            "Epoch 5/30\n",
            "2849/2849 [==============================] - 4s 1ms/step - loss: 0.0049 - precision: 0.8732 - recall: 0.5629 - auc: 0.9222 - prc: 0.7014 - val_loss: 0.0045 - val_precision: 0.8125 - val_recall: 0.5571 - val_auc: 0.9138 - val_prc: 0.6341\n",
            "Epoch 6/30\n",
            "2849/2849 [==============================] - 4s 1ms/step - loss: 0.0047 - precision: 0.8455 - recall: 0.5849 - auc: 0.9267 - prc: 0.7075 - val_loss: 0.0046 - val_precision: 0.8140 - val_recall: 0.5000 - val_auc: 0.9068 - val_prc: 0.6250\n",
            "Epoch 7/30\n",
            "2849/2849 [==============================] - 4s 2ms/step - loss: 0.0046 - precision: 0.8651 - recall: 0.5849 - auc: 0.9284 - prc: 0.7064 - val_loss: 0.0047 - val_precision: 0.8085 - val_recall: 0.5429 - val_auc: 0.9069 - val_prc: 0.6294\n",
            "Epoch 8/30\n",
            "2849/2849 [==============================] - 4s 1ms/step - loss: 0.0043 - precision: 0.8869 - recall: 0.6164 - auc: 0.9347 - prc: 0.7384 - val_loss: 0.0046 - val_precision: 0.8333 - val_recall: 0.6429 - val_auc: 0.9280 - val_prc: 0.6393\n",
            "Epoch 9/30\n",
            "2849/2849 [==============================] - 4s 1ms/step - loss: 0.0041 - precision: 0.8697 - recall: 0.6509 - auc: 0.9253 - prc: 0.7344 - val_loss: 0.0051 - val_precision: 0.8182 - val_recall: 0.6429 - val_auc: 0.9068 - val_prc: 0.6284\n",
            "1781/1781 [==============================] - 2s 924us/step - loss: 0.0030 - precision: 0.9221 - recall: 0.6827 - auc: 0.9468 - prc: 0.8185\n"
          ]
        },
        {
          "data": {
            "image/png": "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",
            "text/plain": [
              "<Figure size 432x288 with 1 Axes>"
            ]
          },
          "metadata": {
            "needs_background": "light"
          },
          "output_type": "display_data"
        }
      ],
      "source": [
        "METRICS = [\n",
        "      #keras.metrics.TruePositives(name='tp'),\n",
        "      #keras.metrics.FalsePositives(name='fp'),\n",
        "      #keras.metrics.TrueNegatives(name='tn'),\n",
        "      #keras.metrics.FalseNegatives(name='fn'), \n",
        "      #keras.metrics.BinaryAccuracy(name='accuracy'),\n",
        "      keras.metrics.Precision(name='precision'),\n",
        "      keras.metrics.Recall(name='recall'),\n",
        "      keras.metrics.AUC(name='auc'),\n",
        "      keras.metrics.AUC(name='prc', curve='PR'), # precision-recall curve\n",
        "]\n",
        "\n",
        "initial_bias = np.log([pos/neg])\n",
        "\n",
        "output_bias = tf.keras.initializers.Constant(initial_bias)\n",
        "model = keras.Sequential()\n",
        "model.add(keras.layers.Dense(16, activation='relu',input_shape=(train_features.shape[-1],)))\n",
        "model.add(keras.layers.Dropout(0.5))\n",
        "model.add(keras.layers.Dense(1, activation='sigmoid', bias_initializer=output_bias))\n",
        "model.summary()\n",
        "\n",
        "callback = tf.keras.callbacks.EarlyStopping(monitor='val_loss', patience=4, restore_best_weights=True) \n",
        "\n",
        "#model.compile(optimizer=keras.optimizers.Adam(learning_rate=1e-3),loss=keras.losses.BinaryCrossentropy(),metrics=metrics)\n",
        "model.compile(optimizer=\"adam\",loss=\"binary_crossentropy\",metrics=METRICS)\n",
        "#Fit\n",
        "train_log = model.fit(\n",
        "  train_features,\n",
        "  train_labels,\n",
        "  epochs=30,\n",
        "  batch_size=64,\n",
        "  validation_split=0.2,\n",
        "  callbacks=[callback]\n",
        ")\n",
        "model.evaluate(test_features, test_labels)\n",
        "plot_loss(train_log)"
      ]
    },
    {
      "attachments": {},
      "cell_type": "markdown",
      "metadata": {
        "id": "NdPzxFgXbYHI"
      },
      "source": [
        "## Pruning\n",
        "\n",
        "We can also use pruning to improve our networks, which is built into Tensorflow and is similar in concept to the tree pruning we did earlier. \n",
        "\n",
        "### Pruning Results\n",
        "\n",
        "Pruning removes the least useful weights, increasing sparsity. These sparse models require less processing (since many calculations will be M * 0) and may be compressed down to take less space in memory. \n",
        "\n",
        "### Smaller Models\n",
        "\n",
        "One other consideration is that we can use pruning to create smaller models that are better able to be executed on weaker hardware. In the context of a full computer, creating a prediction with a neural network is pretty fast. If we want to move the model to small embedded devices though, the memory and processing needs can still be excessive. Some scenarios where this comes up are things like security cameras that can recognize images, robots that can navigate themselves, or evern small computers like a Raspberry Pi. For example, if you have a self driving small car, you may collect training data from the car's camera and sensors (throttle, steering, etc..), train a model that can produce a \"how to drive\" prediction on a computer, then export a condensed version of that model that can run on the car's smaller low powered processor to make the predictions as the car drives. This challenge is magnified if you are dealing with something like video, which can generate 30+ images per second. Small models that are almost as good, but can be run with less compouting power allow the power of neural networks to be expanded to more devices - train on a powerful computer, us on a small and weak computer.\n",
        "\n",
        "We can use the tflite set of tools to create special models that are optimized for lower computing power devices, though we won't explore that here. \n",
        "\n",
        "**Note:** pruning is largely a step that is for deployment of models, as we can make the processing more efficient and the memory required lesser. For us, it isn't the most critical of steps. In general, a smaller model that produces the same or similar accuracy is better, as you can do more with less. The reduction of overfitting and potential accuracy benefits are somewhat secondary to making the model more usable in practice. "
      ]
    },
    {
      "cell_type": "code",
<<<<<<< HEAD
      "execution_count": null,
=======
      "execution_count": 19,
>>>>>>> 3a2dab455d86309b944869f9d55ca1f1bbb41dfe
      "metadata": {
        "colab": {
          "base_uri": "https://localhost:8080/"
        },
        "id": "0FzYRlh3vtFH",
        "outputId": "3c0d4f0e-029d-4ae8-a0c9-4509b947f236"
      },
      "outputs": [
        {
          "name": "stdout",
          "output_type": "stream",
          "text": [
            "Requirement already satisfied: tensorflow_model_optimization in /Users/akeems/opt/anaconda3/envs/ml3950/lib/python3.9/site-packages (0.7.2)\n",
            "Requirement already satisfied: numpy~=1.14 in /Users/akeems/opt/anaconda3/envs/ml3950/lib/python3.9/site-packages (from tensorflow_model_optimization) (1.21.5)\n",
            "Requirement already satisfied: dm-tree~=0.1.1 in /Users/akeems/opt/anaconda3/envs/ml3950/lib/python3.9/site-packages (from tensorflow_model_optimization) (0.1.6)\n",
            "Requirement already satisfied: six~=1.10 in /Users/akeems/opt/anaconda3/envs/ml3950/lib/python3.9/site-packages (from tensorflow_model_optimization) (1.16.0)\n"
          ]
        }
      ],
      "source": [
        "!pip install tensorflow_model_optimization"
      ]
    },
    {
      "cell_type": "code",
<<<<<<< HEAD
      "execution_count": null,
=======
      "execution_count": 20,
>>>>>>> 3a2dab455d86309b944869f9d55ca1f1bbb41dfe
      "metadata": {
        "colab": {
          "base_uri": "https://localhost:8080/"
        },
        "id": "RrXm0AC9bYHI",
        "outputId": "72e2ad31-aa4f-4760-d10c-615ce87eb5ae"
      },
      "outputs": [
        {
          "name": "stdout",
          "output_type": "stream",
          "text": [
            "WARNING:tensorflow:From /Users/akeems/opt/anaconda3/envs/ml3950/lib/python3.9/site-packages/tensorflow/python/autograph/pyct/static_analysis/liveness.py:83: Analyzer.lamba_check (from tensorflow.python.autograph.pyct.static_analysis.liveness) is deprecated and will be removed after 2023-09-23.\n",
            "Instructions for updating:\n",
            "Lambda fuctions will be no more assumed to be used in the statement where they are used, or at least in the same block. https://github.com/tensorflow/tensorflow/issues/56089\n"
          ]
        },
        {
          "name": "stderr",
          "output_type": "stream",
          "text": [
            "/Users/akeems/opt/anaconda3/envs/ml3950/lib/python3.9/site-packages/tensorflow_model_optimization/python/core/sparsity/keras/pruning_wrapper.py:212: UserWarning: `layer.add_variable` is deprecated and will be removed in a future version. Please use the `layer.add_weight()` method instead.\n",
            "  mask = self.add_variable(\n",
            "/Users/akeems/opt/anaconda3/envs/ml3950/lib/python3.9/site-packages/tensorflow_model_optimization/python/core/sparsity/keras/pruning_wrapper.py:219: UserWarning: `layer.add_variable` is deprecated and will be removed in a future version. Please use the `layer.add_weight()` method instead.\n",
            "  threshold = self.add_variable(\n",
            "/Users/akeems/opt/anaconda3/envs/ml3950/lib/python3.9/site-packages/tensorflow_model_optimization/python/core/sparsity/keras/pruning_wrapper.py:233: UserWarning: `layer.add_variable` is deprecated and will be removed in a future version. Please use the `layer.add_weight()` method instead.\n",
            "  self.pruning_step = self.add_variable(\n",
            "WARNING:tensorflow:From /Users/akeems/opt/anaconda3/envs/ml3950/lib/python3.9/site-packages/tensorflow/python/autograph/pyct/static_analysis/liveness.py:83: Analyzer.lamba_check (from tensorflow.python.autograph.pyct.static_analysis.liveness) is deprecated and will be removed after 2023-09-23.\n",
            "Instructions for updating:\n",
            "Lambda fuctions will be no more assumed to be used in the statement where they are used, or at least in the same block. https://github.com/tensorflow/tensorflow/issues/56089\n"
          ]
        },
        {
          "name": "stdout",
          "output_type": "stream",
          "text": [
            "Model: \"sequential_7\"\n",
            "_________________________________________________________________\n",
            " Layer (type)                Output Shape              Param #   \n",
            "=================================================================\n",
            " prune_low_magnitude_dense_2  (None, 16)               946       \n",
            " 5 (PruneLowMagnitude)                                           \n",
            "                                                                 \n",
            " prune_low_magnitude_dropout  (None, 16)               1         \n",
            " _17 (PruneLowMagnitude)                                         \n",
            "                                                                 \n",
            " prune_low_magnitude_dense_2  (None, 1)                35        \n",
            " 6 (PruneLowMagnitude)                                           \n",
            "                                                                 \n",
            "=================================================================\n",
            "Total params: 982\n",
            "Trainable params: 497\n",
            "Non-trainable params: 485\n",
            "_________________________________________________________________\n"
          ]
        }
      ],
      "source": [
        "import tensorflow_model_optimization as tfmot\n",
        "\n",
        "prune_low_magnitude = tfmot.sparsity.keras.prune_low_magnitude\n",
        "model_for_pruning = prune_low_magnitude(model)\n",
        "\n",
        "\n",
        "model_for_pruning.compile(optimizer=\"adam\",loss=\"binary_crossentropy\",metrics=METRICS)\n",
        "\n",
        "model_for_pruning.summary()"
      ]
    },
    {
      "cell_type": "code",
<<<<<<< HEAD
      "execution_count": null,
=======
      "execution_count": 21,
>>>>>>> 3a2dab455d86309b944869f9d55ca1f1bbb41dfe
      "metadata": {
        "colab": {
          "base_uri": "https://localhost:8080/"
        },
        "id": "X3sPhB8EbYHI",
        "outputId": "be02d7f7-896a-4d1b-8041-6f476ee62c4e"
      },
      "outputs": [
        {
          "name": "stdout",
          "output_type": "stream",
          "text": [
            "Epoch 1/20\n",
            "2849/2849 [==============================] - 6s 2ms/step - loss: 0.0069 - precision: 0.9059 - recall: 0.4336 - auc: 0.8487 - prc: 0.6036 - val_loss: 0.0049 - val_precision: 0.7568 - val_recall: 0.4000 - val_auc: 0.8926 - val_prc: 0.5896\n",
            "Epoch 2/20\n",
            "2849/2849 [==============================] - 4s 2ms/step - loss: 0.0062 - precision: 0.8941 - recall: 0.4780 - auc: 0.8218 - prc: 0.5498 - val_loss: 0.0049 - val_precision: 0.7419 - val_recall: 0.3286 - val_auc: 0.8926 - val_prc: 0.6383\n",
            "Epoch 3/20\n",
            "2849/2849 [==============================] - 5s 2ms/step - loss: 0.0062 - precision: 0.8776 - recall: 0.4057 - auc: 0.8232 - prc: 0.5432 - val_loss: 0.0047 - val_precision: 0.7632 - val_recall: 0.4143 - val_auc: 0.9067 - val_prc: 0.6166\n",
            "Epoch 4/20\n",
            "2849/2849 [==============================] - 4s 2ms/step - loss: 0.0066 - precision: 0.8477 - recall: 0.4025 - auc: 0.8095 - prc: 0.5061 - val_loss: 0.0046 - val_precision: 0.7419 - val_recall: 0.3286 - val_auc: 0.9138 - val_prc: 0.6551\n",
            "Epoch 5/20\n",
            "2849/2849 [==============================] - 4s 2ms/step - loss: 0.0060 - precision: 0.8758 - recall: 0.4214 - auc: 0.8296 - prc: 0.5524 - val_loss: 0.0046 - val_precision: 0.7500 - val_recall: 0.3429 - val_auc: 0.9209 - val_prc: 0.6615\n",
            "Epoch 6/20\n",
            "2849/2849 [==============================] - 5s 2ms/step - loss: 0.0062 - precision: 0.8701 - recall: 0.4214 - auc: 0.8052 - prc: 0.5326 - val_loss: 0.0045 - val_precision: 0.7500 - val_recall: 0.3429 - val_auc: 0.9137 - val_prc: 0.6465\n",
            "Epoch 7/20\n",
            "2849/2849 [==============================] - 5s 2ms/step - loss: 0.0056 - precision: 0.9062 - recall: 0.4560 - auc: 0.8327 - prc: 0.5873 - val_loss: 0.0045 - val_precision: 0.7857 - val_recall: 0.4714 - val_auc: 0.9137 - val_prc: 0.5997\n",
            "Epoch 8/20\n",
            "2849/2849 [==============================] - 5s 2ms/step - loss: 0.0060 - precision: 0.8734 - recall: 0.4340 - auc: 0.8314 - prc: 0.5495 - val_loss: 0.0044 - val_precision: 0.7750 - val_recall: 0.4429 - val_auc: 0.9280 - val_prc: 0.6274\n",
            "Epoch 9/20\n",
            "2849/2849 [==============================] - 5s 2ms/step - loss: 0.0063 - precision: 0.8684 - recall: 0.4151 - auc: 0.9219 - prc: 0.5176 - val_loss: 0.0044 - val_precision: 0.7568 - val_recall: 0.4000 - val_auc: 0.9138 - val_prc: 0.6294\n",
            "Epoch 10/20\n",
            "2849/2849 [==============================] - 4s 1ms/step - loss: 0.0059 - precision: 0.8625 - recall: 0.4340 - auc: 0.9371 - prc: 0.5739 - val_loss: 0.0044 - val_precision: 0.7750 - val_recall: 0.4429 - val_auc: 0.9208 - val_prc: 0.6243\n",
            "Epoch 11/20\n",
            "2849/2849 [==============================] - 4s 2ms/step - loss: 0.0059 - precision: 0.8333 - recall: 0.4245 - auc: 0.9347 - prc: 0.5580 - val_loss: 0.0044 - val_precision: 0.7692 - val_recall: 0.4286 - val_auc: 0.9209 - val_prc: 0.6424\n",
            "Epoch 12/20\n",
            "2849/2849 [==============================] - 4s 2ms/step - loss: 0.0061 - precision: 0.8514 - recall: 0.3962 - auc: 0.9373 - prc: 0.5388 - val_loss: 0.0043 - val_precision: 0.7568 - val_recall: 0.4000 - val_auc: 0.9209 - val_prc: 0.6387\n",
            "Epoch 13/20\n",
            "2849/2849 [==============================] - 5s 2ms/step - loss: 0.0060 - precision: 0.8562 - recall: 0.3931 - auc: 0.9361 - prc: 0.5487 - val_loss: 0.0043 - val_precision: 0.7857 - val_recall: 0.4714 - val_auc: 0.9209 - val_prc: 0.6253\n",
            "Epoch 14/20\n",
            "2849/2849 [==============================] - 5s 2ms/step - loss: 0.0052 - precision: 0.8844 - recall: 0.4811 - auc: 0.9348 - prc: 0.6281 - val_loss: 0.0043 - val_precision: 0.7857 - val_recall: 0.4714 - val_auc: 0.9209 - val_prc: 0.6226\n",
            "Epoch 15/20\n",
            "2849/2849 [==============================] - 5s 2ms/step - loss: 0.0058 - precision: 0.8476 - recall: 0.4371 - auc: 0.9309 - prc: 0.5681 - val_loss: 0.0043 - val_precision: 0.7632 - val_recall: 0.4143 - val_auc: 0.9209 - val_prc: 0.6378\n",
            "Epoch 16/20\n",
            "2849/2849 [==============================] - 5s 2ms/step - loss: 0.0059 - precision: 0.9014 - recall: 0.4025 - auc: 0.9322 - prc: 0.5296 - val_loss: 0.0043 - val_precision: 0.8043 - val_recall: 0.5286 - val_auc: 0.9209 - val_prc: 0.6168\n",
            "Epoch 17/20\n",
            "2849/2849 [==============================] - 4s 2ms/step - loss: 0.0059 - precision: 0.8805 - recall: 0.4403 - auc: 0.9372 - prc: 0.5442 - val_loss: 0.0043 - val_precision: 0.7632 - val_recall: 0.4143 - val_auc: 0.9208 - val_prc: 0.6332\n",
            "Epoch 18/20\n",
            "2849/2849 [==============================] - 4s 1ms/step - loss: 0.0055 - precision: 0.8649 - recall: 0.4025 - auc: 0.9387 - prc: 0.5828 - val_loss: 0.0043 - val_precision: 0.8085 - val_recall: 0.5429 - val_auc: 0.9278 - val_prc: 0.6172\n",
            "Epoch 19/20\n",
            "2849/2849 [==============================] - 4s 2ms/step - loss: 0.0056 - precision: 0.8521 - recall: 0.4528 - auc: 0.9386 - prc: 0.5793 - val_loss: 0.0043 - val_precision: 0.7692 - val_recall: 0.4286 - val_auc: 0.9279 - val_prc: 0.6441\n",
            "Epoch 20/20\n",
            "2849/2849 [==============================] - 4s 2ms/step - loss: 0.0056 - precision: 0.8704 - recall: 0.4434 - auc: 0.9485 - prc: 0.5679 - val_loss: 0.0043 - val_precision: 0.7568 - val_recall: 0.4000 - val_auc: 0.9279 - val_prc: 0.6397\n",
            "1781/1781 [==============================] - 2s 987us/step - loss: 0.0034 - precision: 0.8846 - recall: 0.4423 - auc: 0.9515 - prc: 0.7970\n",
            "[0.0034309253096580505, 0.8846153616905212, 0.4423076808452606, 0.9515101909637451, 0.7970322370529175]\n"
          ]
        },
        {
          "data": {
            "image/png": "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",
            "text/plain": [
              "<Figure size 432x288 with 1 Axes>"
            ]
          },
          "metadata": {
            "needs_background": "light"
          },
          "output_type": "display_data"
        }
      ],
      "source": [
        "# Add Callbacks\n",
        "callbacks = [\n",
        "  tfmot.sparsity.keras.UpdatePruningStep(),\n",
        "  tf.keras.callbacks.EarlyStopping(monitor='val_loss', patience=8, restore_best_weights=True)\n",
        "]\n",
        "\n",
        "train_log = model_for_pruning.fit(\n",
        "                                  train_features,\n",
        "                                  train_labels,\n",
        "                                  batch_size=64,\n",
        "                                  epochs=20,\n",
        "                                  validation_split=.2,\n",
        "                                  callbacks=callbacks\n",
        "                                  )\n",
        "print(model_for_pruning.evaluate(test_features, test_labels))\n",
        "plot_loss(train_log)"
      ]
    },
    {
      "attachments": {},
      "cell_type": "markdown",
      "metadata": {},
      "source": [
        "## Exercise\n",
        "\n",
        "Predict the price of diamonds! (The example solutions are fairly extreme in terms of the approach they take, you'll probably be ok with less dramatic approaches.)\n",
        "\n",
        "![Diamonds](images/diamonds.jpeg \"Diamonds\" )"
      ]
    },
    {
      "cell_type": "code",
<<<<<<< HEAD
      "execution_count": null,
=======
      "execution_count": 22,
>>>>>>> 3a2dab455d86309b944869f9d55ca1f1bbb41dfe
      "metadata": {},
      "outputs": [
        {
          "data": {
            "text/html": [
              "<div>\n",
              "<style scoped>\n",
              "    .dataframe tbody tr th:only-of-type {\n",
              "        vertical-align: middle;\n",
              "    }\n",
              "\n",
              "    .dataframe tbody tr th {\n",
              "        vertical-align: top;\n",
              "    }\n",
              "\n",
              "    .dataframe thead th {\n",
              "        text-align: right;\n",
              "    }\n",
              "</style>\n",
              "<table border=\"1\" class=\"dataframe\">\n",
              "  <thead>\n",
              "    <tr style=\"text-align: right;\">\n",
              "      <th></th>\n",
              "      <th>carat</th>\n",
              "      <th>depth</th>\n",
              "      <th>table</th>\n",
              "      <th>price</th>\n",
              "      <th>x</th>\n",
              "      <th>y</th>\n",
              "      <th>z</th>\n",
              "      <th>cut_Ideal</th>\n",
              "      <th>cut_Premium</th>\n",
              "      <th>cut_Very Good</th>\n",
              "      <th>...</th>\n",
              "      <th>color_I</th>\n",
              "      <th>color_J</th>\n",
              "      <th>clarity_IF</th>\n",
              "      <th>clarity_VVS1</th>\n",
              "      <th>clarity_VVS2</th>\n",
              "      <th>clarity_VS1</th>\n",
              "      <th>clarity_VS2</th>\n",
              "      <th>clarity_SI1</th>\n",
              "      <th>clarity_SI2</th>\n",
              "      <th>clarity_I1</th>\n",
              "    </tr>\n",
              "  </thead>\n",
              "  <tbody>\n",
              "    <tr>\n",
              "      <th>0</th>\n",
              "      <td>0.23</td>\n",
              "      <td>61.5</td>\n",
              "      <td>55.0</td>\n",
              "      <td>326</td>\n",
              "      <td>3.95</td>\n",
              "      <td>3.98</td>\n",
              "      <td>2.43</td>\n",
              "      <td>1</td>\n",
              "      <td>0</td>\n",
              "      <td>0</td>\n",
              "      <td>...</td>\n",
              "      <td>0</td>\n",
              "      <td>0</td>\n",
              "      <td>0</td>\n",
              "      <td>0</td>\n",
              "      <td>0</td>\n",
              "      <td>0</td>\n",
              "      <td>0</td>\n",
              "      <td>0</td>\n",
              "      <td>1</td>\n",
              "      <td>0</td>\n",
              "    </tr>\n",
              "    <tr>\n",
              "      <th>1</th>\n",
              "      <td>0.21</td>\n",
              "      <td>59.8</td>\n",
              "      <td>61.0</td>\n",
              "      <td>326</td>\n",
              "      <td>3.89</td>\n",
              "      <td>3.84</td>\n",
              "      <td>2.31</td>\n",
              "      <td>0</td>\n",
              "      <td>1</td>\n",
              "      <td>0</td>\n",
              "      <td>...</td>\n",
              "      <td>0</td>\n",
              "      <td>0</td>\n",
              "      <td>0</td>\n",
              "      <td>0</td>\n",
              "      <td>0</td>\n",
              "      <td>0</td>\n",
              "      <td>0</td>\n",
              "      <td>1</td>\n",
              "      <td>0</td>\n",
              "      <td>0</td>\n",
              "    </tr>\n",
              "    <tr>\n",
              "      <th>2</th>\n",
              "      <td>0.23</td>\n",
              "      <td>56.9</td>\n",
              "      <td>65.0</td>\n",
              "      <td>327</td>\n",
              "      <td>4.05</td>\n",
              "      <td>4.07</td>\n",
              "      <td>2.31</td>\n",
              "      <td>0</td>\n",
              "      <td>0</td>\n",
              "      <td>0</td>\n",
              "      <td>...</td>\n",
              "      <td>0</td>\n",
              "      <td>0</td>\n",
              "      <td>0</td>\n",
              "      <td>0</td>\n",
              "      <td>0</td>\n",
              "      <td>1</td>\n",
              "      <td>0</td>\n",
              "      <td>0</td>\n",
              "      <td>0</td>\n",
              "      <td>0</td>\n",
              "    </tr>\n",
              "    <tr>\n",
              "      <th>3</th>\n",
              "      <td>0.29</td>\n",
              "      <td>62.4</td>\n",
              "      <td>58.0</td>\n",
              "      <td>334</td>\n",
              "      <td>4.20</td>\n",
              "      <td>4.23</td>\n",
              "      <td>2.63</td>\n",
              "      <td>0</td>\n",
              "      <td>1</td>\n",
              "      <td>0</td>\n",
              "      <td>...</td>\n",
              "      <td>1</td>\n",
              "      <td>0</td>\n",
              "      <td>0</td>\n",
              "      <td>0</td>\n",
              "      <td>0</td>\n",
              "      <td>0</td>\n",
              "      <td>1</td>\n",
              "      <td>0</td>\n",
              "      <td>0</td>\n",
              "      <td>0</td>\n",
              "    </tr>\n",
              "    <tr>\n",
              "      <th>4</th>\n",
              "      <td>0.31</td>\n",
              "      <td>63.3</td>\n",
              "      <td>58.0</td>\n",
              "      <td>335</td>\n",
              "      <td>4.34</td>\n",
              "      <td>4.35</td>\n",
              "      <td>2.75</td>\n",
              "      <td>0</td>\n",
              "      <td>0</td>\n",
              "      <td>0</td>\n",
              "      <td>...</td>\n",
              "      <td>0</td>\n",
              "      <td>1</td>\n",
              "      <td>0</td>\n",
              "      <td>0</td>\n",
              "      <td>0</td>\n",
              "      <td>0</td>\n",
              "      <td>0</td>\n",
              "      <td>0</td>\n",
              "      <td>1</td>\n",
              "      <td>0</td>\n",
              "    </tr>\n",
              "  </tbody>\n",
              "</table>\n",
              "<p>5 rows × 27 columns</p>\n",
              "</div>"
            ],
            "text/plain": [
              "   carat  depth  table  price     x     y     z  cut_Ideal  cut_Premium  \\\n",
              "0   0.23   61.5   55.0    326  3.95  3.98  2.43          1            0   \n",
              "1   0.21   59.8   61.0    326  3.89  3.84  2.31          0            1   \n",
              "2   0.23   56.9   65.0    327  4.05  4.07  2.31          0            0   \n",
              "3   0.29   62.4   58.0    334  4.20  4.23  2.63          0            1   \n",
              "4   0.31   63.3   58.0    335  4.34  4.35  2.75          0            0   \n",
              "\n",
              "   cut_Very Good  ...  color_I  color_J  clarity_IF  clarity_VVS1  \\\n",
              "0              0  ...        0        0           0             0   \n",
              "1              0  ...        0        0           0             0   \n",
              "2              0  ...        0        0           0             0   \n",
              "3              0  ...        1        0           0             0   \n",
              "4              0  ...        0        1           0             0   \n",
              "\n",
              "   clarity_VVS2  clarity_VS1  clarity_VS2  clarity_SI1  clarity_SI2  \\\n",
              "0             0            0            0            0            1   \n",
              "1             0            0            0            1            0   \n",
              "2             0            1            0            0            0   \n",
              "3             0            0            1            0            0   \n",
              "4             0            0            0            0            1   \n",
              "\n",
              "   clarity_I1  \n",
              "0           0  \n",
              "1           0  \n",
              "2           0  \n",
              "3           0  \n",
              "4           0  \n",
              "\n",
              "[5 rows x 27 columns]"
            ]
          },
          "execution_count": 22,
          "metadata": {},
          "output_type": "execute_result"
        }
      ],
      "source": [
        "ex_df = sns.load_dataset(\"diamonds\")\n",
        "ex_df = pd.get_dummies(ex_df)\n",
        "ex_df.head()"
      ]
    },
    {
      "cell_type": "code",
<<<<<<< HEAD
      "execution_count": null,
=======
      "execution_count": 23,
>>>>>>> 3a2dab455d86309b944869f9d55ca1f1bbb41dfe
      "metadata": {},
      "outputs": [
        {
          "data": {
            "text/plain": [
              "26"
            ]
          },
          "execution_count": 23,
          "metadata": {},
          "output_type": "execute_result"
        }
      ],
      "source": [
        "y = ex_df[\"price\"]\n",
        "X = ex_df.drop(columns={\"price\"})\n",
        "X_tr_ex, X_te_ex, y_tr_ex, y_te_ex = train_test_split(X, y)\n",
        "start_width = X.shape[1]\n",
        "start_width"
      ]
    },
    {
      "cell_type": "markdown",
      "metadata": {},
      "source": [
        "#### Generate a Baseline\n",
        "\n",
        "I'll use a different loss - mean absolute percentage. "
      ]
    },
    {
      "cell_type": "code",
<<<<<<< HEAD
      "execution_count": null,
=======
      "execution_count": 24,
>>>>>>> 3a2dab455d86309b944869f9d55ca1f1bbb41dfe
      "metadata": {},
      "outputs": [
        {
          "name": "stdout",
          "output_type": "stream",
          "text": [
            "422/422 [==============================] - 0s 759us/step - loss: 9.7217\n",
            "9.721675872802734\n"
          ]
        },
        {
          "data": {
            "image/png": "iVBORw0KGgoAAAANSUhEUgAAAXcAAAD4CAYAAAAXUaZHAAAAOXRFWHRTb2Z0d2FyZQBNYXRwbG90bGliIHZlcnNpb24zLjQuMywgaHR0cHM6Ly9tYXRwbG90bGliLm9yZy/MnkTPAAAACXBIWXMAAAsTAAALEwEAmpwYAAAo+ElEQVR4nO3deXxU9b3/8ddn9pCFJCBhCSaAbAICsrhUEbRKrbZYtQoqUq5KLVaRW6147XWp9dZfVaxtve2lVkVFAZUKilIViUGqyCIaNgEhQMKSBJKQkMz+/f0xow8UULKezJnP8/HIY+acmTnn8zH4Piffc+YcMcaglFLKXhxWF6CUUqr5abgrpZQNabgrpZQNabgrpZQNabgrpZQNuawuAKBjx44mPz+/0Z8/fPgwqampzVdQAkjGniE5+9aek0dD+16zZk2FMeakY73WJsI9Pz+f1atXN/rzBQUFjB49uvkKSgDJ2DMkZ9/ac/JoaN8isvN4r+mwjFJK2ZCGu1JK2ZCGu1JK2dB3jrmLyNPApUCZMWZgfF42MA/IB4qBq4wxlfHX7gZuACLAbcaYf7VI5UqphBcKhSgpKcHv939tfvv27dm0aZNFVVnneH37fD5yc3Nxu90nvKwTOaD6LPAX4Lkj5s0AlhpjHhaRGfHpu0TkVGA8MADoCrwrIn2MMZETrkgplTRKSkpIT08nPz8fEflqfk1NDenp6RZWZo1j9W2M4cCBA5SUlNCjR48TXtZ3DssYYwqBg9+YPQ6YHX8+G7jsiPlzjTEBY8wOYBsw8oSrUUolFb/fT4cOHb4W7OrrRIQOHToc9dfNd2nsqZA5xpi9AMaYvSLSKT6/G/DREe8ric87iohMAaYA5OTkUFBQ0MhSoLa2tkmfT0TJ2DMkZ9927rl9+/bU1tYeNT8SiVBTU2NBRdb6tr79fn+D/h0093nux9r8HvOawsaYWcAsgOHDh5vGnNNaUlnH3I93k+co5dIkOydWzwNOHnbuedOmTcccftFhmaP5fD6GDh16wstq7Nky+0WkC0D8sSw+vwTofsT7coE9jVzHd6oNhPnLsm1srYq21CqUUjaXlpZmdQktorHhvgiYFH8+CVh4xPzxIuIVkR5Ab+DjppV4fKeclIbX5WBntR6vVUqpI31nuIvIS8CHQF8RKRGRG4CHgQtFZCtwYXwaY8wGYD6wEVgC3NKSZ8q4nA76d8mg+JDuuSulmsYYw5133snAgQMZNGgQ8+bNA2Dv3r2MGjWKIUOGMHDgQJYvX04kEuFnP/vZV+99/PHHLa7+aN855m6MmXCcly44zvsfAh5qSlENMahbe15eVUU0anA49Ii7Uonqgdc3sHHPISB2YNHpdDZ5mad2zeC+Hw04ofcuWLCAdevW8emnn1JRUcGIESMYNWoUL774ImPHjuWee+4hEolQV1fHunXrKC0tZf369QBUVVU1udbmltjfUK0u5ad1c+kYLaP4wGGrq1FKJbAPPviACRMm4HQ6ycnJ4bzzzmPVqlWMGDGCZ555hvvvv5+ioiLS09Pp2bMn27dv59Zbb2XJkiVkZGRYXf5R2sRVIRut7gCnbfkzg2Qa6/ccoudJ9jwwolQyOHIP24qzZYw55ol9jBo1isLCQhYvXszEiRO58847uf766/n000/517/+xZNPPsn8+fN5+umnW7Xe75LYe+5ZeQDkOcpYX1ptcTFKqUQ2atQo5s2bRyQSoby8nMLCQkaOHMnOnTvp1KkTN910EzfccANr166loqKCaDTKFVdcwYMPPsjatWutLv8oib3n7msPvkz6ByuYW6LhrpRqvJ/85Cd8+OGHDB48GBHhD3/4A507d2b27Nk88sgjuN1u0tLSeO655ygtLWXy5MlEo7GTOX7/+99bXP3REjvcAbLy6VlRxvo91Rhj9GvMSqkG+fIbsiLCI488wiOPPPK11ydNmsSkSZOO+lxb3Fs/UmIPywBk5dGFcmr8YXYdrLO6GqWUahMSP9wz88gKlyFEWV96yOpqlFKqTUj8cM/Kw2nCdHNWU6QHVZVSCrBDuGfmA3BWdq2eMaOUUnGJH+7x0yGHtz/01UFVpZRKdokf7u1jF6Hs66ukqi5ESWW9xQUppZT1Ej/c3T4Cng50l3IANuzRoRmllEr8cAfqU3Jo7y8F0NMhlVIt5tuu/V5cXMzAgQNbsZpvZ4tw9/s64areRZrXxZ6qht1nUCml7Cjxv6EK+H05sP99Tm7vZE+VjrkrlZDemgH7igBIiYTB2Qzx1HkQXPzwcV++6667yMvLY+rUqQDcf//9iAiFhYVUVlYSCoX43e9+x7hx4xq0Wr/fzy9+8QtWr16Ny+Vi5syZjBkzhg0bNjB58mSCwSDRaJRXX32Vrl27ctVVV1FSUkIoFOK+++7j6quvblLbYKdwxzAwrYaN1V6ry1FKJYjx48dz++23fxXu8+fPZ8mSJUyfPp2MjAwqKio488wz+fGPf9ygS5s8+eSTABQVFbF582YuuugitmzZwt/+9jemTZvGtddeSzAYJBKJ8Oabb9K1a1cWL15MTU3NV9eraSpbhHt9Sg4A/XyVvLtfL/urVEI6Yg+7vpUu+Tt06FDKysrYs2cP5eXlZGVl0aVLF6ZPn05hYSEOh4PS0lL2799P586dT3i5H3zwAbfeeisA/fr1Iy8vjy1btnDWWWfx0EMPUVJSwuWXX07v3r0ZNGgQd9xxB3fddRfnn38+Y8eObZbebDLmHgv3Hs5yDh4OUh/Ue6oqpU7MlVdeySuvvMK8efMYP348c+bMoby8nDVr1rBu3TpycnLw+xt2LO9437e55pprWLRoESkpKYwdO5b33nuPPn36sGbNGgYNGsT999/Pb3/72+Zoyx577gFvNjjcdDVlAOytrtcbdyilTsj48eO56aabqKio4P3332f+/Pl06tQJt9vNsmXL2LlzZ4OXOWrUKObMmcP555/Pli1b2LVrF3379mX79u307NmT2267je3bt/PZZ5/Rr18/srOzue6663A6nV/du7WpbBHuiBMyu9MhvA+APVV+DXel1AkZMGAANTU1dOvWjS5dunDttdfyox/9iOHDhzNkyBD69evX4GVOnTqVm2++mUGDBuFyuXj22Wfxer3MmzePF154AbfbTefOnbn33ntZtWoVd955Jw6HA4fDwaxZs5qlL3uEO0BmHumHY+e66xkzSqmGKCoq+up5x44d+fDDD4/5vi+v/X4s+fn5X90w2+fz8eyzzx71nrvvvpu77777a/PGjh371Th7c95e0BZj7gBk5eGp2YUIlGq4K6WSnK323KXuACenRnXPXSnVYoqKipg4ceLX5nm9XlauXGlRRcdmn3CPXx1ySHo1e6v1W6pKJYpEuz3moEGDWLduXauuszFXu7XPsEz8uu79fZW6565UgvD5fBw4cEAv1f0tjDEcOHAAn8/XoM/ZaM89H4AergpKq+oTbm9AqWSUm5tLSUkJ5eXlX5vv9/sbHGZ2cLy+fT4fubm5DVqWfcK9XTZ40sllP4FwlIOHg3RI00sRKNWWud1uevTocdT8goIChg4dakFF1mrOvu0zLCMCWXmcFD/XXcfdlVLJzD7hDpCVT0b8uu56OqRSKpnZLty9NSWA0YOqSqmkZq9wz8xDwnV0ddVouCulkpq9wj1+xszQ9Gq9I5NSKqnZMtxPTTnInmrdc1dKJS97hXvmyQD0clXosIxSKqnZK9zdPkjvQi5llNUECIab53ZVSimVaJoU7iIyXUQ2iMh6EXlJRHwiki0i74jI1vhjVnMVe0IyY+e6GwP7D+m4u1IqOTU63EWkG3AbMNwYMxBwAuOBGcBSY0xvYGl8uvVk5dPer9d1V0olt6YOy7iAFBFxAe2APcA4YHb89dnAZU1cR8Nk5eOt24ubsB5UVUolLWnK1dhEZBrwEFAPvG2MuVZEqowxmUe8p9IYc9TQjIhMAaYA5OTkDJs7d26j66itrSUtLXZbvZx979F/8xOMCcxkQI/uXNnH0+jltmVH9pxMkrFv7Tl5NLTvMWPGrDHGDD/Wa42+cFh8LH0c0AOoAl4WketO9PPGmFnALIDhw4eb0aNHN7YUCgoK+OrzOz2w+QnOPekwm006o0ef1ejltmVf6zmJJGPf2nPyaM6+mzIs831ghzGm3BgTAhYAZwP7RaQLQPyxrOllNkD8XPczMg/x6e4qPWNGKZWUmhLuu4AzRaSdxC6cfgGwCVgETIq/ZxKwsGklNlBaZ3B66eerJBCOsmFPdauuXiml2oJGh7sxZiXwCrAWKIovaxbwMHChiGwFLoxPtx6HAzJPppvZD8CanZWtunqllGoLmnSzDmPMfcB935gdILYXb52sfHy1u+iencLq4kpuPNfSapRSqtXZ6xuqX8rKg8qdDM/LZvXOSr0/o1Iq6dg03PPBX8XZ3ZxU1AbYeaDO6oqUUqpV2TfcgRHtawBYrePuSqkkY89wz8wD4GRHGRk+F2t2HrS4IKWUal32DPfsHuBw4Sj+gNPzslhdrHvuSqnkYs9w96bD4Amw9jnO6xxma1ktVXVBq6tSSqlWY89wBzj3V2Ai/KB6HgBrd+neu1Iqedg33LN7wODxdN76ErmuKp5ZUUw4opciUEolB/uGO8C5dyDRMP84ZQXLt1Zw36INes67Uiop2Dvcs3vAkAn03f0Kd56dwZyVu5hVuN3qqpRSqsXZO9wBzr0DTISp++5lYn8Hv39rM8+u2EEkqnvwSin7sn+4Z/eAn85GKrby231TuaV7Mfe/vpHLnlyhB1mVUrZl/3AH6H8pTClA0rtwR/k9LD31LfyHyrn8f//N9Hnr2H1QL0+glLKX5Ah3gI6nwI3vIsN+Rq8dc3jbcRvP9F7B0qKdnP9YAfcuXE95TcDqKpVSqlkkT7gDeNrBj/4IN69ATj6LMbuf5JOsu/ldr028uLKYMY8W8NTy7YT0lEmlVIJLrnD/Us6pcO18mPQGzrSOXL3rt6zPfZSru+zld4s38cMnlvPR9gNWV6mUUo2WnOH+pR7nwk0FcNlf8dXv4zf7bqdw0BIkVMv4WR/x0OKNBMIRq6tUSqkGS+5wh9ht+YZcA79chYy4kZO3PscSzwzuHVDO35fvYNxfVvD5vhqrq1RKqQbRcP+SNx0ueRQmv4XD5eE/vrid94av5EBNPZc9uYJ/bdhndYVKKXXCNNy/Ke9s+HkhnHYVPdc/wQd5szi9E9z8whr+XrhdL1+glEoIGu7H4kmFn/wfXPIY3uL3eT46g4l94aE3N3HPa+uJ6rdblVJtnIb78YjAiBth8ps46it54MAd/OYMBy+u3MU9rxXpHrxSqk3TcP8u3UfC5DcRE+HGLVN5cESIlz7ezQOvb9SAV0q1WRruJyJnAEx+CzxpXLflVv5rWJRn/13M79/abHVlSil1TBruJ6pDL5i8GHG346bdM/jl8HbMKtzOCx/ttLoypZQ6ioZ7Q2SeDNfOR/xV/Kriv/lB71TuX7SBj3cctLoypZT6Gg33huoyOHYJ4f0b+bPrCfKyvEyds4Y9VfVWV6aUUl/RcG+M3t+HSx7DveM9Xu5fiD8U5efPr9FLFSil2gwN98YaPhkGX0P26id45rw6ikqrmfnOFqurUkopQMO9aS55FDr2YcSaX3PjkNgB1lXFOv6ulLKehntTeFLhp89CoIYZ/pnktvfyq/mfcjgQtroypVSS03BvqpxT4eKHcRUX8tyQTeyurON/3txkdVVKqSSn4d4cTp8E+efSY90j3H5Ge+as3KU3+1BKWUrDvTmIwKWPQ6ieX4aepltmCg+8vpGIXmBMKWURDffm0rE3nPOfODe8ysxhB9i09xAvfbzL6qqUUkmqSeEuIpki8oqIbBaRTSJylohki8g7IrI1/pjVXMW2eedMh+xejNz4EOfkp/LY259TXReyuiqlVBJq6p77E8ASY0w/YDCwCZgBLDXG9AaWxqeTg9sHlzyGVO7gsbyPqa4P8fi7eu67Uqr1NTrcRSQDGAX8A8AYEzTGVAHjgNnxt80GLmtaiQmm1xg45UJyPn2Syadn8vxHO9lWVmt1VUqpJCONvSa5iAwBZgEbie21rwGmAaXGmMwj3ldpjDlqaEZEpgBTAHJycobNnTu3UXUA1NbWkpaW1ujPN7fU2h0MXz2dbd1+wqXFVzK0k5ObB/uadR1trefWkox9a8/Jo6F9jxkzZo0xZvgxXzTGNOoHGA6EgTPi008ADwJV33hf5Xcta9iwYaYpli1b1qTPt4hXbzLmwU7mLwvfN/kz3jBb9x9q1sW3yZ5bQTL2rT0nj4b2Daw2x8nVpoy5lwAlxpiV8elXgNOB/SLSBSD+WNaEdSSuMfeAiXJDeB4pbid/WrrN6oqUUkmk0eFujNkH7BaRvvFZFxAbolkETIrPmwQsbFKFiSorD0bciK/oRaYPFV7/bA/bymqsrkoplSSaerbMrcAcEfkMGAL8D/AwcKGIbAUujE8np3N/BU4v10df0713pVSralK4G2PWGWOGG2NOM8ZcZoypNMYcMMZcYIzpHX9M3sskpnaE0yfi3fAyvxyWonvvSqlWo99QbWln/RJMlMnOJXhdDp5avsPqipRSSUDDvaVl5cHAy0n57DmuPS2DBZ+UUlEbsLoqpZTNabi3hu9Ng2AtU9MKCIajzPlIrzmjlGpZGu6tofMgOOVCOhQ9zUW9M3j+o2L8Ib3fqlKq5Wi4t5Zzboe6Cn7ddR0VtUEWfbrH6oqUUjam4d5a8r4HnQfRa8eL9MtJ4+kPdnz5DV6llGp2Gu6tRQRGTkHKNvLrUw+yeV8NK7bp3ZqUUi1Dw701DbwSfJmcV/VPslM9PP9RsdUVKaVsSsO9NXnawekTcW5+g8mDPLy7qYz9h/xWV6WUsiEN99Y2/AYwUSa63yMSNcxftdvqipRSNqTh3tqye0CfsWRunMN5vdKZu2q33khbKdXsNNytMPImOFzO7V03U1pVT+GWcqsrUkrZjIa7FXqeD1n5DC5bRMc0D3NW6jdWlVLNS8PdCg4HDJ2IY+dybhoI723ez97qequrUkrZiIa7VYZcA+JgvPN9ogbmryqxuiKllI1ouFsloyv0voj2n8/nnJ6ZvLJ2N1E9sKqUaiYa7lY6/Xqo3c8tuV+w+2A9Hxcn731NlFLNS8PdSr0vgrQcRla+SZrXxcurdWhGKdU8NNyt5HTDkGtwbnubCf3dvLV+L4cDYaurUkrZgIa71YZOBBNhUrt/UxeMsLhor9UVKaVsQMPdah16wcln0W3na/To0I5X1ujQjFKq6TTc24Ih1yAHtnJLnyo+3nGQnQcOW12RUirBabi3BadeBq4ULo4sQwRe1b13pVQTabi3Bb4M6H8pqVsWMqZXBgs+KdVz3pVSTaLh3lYMngD+Km7uvIWSynpW6TnvSqkm0HBvK3qOhvSuDKtaQqrHyYK1pVZXpJRKYBrubYXDCaddhfOLpfy0v5fFRXvxhyJWV6WUSlAa7m3JkGti57ynfUxtIMzbG/dbXZFSKkFpuLclJ/WFbsPIL1lE1/Y+FqzVs2aUUo2j4d7WnDYe2b+eKX3rKNxSTlmN3kBbKdVwGu5tzcArwOFinOMDogYWfrLH6oqUUglIw72tSe0AvceSte2fDM1N51UdmlFKNYKGe1s0eHzsOu95u9m8r4aNew5ZXZFSKsFouLdFfcaCL5Nz65bidoruvSulGkzDvS1yeWHg5Xi3vskP+6SzcF0p4UjU6qqUUgmkyeEuIk4R+URE3ohPZ4vIOyKyNf6Y1fQyk9DgCRCu56aORVTUBincWm51RUqpBNIce+7TgE1HTM8AlhpjegNL49OqoXJHQHZPTt3/BtmpHl7VyxEopRqgSeEuIrnAJcBTR8weB8yOP58NXNaUdSQtERhyDY5dK7i+H7yzcT/VdSGrq1JKJYim7rn/Efg1cOSAcI4xZi9A/LFTE9eRvE4bDwgTPB8QDEf1FnxKqRMmxjTuuuEicinwQ2PMVBEZDdxhjLlURKqMMZlHvK/SGHPUuLuITAGmAOTk5AybO3duo+oAqK2tJS0trdGfb8tO+/ReUur38v3Q4/hcTv77rBTA3j1/m2TsW3tOHg3te8yYMWuMMcOP+aIxplE/wO+BEqAY2AfUAS8AnwNd4u/pAnz+XcsaNmyYaYply5Y16fNt2qfzjbkvw7z+2lyTd9cbZsu+Q8YYm/f8LZKxb+05eTS0b2C1OU6uNnpYxhhztzEm1xiTD4wH3jPGXAcsAibF3zYJWNjYdSig3yXgzeD7gXdxOYR5q3ZbXZFSKgG0xHnuDwMXishW4ML4tGosTzsY8BN8W9/g0n7pLPiklGBYz3lXSn27Zgl3Y0yBMebS+PMDxpgLjDG94496v7imGnodhOr4ecfPOHg4yNJNep13pdS302+oJoLcEdChN/32LKRLex/zVuvQjFLq22m4JwIROP16pGQlP+8foHBLOQf9OjSjlDo+DfdEMeRacHq4IvouUQMflIatrkgp1YZpuCeK1A7Q/8ekf/4KY3qm8v7uMJFo476joJSyPw33RDJ8MgSqmd5lAwf8hoLPy6yuSCnVRmm4J5K870HHPgzc908yvcLzH+20uiKlVBul4Z5IRGDYz3CUrmJCTinvbyln54HDVlellGqDNNwTzeAJ4PTyU3kXhwgvrtxldUVKqTZIwz3RtMuGgZeTV17AZf1Smbd6N/5QxOqqlFJtjIZ7IjrjZpxRP7dmfUhVXYjFn+mlgJVSX6fhnoi6DqGq/QDytr1A744+nvuw+MsrdSqlFKDhnrBKcn+MVO/mN6ds59OSalYVV1pdklKqDdFwT1AVHUdAVj7nVLxMdqqHWYVfWF2SUqoN0XBPVOKMjb2XrOSOAbW8u6mMbWU1VlellGojNNwT2ZBrwZPOFcFFeF0O/l64w+qKlFJthIZ7IvNlwLBJeD9/jZsHRvnnJ6WU1fitrkop1QZouCe6700Dp5ebzKuEolFm/7vY6oqUUm2AhnuiS+sEI28kbcs/mdQ7yHMf7qS6LmR1VUopi2m428HZ08DlY7rnNWoDYf76vp45o1Sy03C3g7STYORNtN+2kCn9QzyzYgf7qnXsXalkpuFuF2dPA08q05wLiBrDE0u3WF2RUspCGu52kdoBzriZdlsXMmNANfNXl/BFea3VVSmlLKLhbifn/idk5DKp8k+kugyPvf251RUppSyi4W4nnlS4+GFc5Rv5c69VvFm0jxXbKqyuSillAQ13u+l3KfS+iFGlf2dEtp//+meRXu9dqSSk4W43InDx/0MiIf560ivsPFDHn5ZutboqpVQr03C3o+yeMOoOOu58kwdP2cKswu1s2nvI6qqUUq1Iw92uzpkOuSO4tnwm/XyVzFhQRDgStboqpVQr0XC3K6cbrngKB/Bc5t9Zv/uADs8olUQ03O0sKx8ufZzsg5/w1+5L+fOybfxbz55RKilouNvdoCth8DVcWPEcEzI3MW3eOipqA1ZXpZRqYRruyeCSR5HOp/FgeCZd6rfxn/M/JRrVG2orZWca7snAkwoT5uJMyeSltJls3rKFBxdvxBgNeKXsSsM9WWR0gWvmkRo9zGvZf+blFRt5arnelk8pu9JwTyadB8GVT9PFv41FmTP505trWLiu1OqqlFItQMM92fQZi/x0Nj2CW/ln+h/47csreHfjfqurUko1s0aHu4h0F5FlIrJJRDaIyLT4/GwReUdEtsYfs5qvXNUs+l+KXP08vaLFzPM9zH+9sIzFn+21uiqlVDNqyp57GPiVMaY/cCZwi4icCswAlhpjegNL49Oqrel7MXL1HHpJKQtTHuDRl95kwdoSq6tSSjWTRoe7MWavMWZt/HkNsAnoBowDZsffNhu4rIk1qpbS5yJk0ut09vhZmPIAL7zyMn8v3K5n0ShlA9Ic/yOLSD5QCAwEdhljMo94rdIYc9TQjIhMAaYA5OTkDJs7d26j119bW0taWlqjP5+ImrPnlLo9DPrsAZz+A/wqeDPVXc5l0gAPLoc0y/Kbk/6uk0My9gwN73vMmDFrjDHDj/miMaZJP0AasAa4PD5d9Y3XK79rGcOGDTNNsWzZsiZ9PhE1e8+15Sb61EXG3JdhnrznOnPVX5ebihp/866jGejvOjkkY8/GNLxvYLU5Tq426WwZEXEDrwJzjDEL4rP3i0iX+OtdgLKmrEO1ktSOyKTXYdjPmOpaxC/2/IYJf/oXn+yqtLoypVQjNOVsGQH+AWwyxsw84qVFwKT480nAwsaXp1qVywM/egIumcl5ziKeDd3Bg7Ne4PkPi3UcXqkE05Q99+8BE4HzRWRd/OeHwMPAhSKyFbgwPq0SyYgbkP9YQud0N/Nd97P9jUe5Zc4aquqCVlemlDpBrsZ+0BjzAXC8I24XNHa5qo3oPgLHzcuR16Zy35bnKdhSxMTHb+Huq8/n7FM6Wl2dUuo76DdU1fG1y0YmvAQXP8Ioz+e8FLqdV59+hPteK6LGH7K6OqXUt9BwV99OBM6YguMXK0jJHcRjnr9x0dqfM/XR2SxZv0/H4pVqozTc1Ynp0Avnf7wFP3yUM1L2MDt8B4fmTmHarMUUlVRbXZ1S6hs03NWJczhg5E24bl+HOesWrnD/m8f2Xk/R3yZx7zOL2Lq/xuoKlVJxGu6q4VIycY59COdtazBDr+cq9wruK76eTX/5Kb/7v+f4aPsBHa5RymIa7qrxsvLwjPsjrv8sIjhyKmM9n/GbvbfiefYiZj72W+av2ExtIGx1lUolpUafCqnUV9I7k3LJ/8D37ya0Zg6nfPAkp9fOpO7tJ3nv7eGUnXwJPc+4hLP6dcfrclpdrVJJQcNdNR9vOu6zb8Z95hTM7o84/OELjNn6Oqm7V+DfdR8fMYj9OeeQ1ncMg4aMpHuH5LswlFKtRcNdNT+HA8k7m5PyzobwHwluX0756tcYuOMdziv7E5T9iYOFaSx39qcqcwDObkM46ZTh5PfoTcd0L7ErWyilmkLDXbUslwdPnwvo3ucCMAZTWUzZ+veo2VxAn/JPOOngahwHn4UiqDEpbJBuHEw5GX96Po4OvUjpfArZXU4hp2t3slI9VnejVMLQcFetRwTJ7kHOqBvIGXVDbF6ghkPFn1C2dRWBfVvwVH1B/7oiOtQvw1FmYreAAQLGzS46kC7ZfPBxZ4IpOUTTOuNM74w3uwvtMjuTkZ1DZocc2qf6cLbBa9Er1Zo03JW1vOlk9B1FRt9RX58fqufw/i+o2LWZuvJiQgd34TxUQuqhEnL9G8iuK8R94OgzcaJGqCaVakmn1tGeelcGQVc6YU97jDcdfO1x+jJwpLTHlZqFOy0bX1omKemZpKS1JzU1g1SvG4duHFSC03BXbZM7hdTcgaTmDvza7IKCAvqNHg3GED18kJoDpVSX76a+qozgoXIiNeVQfxCn/yCeQCVp4YOk+HfSrq6GVOpx8O3n30eMUIuPOlKolxTqHe0IONoRdLYj7Ewh4mpH1NWOqDuVqLsd4k5FPD4cbh9OTwpOTzscvjRc3lRcKbFHty8Vj7cdXl8KXo8bn9uJz+3Uvy5Ui9JwV4lJBEdaB9qndaB93mkn9plolGiglsM1lRw+dBD/oQMEaw8SqqsiUl9DpP4QBA5hgnVIqBZn6DCu8GHSw4fxRPbiCfnxmnp8xk8KgUaVHTJOArg5iIcAHoJ4CImHsLgJioeIw0vI4SUiHiJOD1GHh8PBKO9+NpeoywdOD8blA6cXXF7E7UPcKThcX25gvLg8XpxuHy6PD5fbi9ubgtvbDpcvBa/Hh8ftxOty4HE58DgdegDbpjTcVfJwOHCkZJCekkF6p7ymLSsahVAdJlhLIOAnWF+H319HqL6GkL+WsP8w0UAd0WAd0cBhouEAJlyPCQUg7EdC9Ui4HokEcUQCuCIBvNEgruhhnNGDuCIhXKEgbhPEZYJ4Dobw0DxfCAsYNwFc1OAmgJsQbsK4CIuLqLgIiYeIw01YPIQcXsIOHxGnl4jDC043UYcH4/RA/Eec7tijy4u4veD04nB5cbg9OFxunE537NHtjW2AvtwIuT244n/xuN1u3C4nbmdsgxMIG4LhKG6n6MankTTclWoMhwO8aYg3DV86+ICMFlpVQUEBo0ePjm1Qwn6IBCAcJBqqJxSoJxioIxSoIxIMEA76CQX8RMIBoqEgkVA90VAAE6wnGqqHcAATDkAkCOEARAJIJBj7iYZxRIOkREM4IwFcphZXJIg7FMBjYhsaNyE8NP/lniNGiC3dSQQnp+OgYrmLkHEREhdhXITETRg3EXERiW+IYs/dRB2xaeNwYcRF1OHGONxEnW4QN8bhBIcbnC7E4QKHC3G64MsNk9ONiT+Kw4243DgcrvjGyRF/7sLh8iAuT2zj5XTjdLlwOF04nS6crti00+nC5XTicjlxOQSHCC6H4HQKThGcjvi0o2U3XBruSiUKhwM87YB2sUnAG/9pVcZANBLbQEQCEAlBJBjbsAT9hIN+IiE/4WCASDhEJBwiFApiQgGiIX/8r5hQ/DGAiQQh5I9tbKJhopEwNVUVZKSmINFwfMMTwhcN4ogGcUTDOEwQidbhMGGcJoQzHMJBBKcJ4zQRnIRxmTBuQt95nKWlhIyTCA5CuAjjJICTME7C8flRhKg42J19DmOm/b3Z16/hrpRqGBFwumI/8Q0NxMKkuQKloKCAM0ePbp6FRaMQDcU2QtEwmGjsMRKESIhoOEQ45CcSDhINh4iEYhulaCQS2zhFw0TDESLxjVg0HMSEg5hIGBPfGJlIBBMNx38iEH+NaASJhmLrj4aRaDi27mgUTARMlI5dejZPn9+g4a6UsjeHAxyxA9DHfBmw49fj9KqQSillQxruSillQxruSillQxruSillQxruSillQxruSillQxruSillQxruSillQ2KMNV/N/VoRIuXAziYsoiNQ0UzlJIpk7BmSs2/tOXk0tO88Y8xJx3qhTYR7U4nIamPMcKvraE3J2DMkZ9/ac/Jozr51WEYppWxIw10ppWzILuE+y+oCLJCMPUNy9q09J49m69sWY+5KKaW+zi577koppY6g4a6UUjaU0OEuIj8Qkc9FZJuIzLC6npYgIt1FZJmIbBKRDSIyLT4/W0TeEZGt8ccsq2ttCSLiFJFPROSN+LSt+xaRTBF5RUQ2x3/nZ9m9ZwARmR7/971eRF4SEZ8d+xaRp0WkTETWHzHvuH2KyN3xfPtcRMY2ZF0JG+4i4gSeBC4GTgUmiMip1lbVIsLAr4wx/YEzgVvifc4AlhpjegNL49N2NA3YdMS03ft+AlhijOkHDCbWu617FpFuwG3AcGPMQMAJjMeefT8L/OAb847ZZ/z/8/HAgPhn/jeeeyckYcMdGAlsM8ZsN8YEgbnAOItranbGmL3GmLXx5zXE/mfvRqzX2fG3zQYus6TAFiQiucAlwFNHzLZt3yKSAYwC/gFgjAkaY6qwcc9HcAEpIvLljVn3YMO+jTGFwMFvzD5en+OAucaYgDFmB7CNWO6dkEQO927A7iOmS+LzbEtE8oGhwEogxxizF2IbAKCThaW1lD8CvwaiR8yzc989gXLgmfhQ1FMikoq9e8YYUwo8CuwC9gLVxpi3sXnfRzhen03KuEQOdznGPNue1ykiacCrwO3GmENW19PSRORSoMwYs8bqWlqRCzgd+KsxZihwGHsMRXyr+BjzOKAH0BVIFZHrrK2qTWhSxiVyuJcA3Y+YziX2p5ztiIibWLDPMcYsiM/eLyJd4q93Acqsqq+FfA/4sYgUExtyO19EXsDefZcAJcaYlfHpV4iFvZ17Bvg+sMMYU26MCQELgLOxf99fOl6fTcq4RA73VUBvEekhIh5iBx4WWVxTsxMRITYGu8kYM/OIlxYBk+LPJwELW7u2lmSMudsYk2uMySf2u33PGHMdNu7bGLMP2C0ifeOzLgA2YuOe43YBZ4pIu/i/9wuIHVuye99fOl6fi4DxIuIVkR5Ab+DjE16qMSZhf4AfAluAL4B7rK6nhXo8h9ifYp8B6+I/PwQ6EDuyvjX+mG11rS3432A08Eb8ua37BoYAq+O/79eALLv3HO/7AWAzsB54HvDasW/gJWLHFULE9sxv+LY+gXvi+fY5cHFD1qWXH1BKKRtK5GEZpZRSx6HhrpRSNqThrpRSNqThrpRSNqThrpRSNqThrpRSNqThrpRSNvT/AYOOzx3JkxyfAAAAAElFTkSuQmCC",
            "text/plain": [
              "<Figure size 432x288 with 1 Axes>"
            ]
          },
          "metadata": {
            "needs_background": "light"
          },
          "output_type": "display_data"
        }
      ],
      "source": [
        "#baseline\n",
        "normalizer = tf.keras.layers.Normalization(axis=-1)\n",
        "normalizer.adapt(np.array(X_tr_ex))\n",
        "\n",
        "mod_ex = keras.Sequential()\n",
        "mod_ex.add(normalizer)\n",
        "mod_ex.add(InputLayer(input_shape=(start_width,)))\n",
        "mod_ex.add(Dense(start_width, activation='relu'))\n",
        "mod_ex.add(Dense(1))\n",
        "\n",
        "mod_ex.compile(optimizer='adam', loss=\"mean_absolute_percentage_error\")\n",
        "\n",
        "callback = tf.keras.callbacks.EarlyStopping(monitor='loss', patience=12, restore_best_weights=True) \n",
        "\n",
        "hist_ex = mod_ex.fit(\n",
        "  X_tr_ex,\n",
        "  y_tr_ex,\n",
        "  epochs=100,\n",
        "  batch_size=64,\n",
        "  validation_split=0.2,\n",
        "  callbacks=[callback],\n",
        "  verbose=0\n",
        ")\n",
        "print(mod_ex.evaluate(X_te_ex, y_te_ex))\n",
        "plot_loss(hist_ex)"
      ]
    },
    {
      "cell_type": "markdown",
      "metadata": {},
      "source": [
        "### Attempt Optimization\n",
        "\n",
        "Looks like lots of loss! What to do?\n",
        "\n",
        "Things to try:\n",
        "<ol>\n",
        "<li> Depth.\n",
        "<li> Width. \n",
        "<li> Activations. \n",
        "<li> Batches. \n",
        "</ol>"
      ]
    },
    {
      "cell_type": "code",
<<<<<<< HEAD
      "execution_count": null,
=======
      "execution_count": 25,
>>>>>>> 3a2dab455d86309b944869f9d55ca1f1bbb41dfe
      "metadata": {},
      "outputs": [
        {
          "name": "stdout",
          "output_type": "stream",
          "text": [
            "422/422 [==============================] - 1s 1ms/step - loss: 6.5343\n",
            "6.534334659576416\n"
          ]
        },
        {
          "data": {
            "image/png": "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",
            "text/plain": [
              "<Figure size 432x288 with 1 Axes>"
            ]
          },
          "metadata": {
            "needs_background": "light"
          },
          "output_type": "display_data"
        }
      ],
      "source": [
        "#Comically Deep Model\n",
        "normalizer = tf.keras.layers.Normalization(axis=-1)\n",
        "normalizer.adapt(np.array(X_tr_ex))\n",
        "\n",
        "mod_ex = keras.Sequential()\n",
        "mod_ex.add(normalizer)\n",
        "mod_ex.add(InputLayer(input_shape=(start_width,)))\n",
        "mod_ex.add(Dense(start_width, activation='relu'))\n",
        "mod_ex.add(Dense(start_width, activation='relu'))\n",
        "mod_ex.add(Dense(start_width, activation='relu'))\n",
        "mod_ex.add(Dense(start_width, activation='relu'))\n",
        "mod_ex.add(Dense(start_width, activation='relu'))\n",
        "mod_ex.add(Dense(start_width, activation='relu'))\n",
        "mod_ex.add(Dense(start_width, activation='relu'))\n",
        "mod_ex.add(Dense(start_width, activation='relu'))\n",
        "mod_ex.add(Dense(start_width, activation='relu'))\n",
        "mod_ex.add(Dense(start_width, activation='relu'))\n",
        "mod_ex.add(Dense(start_width, activation='relu'))\n",
        "mod_ex.add(Dense(start_width, activation='relu'))\n",
        "mod_ex.add(Dense(start_width, activation='relu'))\n",
        "mod_ex.add(Dense(start_width, activation='relu'))\n",
        "mod_ex.add(Dense(start_width, activation='relu'))\n",
        "mod_ex.add(Dense(start_width, activation='relu'))\n",
        "mod_ex.add(Dense(start_width, activation='relu'))\n",
        "mod_ex.add(Dense(start_width, activation='relu'))\n",
        "mod_ex.add(Dense(start_width, activation='relu'))\n",
        "mod_ex.add(Dense(start_width, activation='relu'))\n",
        "mod_ex.add(Dense(start_width, activation='relu'))\n",
        "mod_ex.add(Dense(start_width, activation='relu'))\n",
        "mod_ex.add(Dense(start_width, activation='relu'))\n",
        "mod_ex.add(Dense(start_width, activation='relu'))\n",
        "mod_ex.add(Dense(1))\n",
        "\n",
        "mod_ex.compile(optimizer='adam', loss=\"mean_absolute_percentage_error\")\n",
        "\n",
        "callback = tf.keras.callbacks.EarlyStopping(monitor='loss', patience=20, restore_best_weights=True) \n",
        "\n",
        "hist_ex = mod_ex.fit(\n",
        "  X_tr_ex,\n",
        "  y_tr_ex,\n",
        "  epochs=1000,\n",
        "  batch_size=64,\n",
        "  validation_split=0.2,\n",
        "  callbacks=[callback],\n",
        "  verbose=0\n",
        ")\n",
        "print(mod_ex.evaluate(X_te_ex, y_te_ex))\n",
        "plot_loss(hist_ex)"
      ]
    },
    {
      "cell_type": "markdown",
      "metadata": {},
      "source": [
        "##### Try Adding Dropouts\n",
        "\n",
        "We don't have a bunch of overfitting, so we may not expect miracles here... "
      ]
    },
    {
      "cell_type": "code",
<<<<<<< HEAD
      "execution_count": null,
=======
      "execution_count": 26,
>>>>>>> 3a2dab455d86309b944869f9d55ca1f1bbb41dfe
      "metadata": {},
      "outputs": [
        {
          "name": "stdout",
          "output_type": "stream",
          "text": [
            "422/422 [==============================] - 0s 1ms/step - loss: 66.2057\n",
            "66.2057113647461\n"
          ]
        },
        {
          "data": {
            "image/png": "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",
            "text/plain": [
              "<Figure size 432x288 with 1 Axes>"
            ]
          },
          "metadata": {
            "needs_background": "light"
          },
          "output_type": "display_data"
        }
      ],
      "source": [
        "#Comically Deep Model with Dropouts\n",
        "normalizer = tf.keras.layers.Normalization(axis=-1)\n",
        "normalizer.adapt(np.array(X_tr_ex))\n",
        "\n",
        "mod_ex = keras.Sequential()\n",
        "mod_ex.add(normalizer)\n",
        "mod_ex.add(InputLayer(input_shape=(start_width,)))\n",
        "mod_ex.add(Dense(start_width, activation='relu'))\n",
        "mod_ex.add(Dropout(.2))\n",
        "mod_ex.add(Dense(start_width, activation='relu'))\n",
        "mod_ex.add(Dropout(.2))\n",
        "mod_ex.add(Dense(start_width, activation='relu'))\n",
        "mod_ex.add(Dropout(.2))\n",
        "mod_ex.add(Dense(start_width, activation='relu'))\n",
        "mod_ex.add(Dropout(.2))\n",
        "mod_ex.add(Dense(start_width, activation='relu'))\n",
        "mod_ex.add(Dropout(.2))\n",
        "mod_ex.add(Dense(start_width, activation='relu'))\n",
        "mod_ex.add(Dropout(.2))\n",
        "mod_ex.add(Dense(start_width, activation='relu'))\n",
        "mod_ex.add(Dropout(.2))\n",
        "mod_ex.add(Dense(start_width, activation='relu'))\n",
        "mod_ex.add(Dropout(.2))\n",
        "mod_ex.add(Dense(start_width, activation='relu'))\n",
        "mod_ex.add(Dropout(.2))\n",
        "mod_ex.add(Dense(start_width, activation='relu'))\n",
        "mod_ex.add(Dropout(.2))\n",
        "mod_ex.add(Dense(start_width, activation='relu'))\n",
        "mod_ex.add(Dropout(.2))\n",
        "mod_ex.add(Dense(start_width, activation='relu'))\n",
        "mod_ex.add(Dropout(.2))\n",
        "mod_ex.add(Dense(start_width, activation='relu'))\n",
        "mod_ex.add(Dropout(.2))\n",
        "mod_ex.add(Dense(start_width, activation='relu'))\n",
        "mod_ex.add(Dropout(.2))\n",
        "mod_ex.add(Dense(start_width, activation='relu'))\n",
        "mod_ex.add(Dropout(.2))\n",
        "mod_ex.add(Dense(start_width, activation='relu'))\n",
        "mod_ex.add(Dropout(.2))\n",
        "mod_ex.add(Dense(start_width, activation='relu'))\n",
        "mod_ex.add(Dropout(.2))\n",
        "mod_ex.add(Dense(start_width, activation='relu'))\n",
        "mod_ex.add(Dropout(.2))\n",
        "mod_ex.add(Dense(start_width, activation='relu'))\n",
        "mod_ex.add(Dropout(.2))\n",
        "mod_ex.add(Dense(start_width, activation='relu'))\n",
        "mod_ex.add(Dropout(.2))\n",
        "mod_ex.add(Dense(start_width, activation='relu'))\n",
        "mod_ex.add(Dropout(.2))\n",
        "mod_ex.add(Dense(start_width, activation='relu'))\n",
        "mod_ex.add(Dropout(.2))\n",
        "mod_ex.add(Dense(start_width, activation='relu'))\n",
        "mod_ex.add(Dropout(.2))\n",
        "mod_ex.add(Dense(start_width, activation='relu'))\n",
        "mod_ex.add(Dropout(.2))\n",
        "mod_ex.add(Dense(1))\n",
        "\n",
        "mod_ex.compile(optimizer='adam', loss=\"mean_absolute_percentage_error\")\n",
        "\n",
        "callback = tf.keras.callbacks.EarlyStopping(monitor='loss', patience=20, restore_best_weights=True) \n",
        "\n",
        "hist_ex = mod_ex.fit(\n",
        "  X_tr_ex,\n",
        "  y_tr_ex,\n",
        "  epochs=200,\n",
        "  batch_size=64,\n",
        "  validation_split=0.2,\n",
        "  callbacks=[callback],\n",
        "  verbose=0\n",
        ")\n",
        "print(mod_ex.evaluate(X_te_ex, y_te_ex))\n",
        "plot_loss(hist_ex)"
      ]
    },
    {
      "cell_type": "markdown",
      "metadata": {},
      "source": [
        "##### Taper Model Somewhat"
      ]
    },
    {
      "cell_type": "code",
<<<<<<< HEAD
      "execution_count": null,
=======
      "execution_count": 27,
>>>>>>> 3a2dab455d86309b944869f9d55ca1f1bbb41dfe
      "metadata": {},
      "outputs": [
        {
          "name": "stdout",
          "output_type": "stream",
          "text": [
            "Epoch 1/1000\n",
            "506/506 [==============================] - 3s 3ms/step - loss: 99.9699 - mean_squared_error: 31521264.0000 - mean_absolute_error: 3939.4182 - mean_absolute_percentage_error: 99.9699 - val_loss: 99.9235 - val_mean_squared_error: 30934508.0000 - val_mean_absolute_error: 3883.4143 - val_mean_absolute_percentage_error: 99.9235\n",
            "Epoch 2/1000\n",
            "506/506 [==============================] - 1s 2ms/step - loss: 99.8530 - mean_squared_error: 31507140.0000 - mean_absolute_error: 3937.6304 - mean_absolute_percentage_error: 99.8530 - val_loss: 99.7640 - val_mean_squared_error: 30915928.0000 - val_mean_absolute_error: 3881.0188 - val_mean_absolute_percentage_error: 99.7640\n",
            "Epoch 3/1000\n",
            "506/506 [==============================] - 1s 2ms/step - loss: 99.6615 - mean_squared_error: 31484116.0000 - mean_absolute_error: 3934.7058 - mean_absolute_percentage_error: 99.6615 - val_loss: 99.5349 - val_mean_squared_error: 30889246.0000 - val_mean_absolute_error: 3877.5813 - val_mean_absolute_percentage_error: 99.5349\n",
            "Epoch 4/1000\n",
            "506/506 [==============================] - 1s 2ms/step - loss: 99.4069 - mean_squared_error: 31453534.0000 - mean_absolute_error: 3930.8086 - mean_absolute_percentage_error: 99.4069 - val_loss: 99.2464 - val_mean_squared_error: 30855680.0000 - val_mean_absolute_error: 3873.2522 - val_mean_absolute_percentage_error: 99.2464\n",
            "Epoch 5/1000\n",
            "506/506 [==============================] - 1s 2ms/step - loss: 99.0976 - mean_squared_error: 31416144.0000 - mean_absolute_error: 3926.0645 - mean_absolute_percentage_error: 99.0976 - val_loss: 98.9057 - val_mean_squared_error: 30816104.0000 - val_mean_absolute_error: 3868.1353 - val_mean_absolute_percentage_error: 98.9057\n",
            "Epoch 6/1000\n",
            "506/506 [==============================] - 1s 2ms/step - loss: 98.7391 - mean_squared_error: 31373210.0000 - mean_absolute_error: 3920.5894 - mean_absolute_percentage_error: 98.7391 - val_loss: 98.5166 - val_mean_squared_error: 30770956.0000 - val_mean_absolute_error: 3862.2988 - val_mean_absolute_percentage_error: 98.5166\n",
            "Epoch 7/1000\n",
            "506/506 [==============================] - 1s 2ms/step - loss: 98.3348 - mean_squared_error: 31324600.0000 - mean_absolute_error: 3914.4031 - mean_absolute_percentage_error: 98.3348 - val_loss: 98.0825 - val_mean_squared_error: 30720680.0000 - val_mean_absolute_error: 3855.7834 - val_mean_absolute_percentage_error: 98.0825\n",
            "Epoch 8/1000\n",
            "506/506 [==============================] - 1s 2ms/step - loss: 97.8876 - mean_squared_error: 31271212.0000 - mean_absolute_error: 3907.5720 - mean_absolute_percentage_error: 97.8876 - val_loss: 97.6056 - val_mean_squared_error: 30665542.0000 - val_mean_absolute_error: 3848.6272 - val_mean_absolute_percentage_error: 97.6056\n",
            "Epoch 9/1000\n",
            "506/506 [==============================] - 1s 2ms/step - loss: 97.3991 - mean_squared_error: 31213262.0000 - mean_absolute_error: 3900.1213 - mean_absolute_percentage_error: 97.3991 - val_loss: 97.0873 - val_mean_squared_error: 30605732.0000 - val_mean_absolute_error: 3840.8474 - val_mean_absolute_percentage_error: 97.0873\n",
            "Epoch 10/1000\n",
            "506/506 [==============================] - 1s 2ms/step - loss: 96.8711 - mean_squared_error: 31150368.0000 - mean_absolute_error: 3892.0525 - mean_absolute_percentage_error: 96.8711 - val_loss: 96.5301 - val_mean_squared_error: 30541552.0000 - val_mean_absolute_error: 3832.4863 - val_mean_absolute_percentage_error: 96.5301\n",
            "Epoch 11/1000\n",
            "506/506 [==============================] - 1s 2ms/step - loss: 96.3056 - mean_squared_error: 31082834.0000 - mean_absolute_error: 3883.3738 - mean_absolute_percentage_error: 96.3056 - val_loss: 95.9350 - val_mean_squared_error: 30473172.0000 - val_mean_absolute_error: 3823.5547 - val_mean_absolute_percentage_error: 95.9350\n",
            "Epoch 12/1000\n",
            "506/506 [==============================] - 1s 2ms/step - loss: 95.7023 - mean_squared_error: 31011430.0000 - mean_absolute_error: 3874.1653 - mean_absolute_percentage_error: 95.7023 - val_loss: 95.3007 - val_mean_squared_error: 30400466.0000 - val_mean_absolute_error: 3814.0344 - val_mean_absolute_percentage_error: 95.3007\n",
            "Epoch 13/1000\n",
            "506/506 [==============================] - 1s 3ms/step - loss: 95.0618 - mean_squared_error: 30935606.0000 - mean_absolute_error: 3864.3625 - mean_absolute_percentage_error: 95.0618 - val_loss: 94.6292 - val_mean_squared_error: 30323698.0000 - val_mean_absolute_error: 3803.9565 - val_mean_absolute_percentage_error: 94.6292\n",
            "Epoch 14/1000\n",
            "506/506 [==============================] - 1s 3ms/step - loss: 94.3840 - mean_squared_error: 30855672.0000 - mean_absolute_error: 3854.0146 - mean_absolute_percentage_error: 94.3840 - val_loss: 93.9204 - val_mean_squared_error: 30242882.0000 - val_mean_absolute_error: 3793.3191 - val_mean_absolute_percentage_error: 93.9204\n",
            "Epoch 15/1000\n",
            "506/506 [==============================] - 1s 3ms/step - loss: 93.6693 - mean_squared_error: 30771778.0000 - mean_absolute_error: 3843.1042 - mean_absolute_percentage_error: 93.6693 - val_loss: 93.1743 - val_mean_squared_error: 30158058.0000 - val_mean_absolute_error: 3782.1196 - val_mean_absolute_percentage_error: 93.1743\n",
            "Epoch 16/1000\n",
            "506/506 [==============================] - 1s 3ms/step - loss: 92.9184 - mean_squared_error: 30683476.0000 - mean_absolute_error: 3831.6025 - mean_absolute_percentage_error: 92.9184 - val_loss: 92.3905 - val_mean_squared_error: 30069214.0000 - val_mean_absolute_error: 3770.3579 - val_mean_absolute_percentage_error: 92.3905\n",
            "Epoch 17/1000\n",
            "506/506 [==============================] - 1s 3ms/step - loss: 92.1310 - mean_squared_error: 30591760.0000 - mean_absolute_error: 3819.6003 - mean_absolute_percentage_error: 92.1310 - val_loss: 91.5695 - val_mean_squared_error: 29976462.0000 - val_mean_absolute_error: 3758.0376 - val_mean_absolute_percentage_error: 91.5695\n",
            "Epoch 18/1000\n",
            "506/506 [==============================] - 1s 3ms/step - loss: 91.3082 - mean_squared_error: 30495138.0000 - mean_absolute_error: 3806.9700 - mean_absolute_percentage_error: 91.3082 - val_loss: 90.7137 - val_mean_squared_error: 29880084.0000 - val_mean_absolute_error: 3745.1936 - val_mean_absolute_percentage_error: 90.7137\n",
            "Epoch 19/1000\n",
            "506/506 [==============================] - 1s 2ms/step - loss: 90.4494 - mean_squared_error: 30395978.0000 - mean_absolute_error: 3793.8972 - mean_absolute_percentage_error: 90.4494 - val_loss: 89.8200 - val_mean_squared_error: 29779798.0000 - val_mean_absolute_error: 3731.7830 - val_mean_absolute_percentage_error: 89.8200\n",
            "Epoch 20/1000\n",
            "506/506 [==============================] - 1s 2ms/step - loss: 89.5542 - mean_squared_error: 30292134.0000 - mean_absolute_error: 3780.1853 - mean_absolute_percentage_error: 89.5542 - val_loss: 88.8896 - val_mean_squared_error: 29675778.0000 - val_mean_absolute_error: 3717.8162 - val_mean_absolute_percentage_error: 88.8896\n",
            "Epoch 21/1000\n",
            "506/506 [==============================] - 1s 2ms/step - loss: 88.6240 - mean_squared_error: 30184586.0000 - mean_absolute_error: 3765.9580 - mean_absolute_percentage_error: 88.6240 - val_loss: 87.9245 - val_mean_squared_error: 29568280.0000 - val_mean_absolute_error: 3703.3315 - val_mean_absolute_percentage_error: 87.9245\n",
            "Epoch 22/1000\n",
            "506/506 [==============================] - 1s 2ms/step - loss: 87.6578 - mean_squared_error: 30074002.0000 - mean_absolute_error: 3751.2124 - mean_absolute_percentage_error: 87.6578 - val_loss: 86.9219 - val_mean_squared_error: 29457066.0000 - val_mean_absolute_error: 3688.2849 - val_mean_absolute_percentage_error: 86.9219\n",
            "Epoch 23/1000\n",
            "506/506 [==============================] - 1s 2ms/step - loss: 86.6567 - mean_squared_error: 29959048.0000 - mean_absolute_error: 3735.8835 - mean_absolute_percentage_error: 86.6567 - val_loss: 85.8845 - val_mean_squared_error: 29342454.0000 - val_mean_absolute_error: 3672.7134 - val_mean_absolute_percentage_error: 85.8845\n",
            "Epoch 24/1000\n",
            "506/506 [==============================] - 1s 2ms/step - loss: 85.6203 - mean_squared_error: 29840790.0000 - mean_absolute_error: 3720.0273 - mean_absolute_percentage_error: 85.6203 - val_loss: 84.8101 - val_mean_squared_error: 29224288.0000 - val_mean_absolute_error: 3656.5952 - val_mean_absolute_percentage_error: 84.8101\n",
            "Epoch 25/1000\n",
            "506/506 [==============================] - 1s 2ms/step - loss: 84.5491 - mean_squared_error: 29718968.0000 - mean_absolute_error: 3703.6389 - mean_absolute_percentage_error: 84.5491 - val_loss: 83.7009 - val_mean_squared_error: 29102824.0000 - val_mean_absolute_error: 3639.9458 - val_mean_absolute_percentage_error: 83.7009\n",
            "Epoch 26/1000\n",
            "506/506 [==============================] - 1s 2ms/step - loss: 83.4427 - mean_squared_error: 29594056.0000 - mean_absolute_error: 3686.7258 - mean_absolute_percentage_error: 83.4427 - val_loss: 82.5561 - val_mean_squared_error: 28978038.0000 - val_mean_absolute_error: 3622.7671 - val_mean_absolute_percentage_error: 82.5561\n",
            "Epoch 27/1000\n",
            "506/506 [==============================] - 1s 2ms/step - loss: 82.3013 - mean_squared_error: 29465856.0000 - mean_absolute_error: 3669.2729 - mean_absolute_percentage_error: 82.3013 - val_loss: 81.3752 - val_mean_squared_error: 28849940.0000 - val_mean_absolute_error: 3605.0413 - val_mean_absolute_percentage_error: 81.3752\n",
            "Epoch 28/1000\n",
            "506/506 [==============================] - 1s 2ms/step - loss: 81.1242 - mean_squared_error: 29334372.0000 - mean_absolute_error: 3651.2898 - mean_absolute_percentage_error: 81.1242 - val_loss: 80.1586 - val_mean_squared_error: 28718614.0000 - val_mean_absolute_error: 3586.7832 - val_mean_absolute_percentage_error: 80.1586\n",
            "Epoch 29/1000\n",
            "506/506 [==============================] - 1s 2ms/step - loss: 79.9121 - mean_squared_error: 29199278.0000 - mean_absolute_error: 3632.7693 - mean_absolute_percentage_error: 79.9121 - val_loss: 78.9059 - val_mean_squared_error: 28584114.0000 - val_mean_absolute_error: 3567.9829 - val_mean_absolute_percentage_error: 78.9059\n",
            "Epoch 30/1000\n",
            "506/506 [==============================] - 1s 2ms/step - loss: 78.6656 - mean_squared_error: 29060718.0000 - mean_absolute_error: 3613.6685 - mean_absolute_percentage_error: 78.6656 - val_loss: 77.6182 - val_mean_squared_error: 28446582.0000 - val_mean_absolute_error: 3548.6580 - val_mean_absolute_percentage_error: 77.6182\n",
            "Epoch 31/1000\n",
            "506/506 [==============================] - 1s 2ms/step - loss: 77.3860 - mean_squared_error: 28920232.0000 - mean_absolute_error: 3594.1462 - mean_absolute_percentage_error: 77.3860 - val_loss: 76.3007 - val_mean_squared_error: 28306326.0000 - val_mean_absolute_error: 3528.8484 - val_mean_absolute_percentage_error: 76.3007\n",
            "Epoch 32/1000\n",
            "506/506 [==============================] - 1s 2ms/step - loss: 76.0805 - mean_squared_error: 28776424.0000 - mean_absolute_error: 3574.1118 - mean_absolute_percentage_error: 76.0805 - val_loss: 74.9583 - val_mean_squared_error: 28163644.0000 - val_mean_absolute_error: 3508.6057 - val_mean_absolute_percentage_error: 74.9583\n",
            "Epoch 33/1000\n",
            "506/506 [==============================] - 1s 2ms/step - loss: 74.7661 - mean_squared_error: 28630902.0000 - mean_absolute_error: 3553.7488 - mean_absolute_percentage_error: 74.7661 - val_loss: 73.6183 - val_mean_squared_error: 28019484.0000 - val_mean_absolute_error: 3488.1228 - val_mean_absolute_percentage_error: 73.6183\n",
            "Epoch 34/1000\n",
            "506/506 [==============================] - 1s 2ms/step - loss: 73.4535 - mean_squared_error: 28483292.0000 - mean_absolute_error: 3533.1406 - mean_absolute_percentage_error: 73.4535 - val_loss: 72.2932 - val_mean_squared_error: 27874386.0000 - val_mean_absolute_error: 3467.5100 - val_mean_absolute_percentage_error: 72.2932\n",
            "Epoch 35/1000\n",
            "506/506 [==============================] - 1s 2ms/step - loss: 72.1569 - mean_squared_error: 28335276.0000 - mean_absolute_error: 3512.4500 - mean_absolute_percentage_error: 72.1569 - val_loss: 71.0047 - val_mean_squared_error: 27728440.0000 - val_mean_absolute_error: 3446.8711 - val_mean_absolute_percentage_error: 71.0047\n",
            "Epoch 36/1000\n",
            "506/506 [==============================] - 1s 2ms/step - loss: 70.9015 - mean_squared_error: 28187194.0000 - mean_absolute_error: 3491.8003 - mean_absolute_percentage_error: 70.9015 - val_loss: 69.7743 - val_mean_squared_error: 27583174.0000 - val_mean_absolute_error: 3426.4656 - val_mean_absolute_percentage_error: 69.7743\n",
            "Epoch 37/1000\n",
            "506/506 [==============================] - 1s 2ms/step - loss: 69.6987 - mean_squared_error: 28039356.0000 - mean_absolute_error: 3471.3621 - mean_absolute_percentage_error: 69.6987 - val_loss: 68.6033 - val_mean_squared_error: 27437798.0000 - val_mean_absolute_error: 3406.2305 - val_mean_absolute_percentage_error: 68.6033\n",
            "Epoch 38/1000\n",
            "506/506 [==============================] - 1s 3ms/step - loss: 68.5435 - mean_squared_error: 27891952.0000 - mean_absolute_error: 3451.0793 - mean_absolute_percentage_error: 68.5435 - val_loss: 67.4885 - val_mean_squared_error: 27292510.0000 - val_mean_absolute_error: 3386.1819 - val_mean_absolute_percentage_error: 67.4885\n",
            "Epoch 39/1000\n",
            "506/506 [==============================] - 1s 2ms/step - loss: 67.4500 - mean_squared_error: 27745418.0000 - mean_absolute_error: 3431.0962 - mean_absolute_percentage_error: 67.4500 - val_loss: 66.4309 - val_mean_squared_error: 27147080.0000 - val_mean_absolute_error: 3366.3135 - val_mean_absolute_percentage_error: 66.4309\n",
            "Epoch 40/1000\n",
            "506/506 [==============================] - 1s 2ms/step - loss: 66.4169 - mean_squared_error: 27598040.0000 - mean_absolute_error: 3411.1794 - mean_absolute_percentage_error: 66.4169 - val_loss: 65.4428 - val_mean_squared_error: 27003146.0000 - val_mean_absolute_error: 3346.8667 - val_mean_absolute_percentage_error: 65.4428\n",
            "Epoch 41/1000\n",
            "506/506 [==============================] - 1s 2ms/step - loss: 65.4687 - mean_squared_error: 27452196.0000 - mean_absolute_error: 3391.9167 - mean_absolute_percentage_error: 65.4687 - val_loss: 64.5458 - val_mean_squared_error: 26860684.0000 - val_mean_absolute_error: 3327.9724 - val_mean_absolute_percentage_error: 64.5458\n",
            "Epoch 42/1000\n",
            "506/506 [==============================] - 1s 2ms/step - loss: 64.6044 - mean_squared_error: 27308116.0000 - mean_absolute_error: 3373.1172 - mean_absolute_percentage_error: 64.6044 - val_loss: 63.7404 - val_mean_squared_error: 26720694.0000 - val_mean_absolute_error: 3309.7471 - val_mean_absolute_percentage_error: 63.7404\n",
            "Epoch 43/1000\n",
            "506/506 [==============================] - 1s 2ms/step - loss: 63.8180 - mean_squared_error: 27166652.0000 - mean_absolute_error: 3354.9272 - mean_absolute_percentage_error: 63.8180 - val_loss: 63.0149 - val_mean_squared_error: 26581930.0000 - val_mean_absolute_error: 3292.0264 - val_mean_absolute_percentage_error: 63.0149\n",
            "Epoch 44/1000\n",
            "506/506 [==============================] - 1s 2ms/step - loss: 63.1187 - mean_squared_error: 27026246.0000 - mean_absolute_error: 3337.3037 - mean_absolute_percentage_error: 63.1187 - val_loss: 62.3859 - val_mean_squared_error: 26445778.0000 - val_mean_absolute_error: 3275.0576 - val_mean_absolute_percentage_error: 62.3859\n",
            "Epoch 45/1000\n",
            "506/506 [==============================] - 1s 2ms/step - loss: 62.4963 - mean_squared_error: 26888312.0000 - mean_absolute_error: 3320.3254 - mean_absolute_percentage_error: 62.4963 - val_loss: 61.8364 - val_mean_squared_error: 26312110.0000 - val_mean_absolute_error: 3258.7466 - val_mean_absolute_percentage_error: 61.8364\n",
            "Epoch 46/1000\n",
            "506/506 [==============================] - 1s 2ms/step - loss: 61.9422 - mean_squared_error: 26755302.0000 - mean_absolute_error: 3304.1111 - mean_absolute_percentage_error: 61.9422 - val_loss: 61.3552 - val_mean_squared_error: 26180076.0000 - val_mean_absolute_error: 3242.9561 - val_mean_absolute_percentage_error: 61.3552\n",
            "Epoch 47/1000\n",
            "506/506 [==============================] - 1s 2ms/step - loss: 61.4602 - mean_squared_error: 26622026.0000 - mean_absolute_error: 3288.3325 - mean_absolute_percentage_error: 61.4602 - val_loss: 60.9660 - val_mean_squared_error: 26053938.0000 - val_mean_absolute_error: 3228.2659 - val_mean_absolute_percentage_error: 60.9660\n",
            "Epoch 48/1000\n",
            "506/506 [==============================] - 1s 2ms/step - loss: 61.0637 - mean_squared_error: 26497324.0000 - mean_absolute_error: 3273.8040 - mean_absolute_percentage_error: 61.0637 - val_loss: 60.6478 - val_mean_squared_error: 25933226.0000 - val_mean_absolute_error: 3214.5156 - val_mean_absolute_percentage_error: 60.6478\n",
            "Epoch 49/1000\n",
            "506/506 [==============================] - 1s 2ms/step - loss: 60.7474 - mean_squared_error: 26381204.0000 - mean_absolute_error: 3260.6299 - mean_absolute_percentage_error: 60.7474 - val_loss: 60.4044 - val_mean_squared_error: 25821186.0000 - val_mean_absolute_error: 3202.0579 - val_mean_absolute_percentage_error: 60.4044\n",
            "Epoch 50/1000\n",
            "506/506 [==============================] - 1s 2ms/step - loss: 60.4942 - mean_squared_error: 26268162.0000 - mean_absolute_error: 3248.1316 - mean_absolute_percentage_error: 60.4942 - val_loss: 60.2176 - val_mean_squared_error: 25715090.0000 - val_mean_absolute_error: 3190.5237 - val_mean_absolute_percentage_error: 60.2176\n",
            "Epoch 51/1000\n",
            "506/506 [==============================] - 1s 2ms/step - loss: 60.2996 - mean_squared_error: 26162378.0000 - mean_absolute_error: 3236.6873 - mean_absolute_percentage_error: 60.2996 - val_loss: 60.0766 - val_mean_squared_error: 25619108.0000 - val_mean_absolute_error: 3180.2502 - val_mean_absolute_percentage_error: 60.0766\n",
            "Epoch 52/1000\n",
            "506/506 [==============================] - 1s 2ms/step - loss: 60.1519 - mean_squared_error: 26070738.0000 - mean_absolute_error: 3226.8882 - mean_absolute_percentage_error: 60.1519 - val_loss: 59.9663 - val_mean_squared_error: 25529714.0000 - val_mean_absolute_error: 3170.8003 - val_mean_absolute_percentage_error: 59.9663\n",
            "Epoch 53/1000\n",
            "506/506 [==============================] - 1s 2ms/step - loss: 60.0465 - mean_squared_error: 25986410.0000 - mean_absolute_error: 3218.0481 - mean_absolute_percentage_error: 60.0465 - val_loss: 59.8946 - val_mean_squared_error: 25452172.0000 - val_mean_absolute_error: 3162.7566 - val_mean_absolute_percentage_error: 59.8946\n",
            "Epoch 54/1000\n",
            "506/506 [==============================] - 1s 3ms/step - loss: 59.9751 - mean_squared_error: 25912480.0000 - mean_absolute_error: 3210.4771 - mean_absolute_percentage_error: 59.9751 - val_loss: 59.8476 - val_mean_squared_error: 25387566.0000 - val_mean_absolute_error: 3156.1306 - val_mean_absolute_percentage_error: 59.8476\n",
            "Epoch 55/1000\n",
            "506/506 [==============================] - 1s 2ms/step - loss: 59.9283 - mean_squared_error: 25849036.0000 - mean_absolute_error: 3204.0542 - mean_absolute_percentage_error: 59.9283 - val_loss: 59.8177 - val_mean_squared_error: 25334514.0000 - val_mean_absolute_error: 3150.7454 - val_mean_absolute_percentage_error: 59.8177\n",
            "Epoch 56/1000\n",
            "506/506 [==============================] - 1s 2ms/step - loss: 59.9009 - mean_squared_error: 25802142.0000 - mean_absolute_error: 3199.3555 - mean_absolute_percentage_error: 59.9009 - val_loss: 59.8010 - val_mean_squared_error: 25293080.0000 - val_mean_absolute_error: 3146.5823 - val_mean_absolute_percentage_error: 59.8010\n",
            "Epoch 57/1000\n",
            "506/506 [==============================] - 1s 2ms/step - loss: 59.8830 - mean_squared_error: 25767420.0000 - mean_absolute_error: 3195.8840 - mean_absolute_percentage_error: 59.8830 - val_loss: 59.7906 - val_mean_squared_error: 25257160.0000 - val_mean_absolute_error: 3142.9976 - val_mean_absolute_percentage_error: 59.7906\n",
            "Epoch 58/1000\n",
            "506/506 [==============================] - 1s 2ms/step - loss: 59.8733 - mean_squared_error: 25735824.0000 - mean_absolute_error: 3192.7744 - mean_absolute_percentage_error: 59.8733 - val_loss: 59.7843 - val_mean_squared_error: 25229412.0000 - val_mean_absolute_error: 3140.2388 - val_mean_absolute_percentage_error: 59.7843\n",
            "Epoch 59/1000\n",
            "506/506 [==============================] - 1s 2ms/step - loss: 59.8661 - mean_squared_error: 25706200.0000 - mean_absolute_error: 3189.8716 - mean_absolute_percentage_error: 59.8661 - val_loss: 59.7796 - val_mean_squared_error: 25205316.0000 - val_mean_absolute_error: 3137.8469 - val_mean_absolute_percentage_error: 59.7796\n",
            "Epoch 60/1000\n",
            "506/506 [==============================] - 1s 2ms/step - loss: 59.8614 - mean_squared_error: 25688286.0000 - mean_absolute_error: 3188.1123 - mean_absolute_percentage_error: 59.8614 - val_loss: 59.7783 - val_mean_squared_error: 25191940.0000 - val_mean_absolute_error: 3136.5288 - val_mean_absolute_percentage_error: 59.7783\n",
            "Epoch 61/1000\n",
            "506/506 [==============================] - 1s 2ms/step - loss: 59.8604 - mean_squared_error: 25675788.0000 - mean_absolute_error: 3186.9011 - mean_absolute_percentage_error: 59.8604 - val_loss: 59.7783 - val_mean_squared_error: 25183052.0000 - val_mean_absolute_error: 3135.6580 - val_mean_absolute_percentage_error: 59.7783\n",
            "Epoch 62/1000\n",
            "506/506 [==============================] - 1s 2ms/step - loss: 59.8599 - mean_squared_error: 25670630.0000 - mean_absolute_error: 3186.4021 - mean_absolute_percentage_error: 59.8599 - val_loss: 59.7785 - val_mean_squared_error: 25178620.0000 - val_mean_absolute_error: 3135.2271 - val_mean_absolute_percentage_error: 59.7785\n",
            "Epoch 63/1000\n",
            "506/506 [==============================] - 2s 4ms/step - loss: 59.8597 - mean_squared_error: 25662724.0000 - mean_absolute_error: 3185.6350 - mean_absolute_percentage_error: 59.8597 - val_loss: 59.7787 - val_mean_squared_error: 25173606.0000 - val_mean_absolute_error: 3134.7363 - val_mean_absolute_percentage_error: 59.7787\n",
            "Epoch 64/1000\n",
            "506/506 [==============================] - 1s 2ms/step - loss: 59.8593 - mean_squared_error: 25659928.0000 - mean_absolute_error: 3185.3628 - mean_absolute_percentage_error: 59.8593 - val_loss: 59.7789 - val_mean_squared_error: 25167490.0000 - val_mean_absolute_error: 3134.1404 - val_mean_absolute_percentage_error: 59.7789\n",
            "Epoch 65/1000\n",
            "506/506 [==============================] - 1s 2ms/step - loss: 59.8592 - mean_squared_error: 25653236.0000 - mean_absolute_error: 3184.7168 - mean_absolute_percentage_error: 59.8592 - val_loss: 59.7791 - val_mean_squared_error: 25164710.0000 - val_mean_absolute_error: 3133.8687 - val_mean_absolute_percentage_error: 59.7791\n",
            "Epoch 66/1000\n",
            "506/506 [==============================] - 1s 2ms/step - loss: 59.8592 - mean_squared_error: 25649120.0000 - mean_absolute_error: 3184.3228 - mean_absolute_percentage_error: 59.8592 - val_loss: 59.7793 - val_mean_squared_error: 25161980.0000 - val_mean_absolute_error: 3133.6033 - val_mean_absolute_percentage_error: 59.7793\n",
            "Epoch 67/1000\n",
            "506/506 [==============================] - 1s 2ms/step - loss: 59.8590 - mean_squared_error: 25646454.0000 - mean_absolute_error: 3184.0632 - mean_absolute_percentage_error: 59.8590 - val_loss: 59.7794 - val_mean_squared_error: 25159486.0000 - val_mean_absolute_error: 3133.3601 - val_mean_absolute_percentage_error: 59.7794\n",
            "Epoch 68/1000\n",
            "506/506 [==============================] - 1s 3ms/step - loss: 59.8590 - mean_squared_error: 25647830.0000 - mean_absolute_error: 3184.1953 - mean_absolute_percentage_error: 59.8590 - val_loss: 59.7794 - val_mean_squared_error: 25159476.0000 - val_mean_absolute_error: 3133.3599 - val_mean_absolute_percentage_error: 59.7794\n",
            "Epoch 69/1000\n",
            "506/506 [==============================] - 1s 2ms/step - loss: 59.8591 - mean_squared_error: 25645486.0000 - mean_absolute_error: 3183.9709 - mean_absolute_percentage_error: 59.8591 - val_loss: 59.7796 - val_mean_squared_error: 25156982.0000 - val_mean_absolute_error: 3133.1169 - val_mean_absolute_percentage_error: 59.7796\n",
            "Epoch 70/1000\n",
            "506/506 [==============================] - 1s 2ms/step - loss: 59.8590 - mean_squared_error: 25643316.0000 - mean_absolute_error: 3183.7610 - mean_absolute_percentage_error: 59.8590 - val_loss: 59.7797 - val_mean_squared_error: 25155902.0000 - val_mean_absolute_error: 3133.0115 - val_mean_absolute_percentage_error: 59.7797\n",
            "Epoch 71/1000\n",
            "506/506 [==============================] - 1s 2ms/step - loss: 59.8590 - mean_squared_error: 25644540.0000 - mean_absolute_error: 3183.8794 - mean_absolute_percentage_error: 59.8590 - val_loss: 59.7799 - val_mean_squared_error: 25154220.0000 - val_mean_absolute_error: 3132.8481 - val_mean_absolute_percentage_error: 59.7799\n",
            "Epoch 72/1000\n",
            "506/506 [==============================] - 1s 2ms/step - loss: 59.8590 - mean_squared_error: 25643896.0000 - mean_absolute_error: 3183.8181 - mean_absolute_percentage_error: 59.8590 - val_loss: 59.7799 - val_mean_squared_error: 25153618.0000 - val_mean_absolute_error: 3132.7896 - val_mean_absolute_percentage_error: 59.7799\n",
            "Epoch 73/1000\n",
            "506/506 [==============================] - 1s 3ms/step - loss: 59.8590 - mean_squared_error: 25639090.0000 - mean_absolute_error: 3183.3557 - mean_absolute_percentage_error: 59.8590 - val_loss: 59.7801 - val_mean_squared_error: 25151080.0000 - val_mean_absolute_error: 3132.5425 - val_mean_absolute_percentage_error: 59.7801\n",
            "Epoch 74/1000\n",
            "506/506 [==============================] - 1s 2ms/step - loss: 59.8589 - mean_squared_error: 25637718.0000 - mean_absolute_error: 3183.2192 - mean_absolute_percentage_error: 59.8589 - val_loss: 59.7801 - val_mean_squared_error: 25151546.0000 - val_mean_absolute_error: 3132.5884 - val_mean_absolute_percentage_error: 59.7801\n",
            "Epoch 75/1000\n",
            "506/506 [==============================] - 1s 2ms/step - loss: 59.8590 - mean_squared_error: 25643750.0000 - mean_absolute_error: 3183.8020 - mean_absolute_percentage_error: 59.8590 - val_loss: 59.7801 - val_mean_squared_error: 25151152.0000 - val_mean_absolute_error: 3132.5510 - val_mean_absolute_percentage_error: 59.7801\n",
            "Epoch 76/1000\n",
            "506/506 [==============================] - 1s 2ms/step - loss: 59.8589 - mean_squared_error: 25639208.0000 - mean_absolute_error: 3183.3633 - mean_absolute_percentage_error: 59.8589 - val_loss: 59.7802 - val_mean_squared_error: 25149912.0000 - val_mean_absolute_error: 3132.4292 - val_mean_absolute_percentage_error: 59.7802\n",
            "Epoch 77/1000\n",
            "506/506 [==============================] - 1s 2ms/step - loss: 59.8588 - mean_squared_error: 25642364.0000 - mean_absolute_error: 3183.6672 - mean_absolute_percentage_error: 59.8588 - val_loss: 59.7803 - val_mean_squared_error: 25149286.0000 - val_mean_absolute_error: 3132.3682 - val_mean_absolute_percentage_error: 59.7803\n",
            "Epoch 78/1000\n",
            "506/506 [==============================] - 1s 3ms/step - loss: 59.8589 - mean_squared_error: 25638710.0000 - mean_absolute_error: 3183.3167 - mean_absolute_percentage_error: 59.8589 - val_loss: 59.7803 - val_mean_squared_error: 25149054.0000 - val_mean_absolute_error: 3132.3459 - val_mean_absolute_percentage_error: 59.7803\n",
            "Epoch 79/1000\n",
            "506/506 [==============================] - 1s 3ms/step - loss: 59.8590 - mean_squared_error: 25637518.0000 - mean_absolute_error: 3183.2014 - mean_absolute_percentage_error: 59.8590 - val_loss: 59.7803 - val_mean_squared_error: 25149256.0000 - val_mean_absolute_error: 3132.3643 - val_mean_absolute_percentage_error: 59.7803\n",
            "Epoch 80/1000\n",
            "506/506 [==============================] - 1s 2ms/step - loss: 59.8589 - mean_squared_error: 25636862.0000 - mean_absolute_error: 3183.1392 - mean_absolute_percentage_error: 59.8589 - val_loss: 59.7805 - val_mean_squared_error: 25147300.0000 - val_mean_absolute_error: 3132.1738 - val_mean_absolute_percentage_error: 59.7805\n",
            "Epoch 81/1000\n",
            "506/506 [==============================] - 1s 2ms/step - loss: 59.8588 - mean_squared_error: 25638974.0000 - mean_absolute_error: 3183.3411 - mean_absolute_percentage_error: 59.8588 - val_loss: 59.7804 - val_mean_squared_error: 25148376.0000 - val_mean_absolute_error: 3132.2788 - val_mean_absolute_percentage_error: 59.7804\n",
            "Epoch 82/1000\n",
            "506/506 [==============================] - 1s 2ms/step - loss: 59.8589 - mean_squared_error: 25632746.0000 - mean_absolute_error: 3182.7424 - mean_absolute_percentage_error: 59.8589 - val_loss: 59.7806 - val_mean_squared_error: 25146180.0000 - val_mean_absolute_error: 3132.0659 - val_mean_absolute_percentage_error: 59.7806\n",
            "Epoch 83/1000\n",
            "506/506 [==============================] - 1s 2ms/step - loss: 59.8589 - mean_squared_error: 25640150.0000 - mean_absolute_error: 3183.4585 - mean_absolute_percentage_error: 59.8589 - val_loss: 59.7805 - val_mean_squared_error: 25146870.0000 - val_mean_absolute_error: 3132.1338 - val_mean_absolute_percentage_error: 59.7805\n",
            "Epoch 84/1000\n",
            "506/506 [==============================] - 1s 2ms/step - loss: 59.8588 - mean_squared_error: 25634674.0000 - mean_absolute_error: 3182.9282 - mean_absolute_percentage_error: 59.8588 - val_loss: 59.7806 - val_mean_squared_error: 25145596.0000 - val_mean_absolute_error: 3132.0083 - val_mean_absolute_percentage_error: 59.7806\n",
            "Epoch 85/1000\n",
            "506/506 [==============================] - 1s 2ms/step - loss: 59.8589 - mean_squared_error: 25635138.0000 - mean_absolute_error: 3182.9712 - mean_absolute_percentage_error: 59.8589 - val_loss: 59.7805 - val_mean_squared_error: 25147518.0000 - val_mean_absolute_error: 3132.1960 - val_mean_absolute_percentage_error: 59.7805\n",
            "Epoch 86/1000\n",
            "506/506 [==============================] - 1s 3ms/step - loss: 59.8590 - mean_squared_error: 25637602.0000 - mean_absolute_error: 3183.2080 - mean_absolute_percentage_error: 59.8590 - val_loss: 59.7806 - val_mean_squared_error: 25145654.0000 - val_mean_absolute_error: 3132.0144 - val_mean_absolute_percentage_error: 59.7806\n",
            "Epoch 87/1000\n",
            "506/506 [==============================] - 1s 2ms/step - loss: 59.8588 - mean_squared_error: 25629968.0000 - mean_absolute_error: 3182.4744 - mean_absolute_percentage_error: 59.8588 - val_loss: 59.7806 - val_mean_squared_error: 25145618.0000 - val_mean_absolute_error: 3132.0107 - val_mean_absolute_percentage_error: 59.7806\n",
            "Epoch 88/1000\n",
            "506/506 [==============================] - 1s 3ms/step - loss: 59.8588 - mean_squared_error: 25632272.0000 - mean_absolute_error: 3182.6985 - mean_absolute_percentage_error: 59.8588 - val_loss: 59.7805 - val_mean_squared_error: 25147164.0000 - val_mean_absolute_error: 3132.1611 - val_mean_absolute_percentage_error: 59.7805\n",
            "Epoch 89/1000\n",
            "506/506 [==============================] - 1s 2ms/step - loss: 59.8588 - mean_squared_error: 25633888.0000 - mean_absolute_error: 3182.8528 - mean_absolute_percentage_error: 59.8588 - val_loss: 59.7806 - val_mean_squared_error: 25145808.0000 - val_mean_absolute_error: 3132.0273 - val_mean_absolute_percentage_error: 59.7806\n",
            "Epoch 90/1000\n",
            "506/506 [==============================] - 1s 2ms/step - loss: 59.8590 - mean_squared_error: 25630330.0000 - mean_absolute_error: 3182.5090 - mean_absolute_percentage_error: 59.8590 - val_loss: 59.7806 - val_mean_squared_error: 25145676.0000 - val_mean_absolute_error: 3132.0159 - val_mean_absolute_percentage_error: 59.7806\n",
            "Epoch 91/1000\n",
            "506/506 [==============================] - 1s 2ms/step - loss: 59.8588 - mean_squared_error: 25637468.0000 - mean_absolute_error: 3183.1956 - mean_absolute_percentage_error: 59.8588 - val_loss: 59.7806 - val_mean_squared_error: 25145958.0000 - val_mean_absolute_error: 3132.0442 - val_mean_absolute_percentage_error: 59.7806\n",
            "Epoch 92/1000\n",
            "506/506 [==============================] - 1s 3ms/step - loss: 59.8588 - mean_squared_error: 25634656.0000 - mean_absolute_error: 3182.9255 - mean_absolute_percentage_error: 59.8588 - val_loss: 59.7807 - val_mean_squared_error: 25145008.0000 - val_mean_absolute_error: 3131.9514 - val_mean_absolute_percentage_error: 59.7807\n",
            "Epoch 93/1000\n",
            "506/506 [==============================] - 1s 2ms/step - loss: 59.8589 - mean_squared_error: 25632988.0000 - mean_absolute_error: 3182.7634 - mean_absolute_percentage_error: 59.8589 - val_loss: 59.7808 - val_mean_squared_error: 25144028.0000 - val_mean_absolute_error: 3131.8555 - val_mean_absolute_percentage_error: 59.7808\n",
            "Epoch 94/1000\n",
            "506/506 [==============================] - 1s 2ms/step - loss: 59.8590 - mean_squared_error: 25632158.0000 - mean_absolute_error: 3182.6860 - mean_absolute_percentage_error: 59.8590 - val_loss: 59.7808 - val_mean_squared_error: 25143450.0000 - val_mean_absolute_error: 3131.8010 - val_mean_absolute_percentage_error: 59.7808\n",
            "Epoch 95/1000\n",
            "506/506 [==============================] - 1s 2ms/step - loss: 59.8589 - mean_squared_error: 25631608.0000 - mean_absolute_error: 3182.6323 - mean_absolute_percentage_error: 59.8589 - val_loss: 59.7808 - val_mean_squared_error: 25143860.0000 - val_mean_absolute_error: 3131.8403 - val_mean_absolute_percentage_error: 59.7808\n",
            "Epoch 96/1000\n",
            "506/506 [==============================] - 1s 2ms/step - loss: 59.8588 - mean_squared_error: 25633684.0000 - mean_absolute_error: 3182.8333 - mean_absolute_percentage_error: 59.8588 - val_loss: 59.7808 - val_mean_squared_error: 25144432.0000 - val_mean_absolute_error: 3131.8953 - val_mean_absolute_percentage_error: 59.7808\n",
            "Epoch 97/1000\n",
            "506/506 [==============================] - 1s 2ms/step - loss: 59.8588 - mean_squared_error: 25631592.0000 - mean_absolute_error: 3182.6313 - mean_absolute_percentage_error: 59.8588 - val_loss: 59.7808 - val_mean_squared_error: 25143826.0000 - val_mean_absolute_error: 3131.8364 - val_mean_absolute_percentage_error: 59.7808\n",
            "Epoch 98/1000\n",
            "506/506 [==============================] - 1s 2ms/step - loss: 59.8588 - mean_squared_error: 25630456.0000 - mean_absolute_error: 3182.5225 - mean_absolute_percentage_error: 59.8588 - val_loss: 59.7807 - val_mean_squared_error: 25144812.0000 - val_mean_absolute_error: 3131.9341 - val_mean_absolute_percentage_error: 59.7807\n",
            "Epoch 99/1000\n",
            "506/506 [==============================] - 1s 2ms/step - loss: 59.8589 - mean_squared_error: 25630672.0000 - mean_absolute_error: 3182.5413 - mean_absolute_percentage_error: 59.8589 - val_loss: 59.7807 - val_mean_squared_error: 25145320.0000 - val_mean_absolute_error: 3131.9829 - val_mean_absolute_percentage_error: 59.7807\n",
            "Epoch 100/1000\n",
            "506/506 [==============================] - 1s 2ms/step - loss: 59.8589 - mean_squared_error: 25629910.0000 - mean_absolute_error: 3182.4697 - mean_absolute_percentage_error: 59.8589 - val_loss: 59.7808 - val_mean_squared_error: 25144280.0000 - val_mean_absolute_error: 3131.8801 - val_mean_absolute_percentage_error: 59.7808\n",
            "Epoch 101/1000\n",
            "506/506 [==============================] - 1s 2ms/step - loss: 59.8588 - mean_squared_error: 25631026.0000 - mean_absolute_error: 3182.5754 - mean_absolute_percentage_error: 59.8588 - val_loss: 59.7806 - val_mean_squared_error: 25145654.0000 - val_mean_absolute_error: 3132.0144 - val_mean_absolute_percentage_error: 59.7806\n",
            "Epoch 102/1000\n",
            "506/506 [==============================] - 1s 3ms/step - loss: 59.8589 - mean_squared_error: 25633704.0000 - mean_absolute_error: 3182.8325 - mean_absolute_percentage_error: 59.8589 - val_loss: 59.7806 - val_mean_squared_error: 25145402.0000 - val_mean_absolute_error: 3131.9893 - val_mean_absolute_percentage_error: 59.7806\n",
            "Epoch 103/1000\n",
            "506/506 [==============================] - 1s 2ms/step - loss: 59.8589 - mean_squared_error: 25633140.0000 - mean_absolute_error: 3182.7773 - mean_absolute_percentage_error: 59.8589 - val_loss: 59.7806 - val_mean_squared_error: 25145358.0000 - val_mean_absolute_error: 3131.9866 - val_mean_absolute_percentage_error: 59.7806\n",
            "Epoch 104/1000\n",
            "506/506 [==============================] - 1s 2ms/step - loss: 59.8589 - mean_squared_error: 25635676.0000 - mean_absolute_error: 3183.0269 - mean_absolute_percentage_error: 59.8589 - val_loss: 59.7808 - val_mean_squared_error: 25144344.0000 - val_mean_absolute_error: 3131.8857 - val_mean_absolute_percentage_error: 59.7808\n",
            "Epoch 105/1000\n",
            "506/506 [==============================] - 1s 3ms/step - loss: 59.8588 - mean_squared_error: 25637460.0000 - mean_absolute_error: 3183.1970 - mean_absolute_percentage_error: 59.8588 - val_loss: 59.7807 - val_mean_squared_error: 25144928.0000 - val_mean_absolute_error: 3131.9424 - val_mean_absolute_percentage_error: 59.7807\n",
            "Epoch 106/1000\n",
            "506/506 [==============================] - 1s 2ms/step - loss: 59.8589 - mean_squared_error: 25632920.0000 - mean_absolute_error: 3182.7620 - mean_absolute_percentage_error: 59.8589 - val_loss: 59.7808 - val_mean_squared_error: 25143796.0000 - val_mean_absolute_error: 3131.8333 - val_mean_absolute_percentage_error: 59.7808\n",
            "Epoch 107/1000\n",
            "506/506 [==============================] - 1s 2ms/step - loss: 59.8589 - mean_squared_error: 25634972.0000 - mean_absolute_error: 3182.9570 - mean_absolute_percentage_error: 59.8589 - val_loss: 59.7809 - val_mean_squared_error: 25143192.0000 - val_mean_absolute_error: 3131.7744 - val_mean_absolute_percentage_error: 59.7809\n",
            "Epoch 108/1000\n",
            "506/506 [==============================] - 1s 2ms/step - loss: 59.8589 - mean_squared_error: 25635502.0000 - mean_absolute_error: 3183.0076 - mean_absolute_percentage_error: 59.8589 - val_loss: 59.7807 - val_mean_squared_error: 25145302.0000 - val_mean_absolute_error: 3131.9812 - val_mean_absolute_percentage_error: 59.7807\n",
            "Epoch 109/1000\n",
            "506/506 [==============================] - 1s 2ms/step - loss: 59.8588 - mean_squared_error: 25632536.0000 - mean_absolute_error: 3182.7222 - mean_absolute_percentage_error: 59.8588 - val_loss: 59.7809 - val_mean_squared_error: 25143262.0000 - val_mean_absolute_error: 3131.7810 - val_mean_absolute_percentage_error: 59.7809\n",
            "422/422 [==============================] - 0s 1ms/step - loss: 59.8758 - mean_squared_error: 25404962.0000 - mean_absolute_error: 3186.8384 - mean_absolute_percentage_error: 59.8758\n",
            "[59.87583541870117, 25404962.0, 3186.83837890625, 59.87583541870117]\n"
          ]
        },
        {
          "data": {
            "image/png": "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",
            "text/plain": [
              "<Figure size 432x288 with 1 Axes>"
            ]
          },
          "metadata": {
            "needs_background": "light"
          },
          "output_type": "display_data"
        }
      ],
      "source": [
        "#Taper Deep Model\n",
        "normalizer = tf.keras.layers.Normalization(axis=-1)\n",
        "normalizer.adapt(np.array(X_tr_ex))\n",
        "\n",
        "mod_ex = keras.Sequential()\n",
        "mod_ex.add(normalizer)\n",
        "mod_ex.add(InputLayer(input_shape=(start_width,)))\n",
        "mod_ex.add(Dense(start_width, activation='relu'))\n",
        "mod_ex.add(Dense(start_width, activation='relu'))\n",
        "mod_ex.add(Dense(start_width, activation='relu'))\n",
        "mod_ex.add(Dense(start_width/2, activation='relu'))\n",
        "mod_ex.add(Dense(start_width/2, activation='relu'))\n",
        "mod_ex.add(Dense(start_width/2, activation='relu'))\n",
        "mod_ex.add(Dense(start_width/2, activation='relu'))\n",
        "mod_ex.add(Dense(start_width/2, activation='relu'))\n",
        "mod_ex.add(Dense(start_width/3, activation='relu'))\n",
        "mod_ex.add(Dense(start_width/3, activation='relu'))\n",
        "mod_ex.add(Dense(start_width/3, activation='relu'))\n",
        "mod_ex.add(Dense(start_width/3, activation='relu'))\n",
        "mod_ex.add(Dense(start_width/4, activation='relu'))\n",
        "mod_ex.add(Dense(start_width/4, activation='relu'))\n",
        "mod_ex.add(Dense(start_width/4, activation='relu'))\n",
        "mod_ex.add(Dense(1))\n",
        "\n",
        "mod_ex.compile(optimizer='adam', loss=\"mean_absolute_percentage_error\", metrics=[metrics.mean_squared_error, \n",
        "                                                                        metrics.mean_absolute_error, \n",
        "                                                                        metrics.mean_absolute_percentage_error])\n",
        "\n",
        "callback = tf.keras.callbacks.EarlyStopping(monitor='loss', patience=20, restore_best_weights=True) \n",
        "\n",
        "hist_ex = mod_ex.fit(\n",
        "  X_tr_ex,\n",
        "  y_tr_ex,\n",
        "  epochs=1000,\n",
        "  batch_size=64,\n",
        "  validation_split=0.2,\n",
        "  callbacks=[callback],\n",
        "  verbose=1\n",
        ")\n",
        "print(mod_ex.evaluate(X_te_ex, y_te_ex))\n",
        "plot_loss(hist_ex)"
      ]
    }
  ],
  "metadata": {
    "accelerator": "GPU",
    "colab": {
      "name": "keras_optimizations_sol.ipynb",
      "provenance": []
    },
    "kernelspec": {
      "display_name": "Python 3.9.7 ('ml3950')",
      "language": "python",
      "name": "python3"
    },
    "language_info": {
      "codemirror_mode": {
        "name": "ipython",
        "version": 3
      },
      "file_extension": ".py",
      "mimetype": "text/x-python",
      "name": "python",
      "nbconvert_exporter": "python",
      "pygments_lexer": "ipython3",
      "version": "3.9.12"
    },
    "orig_nbformat": 4,
    "vscode": {
      "interpreter": {
        "hash": "4d722d3adfa415172c1f5238b519fb86b488acdae450fd691ab06c09f4ca9173"
      }
    }
  },
  "nbformat": 4,
  "nbformat_minor": 0
}
